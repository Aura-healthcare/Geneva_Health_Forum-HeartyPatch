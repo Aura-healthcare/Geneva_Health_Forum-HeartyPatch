{
 "metadata": {
  "language_info": {
   "codemirror_mode": {
    "name": "ipython",
    "version": 3
   },
   "file_extension": ".py",
   "mimetype": "text/x-python",
   "name": "python",
   "nbconvert_exporter": "python",
   "pygments_lexer": "ipython3",
   "version": "3.7.7-final"
  },
  "orig_nbformat": 2,
  "kernelspec": {
   "name": "python3",
   "display_name": "Python 3"
  }
 },
 "nbformat": 4,
 "nbformat_minor": 2,
 "cells": [
  {
   "cell_type": "code",
   "execution_count": 1,
   "metadata": {},
   "outputs": [],
   "source": [
    "import numpy as np\n",
    "import pandas as pd\n",
    "import plotly.express as px\n",
    "\n",
    "\n",
    "class generate_graph_data_handler():\n",
    "\n",
    "    def __init__(self, df_ecg: pd.DataFrame, time_window: int):\n",
    "\n",
    "        self.df_graph_data = df_ecg\n",
    "        self.df_graph_data_stream = df_ecg\n",
    "        self.time_window = time_window\n",
    "        self.starting_frame = 0\n",
    "        self.ending_frame = self.starting_frame + self.time_window\n",
    "        self.x_axis = np.arange(self.starting_frame, self.ending_frame+1)\n",
    "\n",
    "        self.y_axis = self.df_graph_data['ECG'].\\\n",
    "            loc[self.starting_frame:self.ending_frame]\n",
    "        # Padding for\n",
    "        temp_list = np.zeros(self.time_window + 1)\n",
    "        temp_list[:len(self.y_axis)] = self.y_axis\n",
    "        self.y_axis = temp_list\n",
    "\n",
    "    def update_graph_data(self, df_ecg: pd.DataFrame, time_window: int) \\\n",
    "            -> [np.array, np.array]:\n",
    "\n",
    "        self.df_graph_data = df_ecg\n",
    "        self.time_window = time_window\n",
    "\n",
    "        # If data displayed in graph reach the right\n",
    "        if (self.df_graph_data.index[-1:][0] - (\n",
    "                                                self.starting_frame)) >= (\n",
    "                                                self.time_window):\n",
    "            self.starting_frame += self.time_window\n",
    "            self.ending_frame = self.starting_frame + self.time_window\n",
    "            self.x_axis = np.arange(self.starting_frame,\n",
    "                                    self.starting_frame + self.time_window+1)\n",
    "\n",
    "        # Update of y_axis and padding\n",
    "        self.y_axis = self.df_graph_data['ECG'].\\\n",
    "            loc[self.starting_frame:self.ending_frame].values\n",
    "        temp_list = np.zeros(self.time_window + 1)\n",
    "        temp_list[:len(self.y_axis)] = self.y_axis\n",
    "        self.y_axis = temp_list\n",
    "\n",
    "\n",
    "        return self.x_axis, self.y_axis\n",
    "\n",
    "    def update_graph_data_stream(self, df_ecg: pd.DataFrame, stream_count: int) \\\n",
    "            -> [np.array, np.array]:\n",
    "\n",
    "        self.df_graph_data_stream = df_ecg\n",
    "        self.stream_count = stream_count\n",
    "        print(self.time_window)\n",
    "\n",
    "        # Update of y_axis and padding\n",
    "        # self.y_axis = self.df_graph_data['ECG'].\\\n",
    "        #    loc[self.starting_frame:self.ending_frame].values\n",
    "\n",
    "        temp_list = np.zeros(self.time_window + 1)\n",
    "        for i in range(self.time_window + 1):\n",
    "            temp_list[i] = df_ecg['ECG'].loc[int(round(stream_count / self.time_window, 0))]\n",
    "        self.df_graph_data_stream = self.df_graph_data_stream.append({'ECG': temp_list}, ignore_index=True)\n",
    "        \n",
    "        # If data displayed in graph reach the right\n",
    "        if (self.df_graph_data_stream.index[-1:][0] - (\n",
    "                                                self.starting_frame)) >= (\n",
    "                                                self.time_window):\n",
    "            self.starting_frame += self.time_window\n",
    "            self.ending_frame = self.starting_frame + self.time_window\n",
    "            self.x_axis = np.arange(self.starting_frame,\n",
    "                                    self.starting_frame + self.time_window+1)\n",
    "\n",
    "            print('x_axis_len:{}'.format(len(self.x_axis)))\n",
    "\n",
    "        # Update of y_axis and padding\n",
    "            self.y_axis = self.df_graph_data_stream['ECG'].\\\n",
    "            loc[self.starting_frame:self.ending_frame].values\n",
    "            #print(self.y_axis)\n",
    "            temp_list = np.zeros(self.time_window + 1)\n",
    "            temp_list[:len(self.y_axis)] = self.y_axis[:len(self.y_axis)]\n",
    "            print(temp_list)\n",
    "            #self.y_axis = temp_list\n",
    "\n",
    "        return self.x_axis, self.y_axis\n",
    "\n",
    "    def reinitialize(self):\n",
    "\n",
    "        self.starting_frame = 0\n",
    "        self.ending_frame = self.starting_frame + self.time_window\n",
    "        self.x_axis = np.arange(self.starting_frame, self.ending_frame+1)\n",
    "        self.y_axis = np.zeros(self.time_window + 1)\n",
    "\n",
    "\n",
    "def graph_generation(chart, x, y, slider_y_axis, data_freq):\n",
    "    fig = px.line(x=x*data_freq,\n",
    "                  y=y,\n",
    "                  title='Live EEG',\n",
    "                  range_y=slider_y_axis,\n",
    "                  color_discrete_sequence=['green'],\n",
    "                  render_mode='svg',\n",
    "                  template='plotly_white',\n",
    "                  height=600,\n",
    "                  labels={'x': 'seconds', 'y': 'ECG value'})\n",
    "    chart.empty()\n",
    "    chart.plotly_chart(figure_or_data=fig)\n"
   ]
  },
  {
   "cell_type": "code",
   "execution_count": 12,
   "metadata": {},
   "outputs": [
    {
     "output_type": "execute_result",
     "data": {
      "text/plain": [
       "              ECG      duration\n",
       "0  [0, 2, 54, 43]           NaN\n",
       "1             NaN  [0, 1, 2, 3]"
      ],
      "text/html": "<div>\n<style scoped>\n    .dataframe tbody tr th:only-of-type {\n        vertical-align: middle;\n    }\n\n    .dataframe tbody tr th {\n        vertical-align: top;\n    }\n\n    .dataframe thead th {\n        text-align: right;\n    }\n</style>\n<table border=\"1\" class=\"dataframe\">\n  <thead>\n    <tr style=\"text-align: right;\">\n      <th></th>\n      <th>ECG</th>\n      <th>duration</th>\n    </tr>\n  </thead>\n  <tbody>\n    <tr>\n      <th>0</th>\n      <td>[0, 2, 54, 43]</td>\n      <td>NaN</td>\n    </tr>\n    <tr>\n      <th>1</th>\n      <td>NaN</td>\n      <td>[0, 1, 2, 3]</td>\n    </tr>\n  </tbody>\n</table>\n</div>"
     },
     "metadata": {},
     "execution_count": 12
    }
   ],
   "source": [
    "temp_df = pd.DataFrame()\n",
    "temp_df = temp_df.append({'ECG': [0,2,54,43]}, ignore_index=True)\n",
    "temp_df = temp_df.append({'duration': [0,1,2,3]}, ignore_index=True)\n",
    "temp_df.head()"
   ]
  },
  {
   "cell_type": "code",
   "execution_count": 19,
   "metadata": {},
   "outputs": [],
   "source": []
  },
  {
   "cell_type": "code",
   "execution_count": 20,
   "metadata": {},
   "outputs": [
    {
     "output_type": "execute_result",
     "data": {
      "text/plain": [
       "   ECG  duration\n",
       "0    0         0\n",
       "1    2         1\n",
       "2   54         2\n",
       "3   43         3"
      ],
      "text/html": "<div>\n<style scoped>\n    .dataframe tbody tr th:only-of-type {\n        vertical-align: middle;\n    }\n\n    .dataframe tbody tr th {\n        vertical-align: top;\n    }\n\n    .dataframe thead th {\n        text-align: right;\n    }\n</style>\n<table border=\"1\" class=\"dataframe\">\n  <thead>\n    <tr style=\"text-align: right;\">\n      <th></th>\n      <th>ECG</th>\n      <th>duration</th>\n    </tr>\n  </thead>\n  <tbody>\n    <tr>\n      <th>0</th>\n      <td>0</td>\n      <td>0</td>\n    </tr>\n    <tr>\n      <th>1</th>\n      <td>2</td>\n      <td>1</td>\n    </tr>\n    <tr>\n      <th>2</th>\n      <td>54</td>\n      <td>2</td>\n    </tr>\n    <tr>\n      <th>3</th>\n      <td>43</td>\n      <td>3</td>\n    </tr>\n  </tbody>\n</table>\n</div>"
     },
     "metadata": {},
     "execution_count": 20
    }
   ],
   "source": [
    "temp_df"
   ]
  },
  {
   "cell_type": "code",
   "execution_count": 34,
   "metadata": {},
   "outputs": [
    {
     "output_type": "execute_result",
     "data": {
      "text/plain": [
       "2    2\n",
       "3    3\n",
       "6    2\n",
       "7    3\n",
       "Name: duration, dtype: int64"
      ]
     },
     "metadata": {},
     "execution_count": 34
    }
   ],
   "source": [
    "temp_df['duration'][temp_df['duration'] > 1]"
   ]
  },
  {
   "cell_type": "code",
   "execution_count": 69,
   "metadata": {},
   "outputs": [],
   "source": [
    "x = [0,1,2,3]\n",
    "y = [2,3,4,4]"
   ]
  },
  {
   "cell_type": "code",
   "execution_count": 81,
   "metadata": {},
   "outputs": [
    {
     "output_type": "execute_result",
     "data": {
      "text/plain": [
       "20"
      ]
     },
     "metadata": {},
     "execution_count": 81
    }
   ],
   "source": [
    "(24 - (24 % 10))"
   ]
  },
  {
   "cell_type": "code",
   "execution_count": null,
   "metadata": {},
   "outputs": [],
   "source": [
    "df"
   ]
  },
  {
   "cell_type": "code",
   "execution_count": 76,
   "metadata": {},
   "outputs": [
    {
     "output_type": "execute_result",
     "data": {
      "text/plain": [
       "array([1.  , 1.01, 1.02, 1.03, 1.04, 1.05, 1.06, 1.07, 1.08, 1.09, 1.1 ,\n",
       "       1.11, 1.12, 1.13, 1.14, 1.15, 1.16, 1.17, 1.18, 1.19, 1.2 , 1.21,\n",
       "       1.22, 1.23, 1.24, 1.25, 1.26, 1.27, 1.28, 1.29, 1.3 , 1.31, 1.32,\n",
       "       1.33, 1.34, 1.35, 1.36, 1.37, 1.38, 1.39, 1.4 , 1.41, 1.42, 1.43,\n",
       "       1.44, 1.45, 1.46, 1.47, 1.48, 1.49, 1.5 , 1.51, 1.52, 1.53, 1.54,\n",
       "       1.55, 1.56, 1.57, 1.58, 1.59, 1.6 , 1.61, 1.62, 1.63, 1.64, 1.65,\n",
       "       1.66, 1.67, 1.68, 1.69, 1.7 , 1.71, 1.72, 1.73, 1.74, 1.75, 1.76,\n",
       "       1.77, 1.78, 1.79, 1.8 , 1.81, 1.82, 1.83, 1.84, 1.85, 1.86, 1.87,\n",
       "       1.88, 1.89, 1.9 , 1.91, 1.92, 1.93, 1.94, 1.95, 1.96, 1.97, 1.98,\n",
       "       1.99])"
      ]
     },
     "metadata": {},
     "execution_count": 76
    }
   ],
   "source": [
    "1 + np.arange(0,1,0.01)"
   ]
  },
  {
   "cell_type": "code",
   "execution_count": 72,
   "metadata": {},
   "outputs": [
    {
     "output_type": "execute_result",
     "data": {
      "text/plain": [
       "[0, 1, 2, 3, 2, 3, 4, 4]"
      ]
     },
     "metadata": {},
     "execution_count": 72
    }
   ],
   "source": [
    "[*x, *y]"
   ]
  },
  {
   "cell_type": "code",
   "execution_count": 82,
   "metadata": {},
   "outputs": [
    {
     "output_type": "execute_result",
     "data": {
      "text/plain": [
       "   ECG  duration\n",
       "0  0.0         3\n",
       "1  0.0         4\n",
       "2  0.0         5\n",
       "3  0.0         6\n",
       "4  0.0         7\n",
       "5  0.0         8\n",
       "6  0.0         9\n",
       "7  0.0        10"
      ],
      "text/html": "<div>\n<style scoped>\n    .dataframe tbody tr th:only-of-type {\n        vertical-align: middle;\n    }\n\n    .dataframe tbody tr th {\n        vertical-align: top;\n    }\n\n    .dataframe thead th {\n        text-align: right;\n    }\n</style>\n<table border=\"1\" class=\"dataframe\">\n  <thead>\n    <tr style=\"text-align: right;\">\n      <th></th>\n      <th>ECG</th>\n      <th>duration</th>\n    </tr>\n  </thead>\n  <tbody>\n    <tr>\n      <th>0</th>\n      <td>0.0</td>\n      <td>3</td>\n    </tr>\n    <tr>\n      <th>1</th>\n      <td>0.0</td>\n      <td>4</td>\n    </tr>\n    <tr>\n      <th>2</th>\n      <td>0.0</td>\n      <td>5</td>\n    </tr>\n    <tr>\n      <th>3</th>\n      <td>0.0</td>\n      <td>6</td>\n    </tr>\n    <tr>\n      <th>4</th>\n      <td>0.0</td>\n      <td>7</td>\n    </tr>\n    <tr>\n      <th>5</th>\n      <td>0.0</td>\n      <td>8</td>\n    </tr>\n    <tr>\n      <th>6</th>\n      <td>0.0</td>\n      <td>9</td>\n    </tr>\n    <tr>\n      <th>7</th>\n      <td>0.0</td>\n      <td>10</td>\n    </tr>\n  </tbody>\n</table>\n</div>"
     },
     "metadata": {},
     "execution_count": 82
    }
   ],
   "source": [
    "if (last_second_display % 1) < 0.50:\n",
    "    round_last_second_display = int(round(last_second_display, 0)) + 1\n",
    "else:\n",
    "    round_last_second_display = int(round(last_second_display, 0))\n",
    "\n",
    "seconds_to_display = 10\n",
    "added_duration = np.arange(round_last_second_display, seconds_to_display + 1, 1)\n",
    "added_ecg  = np.zeros(seconds_to_display - round_last_second_display +1)\n",
    "temp_df = pd.DataFrame({'ECG': added_ecg, 'duration': added_duration})\n",
    "temp_df"
   ]
  },
  {
   "cell_type": "code",
   "execution_count": 91,
   "metadata": {},
   "outputs": [
    {
     "output_type": "execute_result",
     "data": {
      "text/plain": [
       "0    3\n",
       "1    4\n",
       "2    5\n",
       "3    6\n",
       "4    7\n",
       "Name: duration, dtype: int64"
      ]
     },
     "metadata": {},
     "execution_count": 91
    }
   ],
   "source": [
    "temp_df['duration'][(temp_df['duration'] > 2) & (temp_df['duration'] < 8)]"
   ]
  },
  {
   "cell_type": "code",
   "execution_count": 106,
   "metadata": {},
   "outputs": [
    {
     "output_type": "execute_result",
     "data": {
      "text/plain": [
       "          EEG\n",
       "0    -753.664\n",
       "1   -1146.880\n",
       "2    -720.896\n",
       "3    -966.656\n",
       "4    -950.272\n",
       "..        ...\n",
       "643  -933.888\n",
       "644 -1179.648\n",
       "645  -753.664\n",
       "646 -1163.264\n",
       "647  -933.888\n",
       "\n",
       "[648 rows x 1 columns]"
      ],
      "text/html": "<div>\n<style scoped>\n    .dataframe tbody tr th:only-of-type {\n        vertical-align: middle;\n    }\n\n    .dataframe tbody tr th {\n        vertical-align: top;\n    }\n\n    .dataframe thead th {\n        text-align: right;\n    }\n</style>\n<table border=\"1\" class=\"dataframe\">\n  <thead>\n    <tr style=\"text-align: right;\">\n      <th></th>\n      <th>EEG</th>\n    </tr>\n  </thead>\n  <tbody>\n    <tr>\n      <th>0</th>\n      <td>-753.664</td>\n    </tr>\n    <tr>\n      <th>1</th>\n      <td>-1146.880</td>\n    </tr>\n    <tr>\n      <th>2</th>\n      <td>-720.896</td>\n    </tr>\n    <tr>\n      <th>3</th>\n      <td>-966.656</td>\n    </tr>\n    <tr>\n      <th>4</th>\n      <td>-950.272</td>\n    </tr>\n    <tr>\n      <th>...</th>\n      <td>...</td>\n    </tr>\n    <tr>\n      <th>643</th>\n      <td>-933.888</td>\n    </tr>\n    <tr>\n      <th>644</th>\n      <td>-1179.648</td>\n    </tr>\n    <tr>\n      <th>645</th>\n      <td>-753.664</td>\n    </tr>\n    <tr>\n      <th>646</th>\n      <td>-1163.264</td>\n    </tr>\n    <tr>\n      <th>647</th>\n      <td>-933.888</td>\n    </tr>\n  </tbody>\n</table>\n<p>648 rows × 1 columns</p>\n</div>"
     },
     "metadata": {},
     "execution_count": 106
    }
   ],
   "source": [
    "temp_df = pd.read_csv('../df_now.csv')\n",
    "temp_df"
   ]
  },
  {
   "cell_type": "code",
   "execution_count": 112,
   "metadata": {},
   "outputs": [
    {
     "output_type": "execute_result",
     "data": {
      "text/plain": [
       "        ECG\n",
       "0  -819.200\n",
       "1  -802.816\n",
       "2  -802.816\n",
       "3  -802.816\n",
       "4  -819.200\n",
       "..      ...\n",
       "95 -770.048\n",
       "96 -802.816\n",
       "97 -770.048\n",
       "98 -720.896\n",
       "99 -737.280\n",
       "\n",
       "[100 rows x 1 columns]"
      ],
      "text/html": "<div>\n<style scoped>\n    .dataframe tbody tr th:only-of-type {\n        vertical-align: middle;\n    }\n\n    .dataframe tbody tr th {\n        vertical-align: top;\n    }\n\n    .dataframe thead th {\n        text-align: right;\n    }\n</style>\n<table border=\"1\" class=\"dataframe\">\n  <thead>\n    <tr style=\"text-align: right;\">\n      <th></th>\n      <th>ECG</th>\n    </tr>\n  </thead>\n  <tbody>\n    <tr>\n      <th>0</th>\n      <td>-819.200</td>\n    </tr>\n    <tr>\n      <th>1</th>\n      <td>-802.816</td>\n    </tr>\n    <tr>\n      <th>2</th>\n      <td>-802.816</td>\n    </tr>\n    <tr>\n      <th>3</th>\n      <td>-802.816</td>\n    </tr>\n    <tr>\n      <th>4</th>\n      <td>-819.200</td>\n    </tr>\n    <tr>\n      <th>...</th>\n      <td>...</td>\n    </tr>\n    <tr>\n      <th>95</th>\n      <td>-770.048</td>\n    </tr>\n    <tr>\n      <th>96</th>\n      <td>-802.816</td>\n    </tr>\n    <tr>\n      <th>97</th>\n      <td>-770.048</td>\n    </tr>\n    <tr>\n      <th>98</th>\n      <td>-720.896</td>\n    </tr>\n    <tr>\n      <th>99</th>\n      <td>-737.280</td>\n    </tr>\n  </tbody>\n</table>\n<p>100 rows × 1 columns</p>\n</div>"
     },
     "metadata": {},
     "execution_count": 112
    }
   ],
   "source": [
    "temp_df = pd.read_csv('simulation/df_simulation.csv')\n",
    "temp_df[:100]"
   ]
  },
  {
   "cell_type": "code",
   "execution_count": 124,
   "metadata": {},
   "outputs": [
    {
     "output_type": "execute_result",
     "data": {
      "text/plain": [
       "<AxesSubplot:>"
      ]
     },
     "metadata": {},
     "execution_count": 124
    },
    {
     "output_type": "display_data",
     "data": {
      "text/plain": "<Figure size 432x288 with 1 Axes>",
      "image/svg+xml": "<?xml version=\"1.0\" encoding=\"utf-8\" standalone=\"no\"?>\n<!DOCTYPE svg PUBLIC \"-//W3C//DTD SVG 1.1//EN\"\n  \"http://www.w3.org/Graphics/SVG/1.1/DTD/svg11.dtd\">\n<!-- Created with matplotlib (https://matplotlib.org/) -->\n<svg height=\"248.518125pt\" version=\"1.1\" viewBox=\"0 0 390.029687 248.518125\" width=\"390.029687pt\" xmlns=\"http://www.w3.org/2000/svg\" xmlns:xlink=\"http://www.w3.org/1999/xlink\">\n <metadata>\n  <rdf:RDF xmlns:cc=\"http://creativecommons.org/ns#\" xmlns:dc=\"http://purl.org/dc/elements/1.1/\" xmlns:rdf=\"http://www.w3.org/1999/02/22-rdf-syntax-ns#\">\n   <cc:Work>\n    <dc:type rdf:resource=\"http://purl.org/dc/dcmitype/StillImage\"/>\n    <dc:date>2020-11-06T17:44:42.857686</dc:date>\n    <dc:format>image/svg+xml</dc:format>\n    <dc:creator>\n     <cc:Agent>\n      <dc:title>Matplotlib v3.3.2, https://matplotlib.org/</dc:title>\n     </cc:Agent>\n    </dc:creator>\n   </cc:Work>\n  </rdf:RDF>\n </metadata>\n <defs>\n  <style type=\"text/css\">*{stroke-linecap:butt;stroke-linejoin:round;}</style>\n </defs>\n <g id=\"figure_1\">\n  <g id=\"patch_1\">\n   <path d=\"M 0 248.518125 \nL 390.029687 248.518125 \nL 390.029687 0 \nL 0 0 \nz\n\" style=\"fill:none;\"/>\n  </g>\n  <g id=\"axes_1\">\n   <g id=\"patch_2\">\n    <path d=\"M 48.029688 224.64 \nL 382.829688 224.64 \nL 382.829688 7.2 \nL 48.029688 7.2 \nz\n\" style=\"fill:#ffffff;\"/>\n   </g>\n   <g id=\"matplotlib.axis_1\">\n    <g id=\"xtick_1\">\n     <g id=\"line2d_1\">\n      <defs>\n       <path d=\"M 0 0 \nL 0 3.5 \n\" id=\"ma36c15b339\" style=\"stroke:#000000;stroke-width:0.8;\"/>\n      </defs>\n      <g>\n       <use style=\"stroke:#000000;stroke-width:0.8;\" x=\"63.247869\" xlink:href=\"#ma36c15b339\" y=\"224.64\"/>\n      </g>\n     </g>\n     <g id=\"text_1\">\n      <!-- 0 -->\n      <g transform=\"translate(60.066619 239.238437)scale(0.1 -0.1)\">\n       <defs>\n        <path d=\"M 31.78125 66.40625 \nQ 24.171875 66.40625 20.328125 58.90625 \nQ 16.5 51.421875 16.5 36.375 \nQ 16.5 21.390625 20.328125 13.890625 \nQ 24.171875 6.390625 31.78125 6.390625 \nQ 39.453125 6.390625 43.28125 13.890625 \nQ 47.125 21.390625 47.125 36.375 \nQ 47.125 51.421875 43.28125 58.90625 \nQ 39.453125 66.40625 31.78125 66.40625 \nz\nM 31.78125 74.21875 \nQ 44.046875 74.21875 50.515625 64.515625 \nQ 56.984375 54.828125 56.984375 36.375 \nQ 56.984375 17.96875 50.515625 8.265625 \nQ 44.046875 -1.421875 31.78125 -1.421875 \nQ 19.53125 -1.421875 13.0625 8.265625 \nQ 6.59375 17.96875 6.59375 36.375 \nQ 6.59375 54.828125 13.0625 64.515625 \nQ 19.53125 74.21875 31.78125 74.21875 \nz\n\" id=\"DejaVuSans-48\"/>\n       </defs>\n       <use xlink:href=\"#DejaVuSans-48\"/>\n      </g>\n     </g>\n    </g>\n    <g id=\"xtick_2\">\n     <g id=\"line2d_2\">\n      <g>\n       <use style=\"stroke:#000000;stroke-width:0.8;\" x=\"124.735473\" xlink:href=\"#ma36c15b339\" y=\"224.64\"/>\n      </g>\n     </g>\n     <g id=\"text_2\">\n      <!-- 20 -->\n      <g transform=\"translate(118.372973 239.238437)scale(0.1 -0.1)\">\n       <defs>\n        <path d=\"M 19.1875 8.296875 \nL 53.609375 8.296875 \nL 53.609375 0 \nL 7.328125 0 \nL 7.328125 8.296875 \nQ 12.9375 14.109375 22.625 23.890625 \nQ 32.328125 33.6875 34.8125 36.53125 \nQ 39.546875 41.84375 41.421875 45.53125 \nQ 43.3125 49.21875 43.3125 52.78125 \nQ 43.3125 58.59375 39.234375 62.25 \nQ 35.15625 65.921875 28.609375 65.921875 \nQ 23.96875 65.921875 18.8125 64.3125 \nQ 13.671875 62.703125 7.8125 59.421875 \nL 7.8125 69.390625 \nQ 13.765625 71.78125 18.9375 73 \nQ 24.125 74.21875 28.421875 74.21875 \nQ 39.75 74.21875 46.484375 68.546875 \nQ 53.21875 62.890625 53.21875 53.421875 \nQ 53.21875 48.921875 51.53125 44.890625 \nQ 49.859375 40.875 45.40625 35.40625 \nQ 44.1875 33.984375 37.640625 27.21875 \nQ 31.109375 20.453125 19.1875 8.296875 \nz\n\" id=\"DejaVuSans-50\"/>\n       </defs>\n       <use xlink:href=\"#DejaVuSans-50\"/>\n       <use x=\"63.623047\" xlink:href=\"#DejaVuSans-48\"/>\n      </g>\n     </g>\n    </g>\n    <g id=\"xtick_3\">\n     <g id=\"line2d_3\">\n      <g>\n       <use style=\"stroke:#000000;stroke-width:0.8;\" x=\"186.223076\" xlink:href=\"#ma36c15b339\" y=\"224.64\"/>\n      </g>\n     </g>\n     <g id=\"text_3\">\n      <!-- 40 -->\n      <g transform=\"translate(179.860576 239.238437)scale(0.1 -0.1)\">\n       <defs>\n        <path d=\"M 37.796875 64.3125 \nL 12.890625 25.390625 \nL 37.796875 25.390625 \nz\nM 35.203125 72.90625 \nL 47.609375 72.90625 \nL 47.609375 25.390625 \nL 58.015625 25.390625 \nL 58.015625 17.1875 \nL 47.609375 17.1875 \nL 47.609375 0 \nL 37.796875 0 \nL 37.796875 17.1875 \nL 4.890625 17.1875 \nL 4.890625 26.703125 \nz\n\" id=\"DejaVuSans-52\"/>\n       </defs>\n       <use xlink:href=\"#DejaVuSans-52\"/>\n       <use x=\"63.623047\" xlink:href=\"#DejaVuSans-48\"/>\n      </g>\n     </g>\n    </g>\n    <g id=\"xtick_4\">\n     <g id=\"line2d_4\">\n      <g>\n       <use style=\"stroke:#000000;stroke-width:0.8;\" x=\"247.710679\" xlink:href=\"#ma36c15b339\" y=\"224.64\"/>\n      </g>\n     </g>\n     <g id=\"text_4\">\n      <!-- 60 -->\n      <g transform=\"translate(241.348179 239.238437)scale(0.1 -0.1)\">\n       <defs>\n        <path d=\"M 33.015625 40.375 \nQ 26.375 40.375 22.484375 35.828125 \nQ 18.609375 31.296875 18.609375 23.390625 \nQ 18.609375 15.53125 22.484375 10.953125 \nQ 26.375 6.390625 33.015625 6.390625 \nQ 39.65625 6.390625 43.53125 10.953125 \nQ 47.40625 15.53125 47.40625 23.390625 \nQ 47.40625 31.296875 43.53125 35.828125 \nQ 39.65625 40.375 33.015625 40.375 \nz\nM 52.59375 71.296875 \nL 52.59375 62.3125 \nQ 48.875 64.0625 45.09375 64.984375 \nQ 41.3125 65.921875 37.59375 65.921875 \nQ 27.828125 65.921875 22.671875 59.328125 \nQ 17.53125 52.734375 16.796875 39.40625 \nQ 19.671875 43.65625 24.015625 45.921875 \nQ 28.375 48.1875 33.59375 48.1875 \nQ 44.578125 48.1875 50.953125 41.515625 \nQ 57.328125 34.859375 57.328125 23.390625 \nQ 57.328125 12.15625 50.6875 5.359375 \nQ 44.046875 -1.421875 33.015625 -1.421875 \nQ 20.359375 -1.421875 13.671875 8.265625 \nQ 6.984375 17.96875 6.984375 36.375 \nQ 6.984375 53.65625 15.1875 63.9375 \nQ 23.390625 74.21875 37.203125 74.21875 \nQ 40.921875 74.21875 44.703125 73.484375 \nQ 48.484375 72.75 52.59375 71.296875 \nz\n\" id=\"DejaVuSans-54\"/>\n       </defs>\n       <use xlink:href=\"#DejaVuSans-54\"/>\n       <use x=\"63.623047\" xlink:href=\"#DejaVuSans-48\"/>\n      </g>\n     </g>\n    </g>\n    <g id=\"xtick_5\">\n     <g id=\"line2d_5\">\n      <g>\n       <use style=\"stroke:#000000;stroke-width:0.8;\" x=\"309.198283\" xlink:href=\"#ma36c15b339\" y=\"224.64\"/>\n      </g>\n     </g>\n     <g id=\"text_5\">\n      <!-- 80 -->\n      <g transform=\"translate(302.835783 239.238437)scale(0.1 -0.1)\">\n       <defs>\n        <path d=\"M 31.78125 34.625 \nQ 24.75 34.625 20.71875 30.859375 \nQ 16.703125 27.09375 16.703125 20.515625 \nQ 16.703125 13.921875 20.71875 10.15625 \nQ 24.75 6.390625 31.78125 6.390625 \nQ 38.8125 6.390625 42.859375 10.171875 \nQ 46.921875 13.96875 46.921875 20.515625 \nQ 46.921875 27.09375 42.890625 30.859375 \nQ 38.875 34.625 31.78125 34.625 \nz\nM 21.921875 38.8125 \nQ 15.578125 40.375 12.03125 44.71875 \nQ 8.5 49.078125 8.5 55.328125 \nQ 8.5 64.0625 14.71875 69.140625 \nQ 20.953125 74.21875 31.78125 74.21875 \nQ 42.671875 74.21875 48.875 69.140625 \nQ 55.078125 64.0625 55.078125 55.328125 \nQ 55.078125 49.078125 51.53125 44.71875 \nQ 48 40.375 41.703125 38.8125 \nQ 48.828125 37.15625 52.796875 32.3125 \nQ 56.78125 27.484375 56.78125 20.515625 \nQ 56.78125 9.90625 50.3125 4.234375 \nQ 43.84375 -1.421875 31.78125 -1.421875 \nQ 19.734375 -1.421875 13.25 4.234375 \nQ 6.78125 9.90625 6.78125 20.515625 \nQ 6.78125 27.484375 10.78125 32.3125 \nQ 14.796875 37.15625 21.921875 38.8125 \nz\nM 18.3125 54.390625 \nQ 18.3125 48.734375 21.84375 45.5625 \nQ 25.390625 42.390625 31.78125 42.390625 \nQ 38.140625 42.390625 41.71875 45.5625 \nQ 45.3125 48.734375 45.3125 54.390625 \nQ 45.3125 60.0625 41.71875 63.234375 \nQ 38.140625 66.40625 31.78125 66.40625 \nQ 25.390625 66.40625 21.84375 63.234375 \nQ 18.3125 60.0625 18.3125 54.390625 \nz\n\" id=\"DejaVuSans-56\"/>\n       </defs>\n       <use xlink:href=\"#DejaVuSans-56\"/>\n       <use x=\"63.623047\" xlink:href=\"#DejaVuSans-48\"/>\n      </g>\n     </g>\n    </g>\n    <g id=\"xtick_6\">\n     <g id=\"line2d_6\">\n      <g>\n       <use style=\"stroke:#000000;stroke-width:0.8;\" x=\"370.685886\" xlink:href=\"#ma36c15b339\" y=\"224.64\"/>\n      </g>\n     </g>\n     <g id=\"text_6\">\n      <!-- 100 -->\n      <g transform=\"translate(361.142136 239.238437)scale(0.1 -0.1)\">\n       <defs>\n        <path d=\"M 12.40625 8.296875 \nL 28.515625 8.296875 \nL 28.515625 63.921875 \nL 10.984375 60.40625 \nL 10.984375 69.390625 \nL 28.421875 72.90625 \nL 38.28125 72.90625 \nL 38.28125 8.296875 \nL 54.390625 8.296875 \nL 54.390625 0 \nL 12.40625 0 \nz\n\" id=\"DejaVuSans-49\"/>\n       </defs>\n       <use xlink:href=\"#DejaVuSans-49\"/>\n       <use x=\"63.623047\" xlink:href=\"#DejaVuSans-48\"/>\n       <use x=\"127.246094\" xlink:href=\"#DejaVuSans-48\"/>\n      </g>\n     </g>\n    </g>\n   </g>\n   <g id=\"matplotlib.axis_2\">\n    <g id=\"ytick_1\">\n     <g id=\"line2d_7\">\n      <defs>\n       <path d=\"M 0 0 \nL -3.5 0 \n\" id=\"mfd19cc6cb9\" style=\"stroke:#000000;stroke-width:0.8;\"/>\n      </defs>\n      <g>\n       <use style=\"stroke:#000000;stroke-width:0.8;\" x=\"48.029688\" xlink:href=\"#mfd19cc6cb9\" y=\"199.220523\"/>\n      </g>\n     </g>\n     <g id=\"text_7\">\n      <!-- −1000 -->\n      <g transform=\"translate(7.2 203.019741)scale(0.1 -0.1)\">\n       <defs>\n        <path d=\"M 10.59375 35.5 \nL 73.1875 35.5 \nL 73.1875 27.203125 \nL 10.59375 27.203125 \nz\n\" id=\"DejaVuSans-8722\"/>\n       </defs>\n       <use xlink:href=\"#DejaVuSans-8722\"/>\n       <use x=\"83.789062\" xlink:href=\"#DejaVuSans-49\"/>\n       <use x=\"147.412109\" xlink:href=\"#DejaVuSans-48\"/>\n       <use x=\"211.035156\" xlink:href=\"#DejaVuSans-48\"/>\n       <use x=\"274.658203\" xlink:href=\"#DejaVuSans-48\"/>\n      </g>\n     </g>\n    </g>\n    <g id=\"ytick_2\">\n     <g id=\"line2d_8\">\n      <g>\n       <use style=\"stroke:#000000;stroke-width:0.8;\" x=\"48.029688\" xlink:href=\"#mfd19cc6cb9\" y=\"150.96058\"/>\n      </g>\n     </g>\n     <g id=\"text_8\">\n      <!-- −900 -->\n      <g transform=\"translate(13.5625 154.759798)scale(0.1 -0.1)\">\n       <defs>\n        <path d=\"M 10.984375 1.515625 \nL 10.984375 10.5 \nQ 14.703125 8.734375 18.5 7.8125 \nQ 22.3125 6.890625 25.984375 6.890625 \nQ 35.75 6.890625 40.890625 13.453125 \nQ 46.046875 20.015625 46.78125 33.40625 \nQ 43.953125 29.203125 39.59375 26.953125 \nQ 35.25 24.703125 29.984375 24.703125 \nQ 19.046875 24.703125 12.671875 31.3125 \nQ 6.296875 37.9375 6.296875 49.421875 \nQ 6.296875 60.640625 12.9375 67.421875 \nQ 19.578125 74.21875 30.609375 74.21875 \nQ 43.265625 74.21875 49.921875 64.515625 \nQ 56.59375 54.828125 56.59375 36.375 \nQ 56.59375 19.140625 48.40625 8.859375 \nQ 40.234375 -1.421875 26.421875 -1.421875 \nQ 22.703125 -1.421875 18.890625 -0.6875 \nQ 15.09375 0.046875 10.984375 1.515625 \nz\nM 30.609375 32.421875 \nQ 37.25 32.421875 41.125 36.953125 \nQ 45.015625 41.5 45.015625 49.421875 \nQ 45.015625 57.28125 41.125 61.84375 \nQ 37.25 66.40625 30.609375 66.40625 \nQ 23.96875 66.40625 20.09375 61.84375 \nQ 16.21875 57.28125 16.21875 49.421875 \nQ 16.21875 41.5 20.09375 36.953125 \nQ 23.96875 32.421875 30.609375 32.421875 \nz\n\" id=\"DejaVuSans-57\"/>\n       </defs>\n       <use xlink:href=\"#DejaVuSans-8722\"/>\n       <use x=\"83.789062\" xlink:href=\"#DejaVuSans-57\"/>\n       <use x=\"147.412109\" xlink:href=\"#DejaVuSans-48\"/>\n       <use x=\"211.035156\" xlink:href=\"#DejaVuSans-48\"/>\n      </g>\n     </g>\n    </g>\n    <g id=\"ytick_3\">\n     <g id=\"line2d_9\">\n      <g>\n       <use style=\"stroke:#000000;stroke-width:0.8;\" x=\"48.029688\" xlink:href=\"#mfd19cc6cb9\" y=\"102.700636\"/>\n      </g>\n     </g>\n     <g id=\"text_9\">\n      <!-- −800 -->\n      <g transform=\"translate(13.5625 106.499855)scale(0.1 -0.1)\">\n       <use xlink:href=\"#DejaVuSans-8722\"/>\n       <use x=\"83.789062\" xlink:href=\"#DejaVuSans-56\"/>\n       <use x=\"147.412109\" xlink:href=\"#DejaVuSans-48\"/>\n       <use x=\"211.035156\" xlink:href=\"#DejaVuSans-48\"/>\n      </g>\n     </g>\n    </g>\n    <g id=\"ytick_4\">\n     <g id=\"line2d_10\">\n      <g>\n       <use style=\"stroke:#000000;stroke-width:0.8;\" x=\"48.029688\" xlink:href=\"#mfd19cc6cb9\" y=\"54.440693\"/>\n      </g>\n     </g>\n     <g id=\"text_10\">\n      <!-- −700 -->\n      <g transform=\"translate(13.5625 58.239912)scale(0.1 -0.1)\">\n       <defs>\n        <path d=\"M 8.203125 72.90625 \nL 55.078125 72.90625 \nL 55.078125 68.703125 \nL 28.609375 0 \nL 18.3125 0 \nL 43.21875 64.59375 \nL 8.203125 64.59375 \nz\n\" id=\"DejaVuSans-55\"/>\n       </defs>\n       <use xlink:href=\"#DejaVuSans-8722\"/>\n       <use x=\"83.789062\" xlink:href=\"#DejaVuSans-55\"/>\n       <use x=\"147.412109\" xlink:href=\"#DejaVuSans-48\"/>\n       <use x=\"211.035156\" xlink:href=\"#DejaVuSans-48\"/>\n      </g>\n     </g>\n    </g>\n   </g>\n   <g id=\"line2d_11\">\n    <path clip-path=\"url(#p9041f9e411)\" d=\"M 63.247869 111.966545 \nL 66.322249 104.059636 \nL 69.39663 104.059636 \nL 72.47101 104.059636 \nL 75.54539 111.966545 \nL 78.61977 104.059636 \nL 81.69415 104.059636 \nL 84.76853 80.338909 \nL 87.842911 80.338909 \nL 90.917291 96.152727 \nL 93.991671 127.780364 \nL 97.066051 119.873455 \nL 100.140431 104.059636 \nL 103.214811 80.338909 \nL 106.289192 72.432 \nL 109.363572 88.245818 \nL 112.437952 96.152727 \nL 115.512332 88.245818 \nL 118.586712 64.525091 \nL 121.661092 72.432 \nL 124.735473 143.594182 \nL 127.809853 214.756364 \nL 130.884233 214.756364 \nL 133.958613 111.966545 \nL 137.032993 17.083636 \nL 140.107373 48.711273 \nL 143.181754 64.525091 \nL 146.256134 88.245818 \nL 149.330514 72.432 \nL 152.404894 64.525091 \nL 155.479274 64.525091 \nL 158.553654 64.525091 \nL 161.628035 72.432 \nL 164.702415 80.338909 \nL 167.776795 96.152727 \nL 170.851175 104.059636 \nL 173.925555 88.245818 \nL 176.999935 80.338909 \nL 180.074316 72.432 \nL 183.148696 80.338909 \nL 186.223076 88.245818 \nL 189.297456 72.432 \nL 192.371836 88.245818 \nL 195.446216 96.152727 \nL 198.520597 80.338909 \nL 201.594977 88.245818 \nL 204.669357 72.432 \nL 207.743737 88.245818 \nL 210.818117 96.152727 \nL 213.892497 88.245818 \nL 216.966878 88.245818 \nL 220.041258 88.245818 \nL 223.115638 88.245818 \nL 226.190018 111.966545 \nL 229.264398 119.873455 \nL 232.338778 119.873455 \nL 235.413159 104.059636 \nL 238.487539 119.873455 \nL 241.561919 111.966545 \nL 244.636299 119.873455 \nL 247.710679 104.059636 \nL 250.785059 104.059636 \nL 253.85944 104.059636 \nL 256.93382 104.059636 \nL 260.0082 104.059636 \nL 263.08258 88.245818 \nL 266.15696 80.338909 \nL 269.23134 80.338909 \nL 272.305721 88.245818 \nL 275.380101 80.338909 \nL 278.454481 96.152727 \nL 281.528861 96.152727 \nL 284.603241 96.152727 \nL 287.677621 96.152727 \nL 290.752002 80.338909 \nL 293.826382 96.152727 \nL 296.900762 88.245818 \nL 299.975142 88.245818 \nL 303.049522 88.245818 \nL 306.123902 88.245818 \nL 309.198283 72.432 \nL 312.272663 96.152727 \nL 315.347043 80.338909 \nL 318.421423 96.152727 \nL 321.495803 96.152727 \nL 324.570183 72.432 \nL 327.644564 88.245818 \nL 330.718944 80.338909 \nL 333.793324 88.245818 \nL 336.867704 80.338909 \nL 339.942084 80.338909 \nL 343.016464 88.245818 \nL 346.090845 80.338909 \nL 349.165225 72.432 \nL 352.239605 88.245818 \nL 355.313985 88.245818 \nL 358.388365 104.059636 \nL 361.462745 88.245818 \nL 364.537126 64.525091 \nL 367.611506 72.432 \n\" style=\"fill:none;stroke:#1f77b4;stroke-linecap:square;stroke-width:1.5;\"/>\n   </g>\n   <g id=\"line2d_12\"/>\n   <g id=\"patch_3\">\n    <path d=\"M 48.029688 224.64 \nL 48.029688 7.2 \n\" style=\"fill:none;stroke:#000000;stroke-linecap:square;stroke-linejoin:miter;stroke-width:0.8;\"/>\n   </g>\n   <g id=\"patch_4\">\n    <path d=\"M 382.829688 224.64 \nL 382.829688 7.2 \n\" style=\"fill:none;stroke:#000000;stroke-linecap:square;stroke-linejoin:miter;stroke-width:0.8;\"/>\n   </g>\n   <g id=\"patch_5\">\n    <path d=\"M 48.029688 224.64 \nL 382.829687 224.64 \n\" style=\"fill:none;stroke:#000000;stroke-linecap:square;stroke-linejoin:miter;stroke-width:0.8;\"/>\n   </g>\n   <g id=\"patch_6\">\n    <path d=\"M 48.029688 7.2 \nL 382.829687 7.2 \n\" style=\"fill:none;stroke:#000000;stroke-linecap:square;stroke-linejoin:miter;stroke-width:0.8;\"/>\n   </g>\n   <g id=\"legend_1\">\n    <g id=\"patch_7\">\n     <path d=\"M 322.779688 29.878125 \nL 375.829688 29.878125 \nQ 377.829688 29.878125 377.829688 27.878125 \nL 377.829688 14.2 \nQ 377.829688 12.2 375.829688 12.2 \nL 322.779688 12.2 \nQ 320.779688 12.2 320.779688 14.2 \nL 320.779688 27.878125 \nQ 320.779688 29.878125 322.779688 29.878125 \nz\n\" style=\"fill:#ffffff;opacity:0.8;stroke:#cccccc;stroke-linejoin:miter;\"/>\n    </g>\n    <g id=\"line2d_13\">\n     <path d=\"M 324.779688 20.298437 \nL 344.779688 20.298437 \n\" style=\"fill:none;stroke:#1f77b4;stroke-linecap:square;stroke-width:1.5;\"/>\n    </g>\n    <g id=\"line2d_14\"/>\n    <g id=\"text_11\">\n     <!-- ECG -->\n     <g transform=\"translate(352.779688 23.798437)scale(0.1 -0.1)\">\n      <defs>\n       <path d=\"M 9.8125 72.90625 \nL 55.90625 72.90625 \nL 55.90625 64.59375 \nL 19.671875 64.59375 \nL 19.671875 43.015625 \nL 54.390625 43.015625 \nL 54.390625 34.71875 \nL 19.671875 34.71875 \nL 19.671875 8.296875 \nL 56.78125 8.296875 \nL 56.78125 0 \nL 9.8125 0 \nz\n\" id=\"DejaVuSans-69\"/>\n       <path d=\"M 64.40625 67.28125 \nL 64.40625 56.890625 \nQ 59.421875 61.53125 53.78125 63.8125 \nQ 48.140625 66.109375 41.796875 66.109375 \nQ 29.296875 66.109375 22.65625 58.46875 \nQ 16.015625 50.828125 16.015625 36.375 \nQ 16.015625 21.96875 22.65625 14.328125 \nQ 29.296875 6.6875 41.796875 6.6875 \nQ 48.140625 6.6875 53.78125 8.984375 \nQ 59.421875 11.28125 64.40625 15.921875 \nL 64.40625 5.609375 \nQ 59.234375 2.09375 53.4375 0.328125 \nQ 47.65625 -1.421875 41.21875 -1.421875 \nQ 24.65625 -1.421875 15.125 8.703125 \nQ 5.609375 18.84375 5.609375 36.375 \nQ 5.609375 53.953125 15.125 64.078125 \nQ 24.65625 74.21875 41.21875 74.21875 \nQ 47.75 74.21875 53.53125 72.484375 \nQ 59.328125 70.75 64.40625 67.28125 \nz\n\" id=\"DejaVuSans-67\"/>\n       <path d=\"M 59.515625 10.40625 \nL 59.515625 29.984375 \nL 43.40625 29.984375 \nL 43.40625 38.09375 \nL 69.28125 38.09375 \nL 69.28125 6.78125 \nQ 63.578125 2.734375 56.6875 0.65625 \nQ 49.8125 -1.421875 42 -1.421875 \nQ 24.90625 -1.421875 15.25 8.5625 \nQ 5.609375 18.5625 5.609375 36.375 \nQ 5.609375 54.25 15.25 64.234375 \nQ 24.90625 74.21875 42 74.21875 \nQ 49.125 74.21875 55.546875 72.453125 \nQ 61.96875 70.703125 67.390625 67.28125 \nL 67.390625 56.78125 \nQ 61.921875 61.421875 55.765625 63.765625 \nQ 49.609375 66.109375 42.828125 66.109375 \nQ 29.4375 66.109375 22.71875 58.640625 \nQ 16.015625 51.171875 16.015625 36.375 \nQ 16.015625 21.625 22.71875 14.15625 \nQ 29.4375 6.6875 42.828125 6.6875 \nQ 48.046875 6.6875 52.140625 7.59375 \nQ 56.25 8.5 59.515625 10.40625 \nz\n\" id=\"DejaVuSans-71\"/>\n      </defs>\n      <use xlink:href=\"#DejaVuSans-69\"/>\n      <use x=\"63.183594\" xlink:href=\"#DejaVuSans-67\"/>\n      <use x=\"133.007812\" xlink:href=\"#DejaVuSans-71\"/>\n     </g>\n    </g>\n   </g>\n  </g>\n </g>\n <defs>\n  <clipPath id=\"p9041f9e411\">\n   <rect height=\"217.44\" width=\"334.8\" x=\"48.029688\" y=\"7.2\"/>\n  </clipPath>\n </defs>\n</svg>\n",
      "image/png": "[encoded data removed]"
     },
     "metadata": {
      "needs_background": "light"
     }
    }
   ],
   "source": [
    "import seaborn as sns\n",
    "temp_df = pd.read_csv('simulation/df_simulation.csv')\n",
    "sns.lineplot(data=temp_df[:100])"
   ]
  },
  {
   "cell_type": "code",
   "execution_count": 125,
   "metadata": {},
   "outputs": [
    {
     "output_type": "execute_result",
     "data": {
      "text/plain": [
       "<AxesSubplot:>"
      ]
     },
     "metadata": {},
     "execution_count": 125
    },
    {
     "output_type": "display_data",
     "data": {
      "text/plain": "<Figure size 432x288 with 1 Axes>",
      "image/svg+xml": "<?xml version=\"1.0\" encoding=\"utf-8\" standalone=\"no\"?>\n<!DOCTYPE svg PUBLIC \"-//W3C//DTD SVG 1.1//EN\"\n  \"http://www.w3.org/Graphics/SVG/1.1/DTD/svg11.dtd\">\n<!-- Created with matplotlib (https://matplotlib.org/) -->\n<svg height=\"248.518125pt\" version=\"1.1\" viewBox=\"0 0 390.029687 248.518125\" width=\"390.029687pt\" xmlns=\"http://www.w3.org/2000/svg\" xmlns:xlink=\"http://www.w3.org/1999/xlink\">\n <metadata>\n  <rdf:RDF xmlns:cc=\"http://creativecommons.org/ns#\" xmlns:dc=\"http://purl.org/dc/elements/1.1/\" xmlns:rdf=\"http://www.w3.org/1999/02/22-rdf-syntax-ns#\">\n   <cc:Work>\n    <dc:type rdf:resource=\"http://purl.org/dc/dcmitype/StillImage\"/>\n    <dc:date>2020-11-06T17:44:57.087705</dc:date>\n    <dc:format>image/svg+xml</dc:format>\n    <dc:creator>\n     <cc:Agent>\n      <dc:title>Matplotlib v3.3.2, https://matplotlib.org/</dc:title>\n     </cc:Agent>\n    </dc:creator>\n   </cc:Work>\n  </rdf:RDF>\n </metadata>\n <defs>\n  <style type=\"text/css\">*{stroke-linecap:butt;stroke-linejoin:round;}</style>\n </defs>\n <g id=\"figure_1\">\n  <g id=\"patch_1\">\n   <path d=\"M 0 248.518125 \nL 390.029687 248.518125 \nL 390.029687 0 \nL 0 0 \nz\n\" style=\"fill:none;\"/>\n  </g>\n  <g id=\"axes_1\">\n   <g id=\"patch_2\">\n    <path d=\"M 48.029688 224.64 \nL 382.829688 224.64 \nL 382.829688 7.2 \nL 48.029688 7.2 \nz\n\" style=\"fill:#ffffff;\"/>\n   </g>\n   <g id=\"matplotlib.axis_1\">\n    <g id=\"xtick_1\">\n     <g id=\"line2d_1\">\n      <defs>\n       <path d=\"M 0 0 \nL 0 3.5 \n\" id=\"mea5580e880\" style=\"stroke:#000000;stroke-width:0.8;\"/>\n      </defs>\n      <g>\n       <use style=\"stroke:#000000;stroke-width:0.8;\" x=\"63.247869\" xlink:href=\"#mea5580e880\" y=\"224.64\"/>\n      </g>\n     </g>\n     <g id=\"text_1\">\n      <!-- 0 -->\n      <g transform=\"translate(60.066619 239.238437)scale(0.1 -0.1)\">\n       <defs>\n        <path d=\"M 31.78125 66.40625 \nQ 24.171875 66.40625 20.328125 58.90625 \nQ 16.5 51.421875 16.5 36.375 \nQ 16.5 21.390625 20.328125 13.890625 \nQ 24.171875 6.390625 31.78125 6.390625 \nQ 39.453125 6.390625 43.28125 13.890625 \nQ 47.125 21.390625 47.125 36.375 \nQ 47.125 51.421875 43.28125 58.90625 \nQ 39.453125 66.40625 31.78125 66.40625 \nz\nM 31.78125 74.21875 \nQ 44.046875 74.21875 50.515625 64.515625 \nQ 56.984375 54.828125 56.984375 36.375 \nQ 56.984375 17.96875 50.515625 8.265625 \nQ 44.046875 -1.421875 31.78125 -1.421875 \nQ 19.53125 -1.421875 13.0625 8.265625 \nQ 6.59375 17.96875 6.59375 36.375 \nQ 6.59375 54.828125 13.0625 64.515625 \nQ 19.53125 74.21875 31.78125 74.21875 \nz\n\" id=\"DejaVuSans-48\"/>\n       </defs>\n       <use xlink:href=\"#DejaVuSans-48\"/>\n      </g>\n     </g>\n    </g>\n    <g id=\"xtick_2\">\n     <g id=\"line2d_2\">\n      <g>\n       <use style=\"stroke:#000000;stroke-width:0.8;\" x=\"124.735473\" xlink:href=\"#mea5580e880\" y=\"224.64\"/>\n      </g>\n     </g>\n     <g id=\"text_2\">\n      <!-- 20 -->\n      <g transform=\"translate(118.372973 239.238437)scale(0.1 -0.1)\">\n       <defs>\n        <path d=\"M 19.1875 8.296875 \nL 53.609375 8.296875 \nL 53.609375 0 \nL 7.328125 0 \nL 7.328125 8.296875 \nQ 12.9375 14.109375 22.625 23.890625 \nQ 32.328125 33.6875 34.8125 36.53125 \nQ 39.546875 41.84375 41.421875 45.53125 \nQ 43.3125 49.21875 43.3125 52.78125 \nQ 43.3125 58.59375 39.234375 62.25 \nQ 35.15625 65.921875 28.609375 65.921875 \nQ 23.96875 65.921875 18.8125 64.3125 \nQ 13.671875 62.703125 7.8125 59.421875 \nL 7.8125 69.390625 \nQ 13.765625 71.78125 18.9375 73 \nQ 24.125 74.21875 28.421875 74.21875 \nQ 39.75 74.21875 46.484375 68.546875 \nQ 53.21875 62.890625 53.21875 53.421875 \nQ 53.21875 48.921875 51.53125 44.890625 \nQ 49.859375 40.875 45.40625 35.40625 \nQ 44.1875 33.984375 37.640625 27.21875 \nQ 31.109375 20.453125 19.1875 8.296875 \nz\n\" id=\"DejaVuSans-50\"/>\n       </defs>\n       <use xlink:href=\"#DejaVuSans-50\"/>\n       <use x=\"63.623047\" xlink:href=\"#DejaVuSans-48\"/>\n      </g>\n     </g>\n    </g>\n    <g id=\"xtick_3\">\n     <g id=\"line2d_3\">\n      <g>\n       <use style=\"stroke:#000000;stroke-width:0.8;\" x=\"186.223076\" xlink:href=\"#mea5580e880\" y=\"224.64\"/>\n      </g>\n     </g>\n     <g id=\"text_3\">\n      <!-- 40 -->\n      <g transform=\"translate(179.860576 239.238437)scale(0.1 -0.1)\">\n       <defs>\n        <path d=\"M 37.796875 64.3125 \nL 12.890625 25.390625 \nL 37.796875 25.390625 \nz\nM 35.203125 72.90625 \nL 47.609375 72.90625 \nL 47.609375 25.390625 \nL 58.015625 25.390625 \nL 58.015625 17.1875 \nL 47.609375 17.1875 \nL 47.609375 0 \nL 37.796875 0 \nL 37.796875 17.1875 \nL 4.890625 17.1875 \nL 4.890625 26.703125 \nz\n\" id=\"DejaVuSans-52\"/>\n       </defs>\n       <use xlink:href=\"#DejaVuSans-52\"/>\n       <use x=\"63.623047\" xlink:href=\"#DejaVuSans-48\"/>\n      </g>\n     </g>\n    </g>\n    <g id=\"xtick_4\">\n     <g id=\"line2d_4\">\n      <g>\n       <use style=\"stroke:#000000;stroke-width:0.8;\" x=\"247.710679\" xlink:href=\"#mea5580e880\" y=\"224.64\"/>\n      </g>\n     </g>\n     <g id=\"text_4\">\n      <!-- 60 -->\n      <g transform=\"translate(241.348179 239.238437)scale(0.1 -0.1)\">\n       <defs>\n        <path d=\"M 33.015625 40.375 \nQ 26.375 40.375 22.484375 35.828125 \nQ 18.609375 31.296875 18.609375 23.390625 \nQ 18.609375 15.53125 22.484375 10.953125 \nQ 26.375 6.390625 33.015625 6.390625 \nQ 39.65625 6.390625 43.53125 10.953125 \nQ 47.40625 15.53125 47.40625 23.390625 \nQ 47.40625 31.296875 43.53125 35.828125 \nQ 39.65625 40.375 33.015625 40.375 \nz\nM 52.59375 71.296875 \nL 52.59375 62.3125 \nQ 48.875 64.0625 45.09375 64.984375 \nQ 41.3125 65.921875 37.59375 65.921875 \nQ 27.828125 65.921875 22.671875 59.328125 \nQ 17.53125 52.734375 16.796875 39.40625 \nQ 19.671875 43.65625 24.015625 45.921875 \nQ 28.375 48.1875 33.59375 48.1875 \nQ 44.578125 48.1875 50.953125 41.515625 \nQ 57.328125 34.859375 57.328125 23.390625 \nQ 57.328125 12.15625 50.6875 5.359375 \nQ 44.046875 -1.421875 33.015625 -1.421875 \nQ 20.359375 -1.421875 13.671875 8.265625 \nQ 6.984375 17.96875 6.984375 36.375 \nQ 6.984375 53.65625 15.1875 63.9375 \nQ 23.390625 74.21875 37.203125 74.21875 \nQ 40.921875 74.21875 44.703125 73.484375 \nQ 48.484375 72.75 52.59375 71.296875 \nz\n\" id=\"DejaVuSans-54\"/>\n       </defs>\n       <use xlink:href=\"#DejaVuSans-54\"/>\n       <use x=\"63.623047\" xlink:href=\"#DejaVuSans-48\"/>\n      </g>\n     </g>\n    </g>\n    <g id=\"xtick_5\">\n     <g id=\"line2d_5\">\n      <g>\n       <use style=\"stroke:#000000;stroke-width:0.8;\" x=\"309.198283\" xlink:href=\"#mea5580e880\" y=\"224.64\"/>\n      </g>\n     </g>\n     <g id=\"text_5\">\n      <!-- 80 -->\n      <g transform=\"translate(302.835783 239.238437)scale(0.1 -0.1)\">\n       <defs>\n        <path d=\"M 31.78125 34.625 \nQ 24.75 34.625 20.71875 30.859375 \nQ 16.703125 27.09375 16.703125 20.515625 \nQ 16.703125 13.921875 20.71875 10.15625 \nQ 24.75 6.390625 31.78125 6.390625 \nQ 38.8125 6.390625 42.859375 10.171875 \nQ 46.921875 13.96875 46.921875 20.515625 \nQ 46.921875 27.09375 42.890625 30.859375 \nQ 38.875 34.625 31.78125 34.625 \nz\nM 21.921875 38.8125 \nQ 15.578125 40.375 12.03125 44.71875 \nQ 8.5 49.078125 8.5 55.328125 \nQ 8.5 64.0625 14.71875 69.140625 \nQ 20.953125 74.21875 31.78125 74.21875 \nQ 42.671875 74.21875 48.875 69.140625 \nQ 55.078125 64.0625 55.078125 55.328125 \nQ 55.078125 49.078125 51.53125 44.71875 \nQ 48 40.375 41.703125 38.8125 \nQ 48.828125 37.15625 52.796875 32.3125 \nQ 56.78125 27.484375 56.78125 20.515625 \nQ 56.78125 9.90625 50.3125 4.234375 \nQ 43.84375 -1.421875 31.78125 -1.421875 \nQ 19.734375 -1.421875 13.25 4.234375 \nQ 6.78125 9.90625 6.78125 20.515625 \nQ 6.78125 27.484375 10.78125 32.3125 \nQ 14.796875 37.15625 21.921875 38.8125 \nz\nM 18.3125 54.390625 \nQ 18.3125 48.734375 21.84375 45.5625 \nQ 25.390625 42.390625 31.78125 42.390625 \nQ 38.140625 42.390625 41.71875 45.5625 \nQ 45.3125 48.734375 45.3125 54.390625 \nQ 45.3125 60.0625 41.71875 63.234375 \nQ 38.140625 66.40625 31.78125 66.40625 \nQ 25.390625 66.40625 21.84375 63.234375 \nQ 18.3125 60.0625 18.3125 54.390625 \nz\n\" id=\"DejaVuSans-56\"/>\n       </defs>\n       <use xlink:href=\"#DejaVuSans-56\"/>\n       <use x=\"63.623047\" xlink:href=\"#DejaVuSans-48\"/>\n      </g>\n     </g>\n    </g>\n    <g id=\"xtick_6\">\n     <g id=\"line2d_6\">\n      <g>\n       <use style=\"stroke:#000000;stroke-width:0.8;\" x=\"370.685886\" xlink:href=\"#mea5580e880\" y=\"224.64\"/>\n      </g>\n     </g>\n     <g id=\"text_6\">\n      <!-- 100 -->\n      <g transform=\"translate(361.142136 239.238437)scale(0.1 -0.1)\">\n       <defs>\n        <path d=\"M 12.40625 8.296875 \nL 28.515625 8.296875 \nL 28.515625 63.921875 \nL 10.984375 60.40625 \nL 10.984375 69.390625 \nL 28.421875 72.90625 \nL 38.28125 72.90625 \nL 38.28125 8.296875 \nL 54.390625 8.296875 \nL 54.390625 0 \nL 12.40625 0 \nz\n\" id=\"DejaVuSans-49\"/>\n       </defs>\n       <use xlink:href=\"#DejaVuSans-49\"/>\n       <use x=\"63.623047\" xlink:href=\"#DejaVuSans-48\"/>\n       <use x=\"127.246094\" xlink:href=\"#DejaVuSans-48\"/>\n      </g>\n     </g>\n    </g>\n   </g>\n   <g id=\"matplotlib.axis_2\">\n    <g id=\"ytick_1\">\n     <g id=\"line2d_7\">\n      <defs>\n       <path d=\"M 0 0 \nL -3.5 0 \n\" id=\"ma12ec8c1dd\" style=\"stroke:#000000;stroke-width:0.8;\"/>\n      </defs>\n      <g>\n       <use style=\"stroke:#000000;stroke-width:0.8;\" x=\"48.029688\" xlink:href=\"#ma12ec8c1dd\" y=\"199.220523\"/>\n      </g>\n     </g>\n     <g id=\"text_7\">\n      <!-- −1000 -->\n      <g transform=\"translate(7.2 203.019741)scale(0.1 -0.1)\">\n       <defs>\n        <path d=\"M 10.59375 35.5 \nL 73.1875 35.5 \nL 73.1875 27.203125 \nL 10.59375 27.203125 \nz\n\" id=\"DejaVuSans-8722\"/>\n       </defs>\n       <use xlink:href=\"#DejaVuSans-8722\"/>\n       <use x=\"83.789062\" xlink:href=\"#DejaVuSans-49\"/>\n       <use x=\"147.412109\" xlink:href=\"#DejaVuSans-48\"/>\n       <use x=\"211.035156\" xlink:href=\"#DejaVuSans-48\"/>\n       <use x=\"274.658203\" xlink:href=\"#DejaVuSans-48\"/>\n      </g>\n     </g>\n    </g>\n    <g id=\"ytick_2\">\n     <g id=\"line2d_8\">\n      <g>\n       <use style=\"stroke:#000000;stroke-width:0.8;\" x=\"48.029688\" xlink:href=\"#ma12ec8c1dd\" y=\"150.96058\"/>\n      </g>\n     </g>\n     <g id=\"text_8\">\n      <!-- −900 -->\n      <g transform=\"translate(13.5625 154.759798)scale(0.1 -0.1)\">\n       <defs>\n        <path d=\"M 10.984375 1.515625 \nL 10.984375 10.5 \nQ 14.703125 8.734375 18.5 7.8125 \nQ 22.3125 6.890625 25.984375 6.890625 \nQ 35.75 6.890625 40.890625 13.453125 \nQ 46.046875 20.015625 46.78125 33.40625 \nQ 43.953125 29.203125 39.59375 26.953125 \nQ 35.25 24.703125 29.984375 24.703125 \nQ 19.046875 24.703125 12.671875 31.3125 \nQ 6.296875 37.9375 6.296875 49.421875 \nQ 6.296875 60.640625 12.9375 67.421875 \nQ 19.578125 74.21875 30.609375 74.21875 \nQ 43.265625 74.21875 49.921875 64.515625 \nQ 56.59375 54.828125 56.59375 36.375 \nQ 56.59375 19.140625 48.40625 8.859375 \nQ 40.234375 -1.421875 26.421875 -1.421875 \nQ 22.703125 -1.421875 18.890625 -0.6875 \nQ 15.09375 0.046875 10.984375 1.515625 \nz\nM 30.609375 32.421875 \nQ 37.25 32.421875 41.125 36.953125 \nQ 45.015625 41.5 45.015625 49.421875 \nQ 45.015625 57.28125 41.125 61.84375 \nQ 37.25 66.40625 30.609375 66.40625 \nQ 23.96875 66.40625 20.09375 61.84375 \nQ 16.21875 57.28125 16.21875 49.421875 \nQ 16.21875 41.5 20.09375 36.953125 \nQ 23.96875 32.421875 30.609375 32.421875 \nz\n\" id=\"DejaVuSans-57\"/>\n       </defs>\n       <use xlink:href=\"#DejaVuSans-8722\"/>\n       <use x=\"83.789062\" xlink:href=\"#DejaVuSans-57\"/>\n       <use x=\"147.412109\" xlink:href=\"#DejaVuSans-48\"/>\n       <use x=\"211.035156\" xlink:href=\"#DejaVuSans-48\"/>\n      </g>\n     </g>\n    </g>\n    <g id=\"ytick_3\">\n     <g id=\"line2d_9\">\n      <g>\n       <use style=\"stroke:#000000;stroke-width:0.8;\" x=\"48.029688\" xlink:href=\"#ma12ec8c1dd\" y=\"102.700636\"/>\n      </g>\n     </g>\n     <g id=\"text_9\">\n      <!-- −800 -->\n      <g transform=\"translate(13.5625 106.499855)scale(0.1 -0.1)\">\n       <use xlink:href=\"#DejaVuSans-8722\"/>\n       <use x=\"83.789062\" xlink:href=\"#DejaVuSans-56\"/>\n       <use x=\"147.412109\" xlink:href=\"#DejaVuSans-48\"/>\n       <use x=\"211.035156\" xlink:href=\"#DejaVuSans-48\"/>\n      </g>\n     </g>\n    </g>\n    <g id=\"ytick_4\">\n     <g id=\"line2d_10\">\n      <g>\n       <use style=\"stroke:#000000;stroke-width:0.8;\" x=\"48.029688\" xlink:href=\"#ma12ec8c1dd\" y=\"54.440693\"/>\n      </g>\n     </g>\n     <g id=\"text_10\">\n      <!-- −700 -->\n      <g transform=\"translate(13.5625 58.239912)scale(0.1 -0.1)\">\n       <defs>\n        <path d=\"M 8.203125 72.90625 \nL 55.078125 72.90625 \nL 55.078125 68.703125 \nL 28.609375 0 \nL 18.3125 0 \nL 43.21875 64.59375 \nL 8.203125 64.59375 \nz\n\" id=\"DejaVuSans-55\"/>\n       </defs>\n       <use xlink:href=\"#DejaVuSans-8722\"/>\n       <use x=\"83.789062\" xlink:href=\"#DejaVuSans-55\"/>\n       <use x=\"147.412109\" xlink:href=\"#DejaVuSans-48\"/>\n       <use x=\"211.035156\" xlink:href=\"#DejaVuSans-48\"/>\n      </g>\n     </g>\n    </g>\n   </g>\n   <g id=\"line2d_11\">\n    <path clip-path=\"url(#pc22d4ae216)\" d=\"M 63.247869 111.966545 \nL 66.322249 104.059636 \nL 69.39663 104.059636 \nL 72.47101 104.059636 \nL 75.54539 111.966545 \nL 78.61977 104.059636 \nL 81.69415 104.059636 \nL 84.76853 80.338909 \nL 87.842911 80.338909 \nL 90.917291 96.152727 \nL 93.991671 127.780364 \nL 97.066051 119.873455 \nL 100.140431 104.059636 \nL 103.214811 80.338909 \nL 106.289192 72.432 \nL 109.363572 88.245818 \nL 112.437952 96.152727 \nL 115.512332 88.245818 \nL 118.586712 64.525091 \nL 121.661092 72.432 \nL 124.735473 143.594182 \nL 127.809853 214.756364 \nL 130.884233 214.756364 \nL 133.958613 111.966545 \nL 137.032993 17.083636 \nL 140.107373 48.711273 \nL 143.181754 64.525091 \nL 146.256134 88.245818 \nL 149.330514 72.432 \nL 152.404894 64.525091 \nL 155.479274 64.525091 \nL 158.553654 64.525091 \nL 161.628035 72.432 \nL 164.702415 80.338909 \nL 167.776795 96.152727 \nL 170.851175 104.059636 \nL 173.925555 88.245818 \nL 176.999935 80.338909 \nL 180.074316 72.432 \nL 183.148696 80.338909 \nL 186.223076 88.245818 \nL 189.297456 72.432 \nL 192.371836 88.245818 \nL 195.446216 96.152727 \nL 198.520597 80.338909 \nL 201.594977 88.245818 \nL 204.669357 72.432 \nL 207.743737 88.245818 \nL 210.818117 96.152727 \nL 213.892497 88.245818 \nL 216.966878 88.245818 \nL 220.041258 88.245818 \nL 223.115638 88.245818 \nL 226.190018 111.966545 \nL 229.264398 119.873455 \nL 232.338778 119.873455 \nL 235.413159 104.059636 \nL 238.487539 119.873455 \nL 241.561919 111.966545 \nL 244.636299 119.873455 \nL 247.710679 104.059636 \nL 250.785059 104.059636 \nL 253.85944 104.059636 \nL 256.93382 104.059636 \nL 260.0082 104.059636 \nL 263.08258 88.245818 \nL 266.15696 80.338909 \nL 269.23134 80.338909 \nL 272.305721 88.245818 \nL 275.380101 80.338909 \nL 278.454481 96.152727 \nL 281.528861 96.152727 \nL 284.603241 96.152727 \nL 287.677621 96.152727 \nL 290.752002 80.338909 \nL 293.826382 96.152727 \nL 296.900762 88.245818 \nL 299.975142 88.245818 \nL 303.049522 88.245818 \nL 306.123902 88.245818 \nL 309.198283 72.432 \nL 312.272663 96.152727 \nL 315.347043 80.338909 \nL 318.421423 96.152727 \nL 321.495803 96.152727 \nL 324.570183 72.432 \nL 327.644564 88.245818 \nL 330.718944 80.338909 \nL 333.793324 88.245818 \nL 336.867704 80.338909 \nL 339.942084 80.338909 \nL 343.016464 88.245818 \nL 346.090845 80.338909 \nL 349.165225 72.432 \nL 352.239605 88.245818 \nL 355.313985 88.245818 \nL 358.388365 104.059636 \nL 361.462745 88.245818 \nL 364.537126 64.525091 \nL 367.611506 72.432 \n\" style=\"fill:none;stroke:#1f77b4;stroke-linecap:square;stroke-width:1.5;\"/>\n   </g>\n   <g id=\"line2d_12\">\n    <path clip-path=\"url(#pc22d4ae216)\" d=\"M 63.247869 111.966545 \nL 66.322249 104.059636 \nL 69.39663 104.059636 \nL 72.47101 104.059636 \nL 75.54539 111.966545 \nL 78.61977 104.059636 \nL 81.69415 104.059636 \nL 84.76853 80.338909 \nL 87.842911 80.338909 \nL 90.917291 96.152727 \nL 93.991671 127.780364 \nL 97.066051 119.873455 \nL 100.140431 104.059636 \nL 103.214811 80.338909 \nL 106.289192 72.432 \nL 109.363572 88.245818 \nL 112.437952 96.152727 \nL 115.512332 88.245818 \nL 118.586712 64.525091 \nL 121.661092 72.432 \nL 124.735473 143.594182 \nL 127.809853 214.756364 \nL 130.884233 214.756364 \nL 133.958613 111.966545 \nL 137.032993 17.083636 \nL 140.107373 48.711273 \nL 143.181754 64.525091 \nL 146.256134 88.245818 \nL 149.330514 72.432 \nL 152.404894 64.525091 \nL 155.479274 64.525091 \nL 158.553654 64.525091 \nL 161.628035 72.432 \nL 164.702415 80.338909 \nL 167.776795 96.152727 \nL 170.851175 104.059636 \nL 173.925555 88.245818 \nL 176.999935 80.338909 \nL 180.074316 72.432 \nL 183.148696 80.338909 \nL 186.223076 88.245818 \nL 189.297456 72.432 \nL 192.371836 88.245818 \nL 195.446216 96.152727 \nL 198.520597 80.338909 \nL 201.594977 88.245818 \nL 204.669357 72.432 \nL 207.743737 88.245818 \nL 210.818117 96.152727 \nL 213.892497 88.245818 \nL 216.966878 88.245818 \nL 220.041258 88.245818 \nL 223.115638 88.245818 \nL 226.190018 111.966545 \nL 229.264398 119.873455 \nL 232.338778 119.873455 \nL 235.413159 104.059636 \nL 238.487539 119.873455 \nL 241.561919 111.966545 \nL 244.636299 119.873455 \nL 247.710679 104.059636 \nL 250.785059 104.059636 \nL 253.85944 104.059636 \nL 256.93382 104.059636 \nL 260.0082 104.059636 \nL 263.08258 88.245818 \nL 266.15696 80.338909 \nL 269.23134 80.338909 \nL 272.305721 88.245818 \nL 275.380101 80.338909 \nL 278.454481 96.152727 \nL 281.528861 96.152727 \nL 284.603241 96.152727 \nL 287.677621 96.152727 \nL 290.752002 80.338909 \nL 293.826382 96.152727 \nL 296.900762 88.245818 \nL 299.975142 88.245818 \nL 303.049522 88.245818 \nL 306.123902 88.245818 \nL 309.198283 72.432 \nL 312.272663 96.152727 \nL 315.347043 80.338909 \nL 318.421423 96.152727 \nL 321.495803 96.152727 \nL 324.570183 72.432 \nL 327.644564 88.245818 \nL 330.718944 80.338909 \nL 333.793324 88.245818 \nL 336.867704 80.338909 \nL 339.942084 80.338909 \nL 343.016464 88.245818 \nL 346.090845 80.338909 \nL 349.165225 72.432 \nL 352.239605 88.245818 \nL 355.313985 88.245818 \nL 358.388365 104.059636 \nL 361.462745 88.245818 \nL 364.537126 64.525091 \nL 367.611506 72.432 \n\" style=\"fill:none;stroke:#ff7f0e;stroke-linecap:square;stroke-width:1.5;\"/>\n   </g>\n   <g id=\"patch_3\">\n    <path d=\"M 48.029688 224.64 \nL 48.029688 7.2 \n\" style=\"fill:none;stroke:#000000;stroke-linecap:square;stroke-linejoin:miter;stroke-width:0.8;\"/>\n   </g>\n   <g id=\"patch_4\">\n    <path d=\"M 382.829688 224.64 \nL 382.829688 7.2 \n\" style=\"fill:none;stroke:#000000;stroke-linecap:square;stroke-linejoin:miter;stroke-width:0.8;\"/>\n   </g>\n   <g id=\"patch_5\">\n    <path d=\"M 48.029688 224.64 \nL 382.829687 224.64 \n\" style=\"fill:none;stroke:#000000;stroke-linecap:square;stroke-linejoin:miter;stroke-width:0.8;\"/>\n   </g>\n   <g id=\"patch_6\">\n    <path d=\"M 48.029688 7.2 \nL 382.829687 7.2 \n\" style=\"fill:none;stroke:#000000;stroke-linecap:square;stroke-linejoin:miter;stroke-width:0.8;\"/>\n   </g>\n  </g>\n </g>\n <defs>\n  <clipPath id=\"pc22d4ae216\">\n   <rect height=\"217.44\" width=\"334.8\" x=\"48.029688\" y=\"7.2\"/>\n  </clipPath>\n </defs>\n</svg>\n",
      "image/png": "[encoded data removed]"
     },
     "metadata": {
      "needs_background": "light"
     }
    }
   ],
   "source": [
    "from scipy.interpolate import interp1d\n",
    "\n",
    "y = temp_df['ECG']\n",
    "x = temp_df.index\n",
    "f = interp1d(x, y)\n",
    "f2 = f = interp1d(x, y, kind='cubic')\n",
    "\n",
    "\n",
    "limiter = 100\n",
    "sns.lineplot(x[:limiter], f(x[:limiter]))\n",
    "sns.lineplot(x[:limiter], f2(x[:limiter]))"
   ]
  },
  {
   "cell_type": "code",
   "execution_count": 150,
   "metadata": {},
   "outputs": [
    {
     "output_type": "execute_result",
     "data": {
      "text/plain": [
       "<AxesSubplot:>"
      ]
     },
     "metadata": {},
     "execution_count": 150
    },
    {
     "output_type": "display_data",
     "data": {
      "text/plain": "<Figure size 432x288 with 1 Axes>",
      "image/svg+xml": "<?xml version=\"1.0\" encoding=\"utf-8\" standalone=\"no\"?>\n<!DOCTYPE svg PUBLIC \"-//W3C//DTD SVG 1.1//EN\"\n  \"http://www.w3.org/Graphics/SVG/1.1/DTD/svg11.dtd\">\n<!-- Created with matplotlib (https://matplotlib.org/) -->\n<svg height=\"251.183203pt\" version=\"1.1\" viewBox=\"0 0 390.029687 251.183203\" width=\"390.029687pt\" xmlns=\"http://www.w3.org/2000/svg\" xmlns:xlink=\"http://www.w3.org/1999/xlink\">\n <metadata>\n  <rdf:RDF xmlns:cc=\"http://creativecommons.org/ns#\" xmlns:dc=\"http://purl.org/dc/elements/1.1/\" xmlns:rdf=\"http://www.w3.org/1999/02/22-rdf-syntax-ns#\">\n   <cc:Work>\n    <dc:type rdf:resource=\"http://purl.org/dc/dcmitype/StillImage\"/>\n    <dc:date>2020-11-06T17:54:44.880961</dc:date>\n    <dc:format>image/svg+xml</dc:format>\n    <dc:creator>\n     <cc:Agent>\n      <dc:title>Matplotlib v3.3.2, https://matplotlib.org/</dc:title>\n     </cc:Agent>\n    </dc:creator>\n   </cc:Work>\n  </rdf:RDF>\n </metadata>\n <defs>\n  <style type=\"text/css\">*{stroke-linecap:butt;stroke-linejoin:round;}</style>\n </defs>\n <g id=\"figure_1\">\n  <g id=\"patch_1\">\n   <path d=\"M 0 251.183203 \nL 390.029687 251.183203 \nL 390.029687 0 \nL 0 0 \nz\n\" style=\"fill:none;\"/>\n  </g>\n  <g id=\"axes_1\">\n   <g id=\"patch_2\">\n    <path d=\"M 48.029688 227.305078 \nL 382.829688 227.305078 \nL 382.829688 9.865078 \nL 48.029688 9.865078 \nz\n\" style=\"fill:#ffffff;\"/>\n   </g>\n   <g id=\"matplotlib.axis_1\">\n    <g id=\"xtick_1\">\n     <g id=\"line2d_1\">\n      <defs>\n       <path d=\"M 0 0 \nL 0 3.5 \n\" id=\"m1608c1923f\" style=\"stroke:#000000;stroke-width:0.8;\"/>\n      </defs>\n      <g>\n       <use style=\"stroke:#000000;stroke-width:0.8;\" x=\"63.247869\" xlink:href=\"#m1608c1923f\" y=\"227.305078\"/>\n      </g>\n     </g>\n     <g id=\"text_1\">\n      <!-- 0 -->\n      <g transform=\"translate(60.066619 241.903516)scale(0.1 -0.1)\">\n       <defs>\n        <path d=\"M 31.78125 66.40625 \nQ 24.171875 66.40625 20.328125 58.90625 \nQ 16.5 51.421875 16.5 36.375 \nQ 16.5 21.390625 20.328125 13.890625 \nQ 24.171875 6.390625 31.78125 6.390625 \nQ 39.453125 6.390625 43.28125 13.890625 \nQ 47.125 21.390625 47.125 36.375 \nQ 47.125 51.421875 43.28125 58.90625 \nQ 39.453125 66.40625 31.78125 66.40625 \nz\nM 31.78125 74.21875 \nQ 44.046875 74.21875 50.515625 64.515625 \nQ 56.984375 54.828125 56.984375 36.375 \nQ 56.984375 17.96875 50.515625 8.265625 \nQ 44.046875 -1.421875 31.78125 -1.421875 \nQ 19.53125 -1.421875 13.0625 8.265625 \nQ 6.59375 17.96875 6.59375 36.375 \nQ 6.59375 54.828125 13.0625 64.515625 \nQ 19.53125 74.21875 31.78125 74.21875 \nz\n\" id=\"DejaVuSans-48\"/>\n       </defs>\n       <use xlink:href=\"#DejaVuSans-48\"/>\n      </g>\n     </g>\n    </g>\n    <g id=\"xtick_2\">\n     <g id=\"line2d_2\">\n      <g>\n       <use style=\"stroke:#000000;stroke-width:0.8;\" x=\"124.735473\" xlink:href=\"#m1608c1923f\" y=\"227.305078\"/>\n      </g>\n     </g>\n     <g id=\"text_2\">\n      <!-- 20 -->\n      <g transform=\"translate(118.372973 241.903516)scale(0.1 -0.1)\">\n       <defs>\n        <path d=\"M 19.1875 8.296875 \nL 53.609375 8.296875 \nL 53.609375 0 \nL 7.328125 0 \nL 7.328125 8.296875 \nQ 12.9375 14.109375 22.625 23.890625 \nQ 32.328125 33.6875 34.8125 36.53125 \nQ 39.546875 41.84375 41.421875 45.53125 \nQ 43.3125 49.21875 43.3125 52.78125 \nQ 43.3125 58.59375 39.234375 62.25 \nQ 35.15625 65.921875 28.609375 65.921875 \nQ 23.96875 65.921875 18.8125 64.3125 \nQ 13.671875 62.703125 7.8125 59.421875 \nL 7.8125 69.390625 \nQ 13.765625 71.78125 18.9375 73 \nQ 24.125 74.21875 28.421875 74.21875 \nQ 39.75 74.21875 46.484375 68.546875 \nQ 53.21875 62.890625 53.21875 53.421875 \nQ 53.21875 48.921875 51.53125 44.890625 \nQ 49.859375 40.875 45.40625 35.40625 \nQ 44.1875 33.984375 37.640625 27.21875 \nQ 31.109375 20.453125 19.1875 8.296875 \nz\n\" id=\"DejaVuSans-50\"/>\n       </defs>\n       <use xlink:href=\"#DejaVuSans-50\"/>\n       <use x=\"63.623047\" xlink:href=\"#DejaVuSans-48\"/>\n      </g>\n     </g>\n    </g>\n    <g id=\"xtick_3\">\n     <g id=\"line2d_3\">\n      <g>\n       <use style=\"stroke:#000000;stroke-width:0.8;\" x=\"186.223076\" xlink:href=\"#m1608c1923f\" y=\"227.305078\"/>\n      </g>\n     </g>\n     <g id=\"text_3\">\n      <!-- 40 -->\n      <g transform=\"translate(179.860576 241.903516)scale(0.1 -0.1)\">\n       <defs>\n        <path d=\"M 37.796875 64.3125 \nL 12.890625 25.390625 \nL 37.796875 25.390625 \nz\nM 35.203125 72.90625 \nL 47.609375 72.90625 \nL 47.609375 25.390625 \nL 58.015625 25.390625 \nL 58.015625 17.1875 \nL 47.609375 17.1875 \nL 47.609375 0 \nL 37.796875 0 \nL 37.796875 17.1875 \nL 4.890625 17.1875 \nL 4.890625 26.703125 \nz\n\" id=\"DejaVuSans-52\"/>\n       </defs>\n       <use xlink:href=\"#DejaVuSans-52\"/>\n       <use x=\"63.623047\" xlink:href=\"#DejaVuSans-48\"/>\n      </g>\n     </g>\n    </g>\n    <g id=\"xtick_4\">\n     <g id=\"line2d_4\">\n      <g>\n       <use style=\"stroke:#000000;stroke-width:0.8;\" x=\"247.710679\" xlink:href=\"#m1608c1923f\" y=\"227.305078\"/>\n      </g>\n     </g>\n     <g id=\"text_4\">\n      <!-- 60 -->\n      <g transform=\"translate(241.348179 241.903516)scale(0.1 -0.1)\">\n       <defs>\n        <path d=\"M 33.015625 40.375 \nQ 26.375 40.375 22.484375 35.828125 \nQ 18.609375 31.296875 18.609375 23.390625 \nQ 18.609375 15.53125 22.484375 10.953125 \nQ 26.375 6.390625 33.015625 6.390625 \nQ 39.65625 6.390625 43.53125 10.953125 \nQ 47.40625 15.53125 47.40625 23.390625 \nQ 47.40625 31.296875 43.53125 35.828125 \nQ 39.65625 40.375 33.015625 40.375 \nz\nM 52.59375 71.296875 \nL 52.59375 62.3125 \nQ 48.875 64.0625 45.09375 64.984375 \nQ 41.3125 65.921875 37.59375 65.921875 \nQ 27.828125 65.921875 22.671875 59.328125 \nQ 17.53125 52.734375 16.796875 39.40625 \nQ 19.671875 43.65625 24.015625 45.921875 \nQ 28.375 48.1875 33.59375 48.1875 \nQ 44.578125 48.1875 50.953125 41.515625 \nQ 57.328125 34.859375 57.328125 23.390625 \nQ 57.328125 12.15625 50.6875 5.359375 \nQ 44.046875 -1.421875 33.015625 -1.421875 \nQ 20.359375 -1.421875 13.671875 8.265625 \nQ 6.984375 17.96875 6.984375 36.375 \nQ 6.984375 53.65625 15.1875 63.9375 \nQ 23.390625 74.21875 37.203125 74.21875 \nQ 40.921875 74.21875 44.703125 73.484375 \nQ 48.484375 72.75 52.59375 71.296875 \nz\n\" id=\"DejaVuSans-54\"/>\n       </defs>\n       <use xlink:href=\"#DejaVuSans-54\"/>\n       <use x=\"63.623047\" xlink:href=\"#DejaVuSans-48\"/>\n      </g>\n     </g>\n    </g>\n    <g id=\"xtick_5\">\n     <g id=\"line2d_5\">\n      <g>\n       <use style=\"stroke:#000000;stroke-width:0.8;\" x=\"309.198283\" xlink:href=\"#m1608c1923f\" y=\"227.305078\"/>\n      </g>\n     </g>\n     <g id=\"text_5\">\n      <!-- 80 -->\n      <g transform=\"translate(302.835783 241.903516)scale(0.1 -0.1)\">\n       <defs>\n        <path d=\"M 31.78125 34.625 \nQ 24.75 34.625 20.71875 30.859375 \nQ 16.703125 27.09375 16.703125 20.515625 \nQ 16.703125 13.921875 20.71875 10.15625 \nQ 24.75 6.390625 31.78125 6.390625 \nQ 38.8125 6.390625 42.859375 10.171875 \nQ 46.921875 13.96875 46.921875 20.515625 \nQ 46.921875 27.09375 42.890625 30.859375 \nQ 38.875 34.625 31.78125 34.625 \nz\nM 21.921875 38.8125 \nQ 15.578125 40.375 12.03125 44.71875 \nQ 8.5 49.078125 8.5 55.328125 \nQ 8.5 64.0625 14.71875 69.140625 \nQ 20.953125 74.21875 31.78125 74.21875 \nQ 42.671875 74.21875 48.875 69.140625 \nQ 55.078125 64.0625 55.078125 55.328125 \nQ 55.078125 49.078125 51.53125 44.71875 \nQ 48 40.375 41.703125 38.8125 \nQ 48.828125 37.15625 52.796875 32.3125 \nQ 56.78125 27.484375 56.78125 20.515625 \nQ 56.78125 9.90625 50.3125 4.234375 \nQ 43.84375 -1.421875 31.78125 -1.421875 \nQ 19.734375 -1.421875 13.25 4.234375 \nQ 6.78125 9.90625 6.78125 20.515625 \nQ 6.78125 27.484375 10.78125 32.3125 \nQ 14.796875 37.15625 21.921875 38.8125 \nz\nM 18.3125 54.390625 \nQ 18.3125 48.734375 21.84375 45.5625 \nQ 25.390625 42.390625 31.78125 42.390625 \nQ 38.140625 42.390625 41.71875 45.5625 \nQ 45.3125 48.734375 45.3125 54.390625 \nQ 45.3125 60.0625 41.71875 63.234375 \nQ 38.140625 66.40625 31.78125 66.40625 \nQ 25.390625 66.40625 21.84375 63.234375 \nQ 18.3125 60.0625 18.3125 54.390625 \nz\n\" id=\"DejaVuSans-56\"/>\n       </defs>\n       <use xlink:href=\"#DejaVuSans-56\"/>\n       <use x=\"63.623047\" xlink:href=\"#DejaVuSans-48\"/>\n      </g>\n     </g>\n    </g>\n    <g id=\"xtick_6\">\n     <g id=\"line2d_6\">\n      <g>\n       <use style=\"stroke:#000000;stroke-width:0.8;\" x=\"370.685886\" xlink:href=\"#m1608c1923f\" y=\"227.305078\"/>\n      </g>\n     </g>\n     <g id=\"text_6\">\n      <!-- 100 -->\n      <g transform=\"translate(361.142136 241.903516)scale(0.1 -0.1)\">\n       <defs>\n        <path d=\"M 12.40625 8.296875 \nL 28.515625 8.296875 \nL 28.515625 63.921875 \nL 10.984375 60.40625 \nL 10.984375 69.390625 \nL 28.421875 72.90625 \nL 38.28125 72.90625 \nL 38.28125 8.296875 \nL 54.390625 8.296875 \nL 54.390625 0 \nL 12.40625 0 \nz\n\" id=\"DejaVuSans-49\"/>\n       </defs>\n       <use xlink:href=\"#DejaVuSans-49\"/>\n       <use x=\"63.623047\" xlink:href=\"#DejaVuSans-48\"/>\n       <use x=\"127.246094\" xlink:href=\"#DejaVuSans-48\"/>\n      </g>\n     </g>\n    </g>\n   </g>\n   <g id=\"matplotlib.axis_2\">\n    <g id=\"ytick_1\">\n     <g id=\"line2d_7\">\n      <defs>\n       <path d=\"M 0 0 \nL -3.5 0 \n\" id=\"m83b9199ea5\" style=\"stroke:#000000;stroke-width:0.8;\"/>\n      </defs>\n      <g>\n       <use style=\"stroke:#000000;stroke-width:0.8;\" x=\"48.029688\" xlink:href=\"#m83b9199ea5\" y=\"190.896587\"/>\n      </g>\n     </g>\n     <g id=\"text_7\">\n      <!-- −1000 -->\n      <g transform=\"translate(7.2 194.695805)scale(0.1 -0.1)\">\n       <defs>\n        <path d=\"M 10.59375 35.5 \nL 73.1875 35.5 \nL 73.1875 27.203125 \nL 10.59375 27.203125 \nz\n\" id=\"DejaVuSans-8722\"/>\n       </defs>\n       <use xlink:href=\"#DejaVuSans-8722\"/>\n       <use x=\"83.789062\" xlink:href=\"#DejaVuSans-49\"/>\n       <use x=\"147.412109\" xlink:href=\"#DejaVuSans-48\"/>\n       <use x=\"211.035156\" xlink:href=\"#DejaVuSans-48\"/>\n       <use x=\"274.658203\" xlink:href=\"#DejaVuSans-48\"/>\n      </g>\n     </g>\n    </g>\n    <g id=\"ytick_2\">\n     <g id=\"line2d_8\">\n      <g>\n       <use style=\"stroke:#000000;stroke-width:0.8;\" x=\"48.029688\" xlink:href=\"#m83b9199ea5\" y=\"145.922245\"/>\n      </g>\n     </g>\n     <g id=\"text_8\">\n      <!-- −900 -->\n      <g transform=\"translate(13.5625 149.721463)scale(0.1 -0.1)\">\n       <defs>\n        <path d=\"M 10.984375 1.515625 \nL 10.984375 10.5 \nQ 14.703125 8.734375 18.5 7.8125 \nQ 22.3125 6.890625 25.984375 6.890625 \nQ 35.75 6.890625 40.890625 13.453125 \nQ 46.046875 20.015625 46.78125 33.40625 \nQ 43.953125 29.203125 39.59375 26.953125 \nQ 35.25 24.703125 29.984375 24.703125 \nQ 19.046875 24.703125 12.671875 31.3125 \nQ 6.296875 37.9375 6.296875 49.421875 \nQ 6.296875 60.640625 12.9375 67.421875 \nQ 19.578125 74.21875 30.609375 74.21875 \nQ 43.265625 74.21875 49.921875 64.515625 \nQ 56.59375 54.828125 56.59375 36.375 \nQ 56.59375 19.140625 48.40625 8.859375 \nQ 40.234375 -1.421875 26.421875 -1.421875 \nQ 22.703125 -1.421875 18.890625 -0.6875 \nQ 15.09375 0.046875 10.984375 1.515625 \nz\nM 30.609375 32.421875 \nQ 37.25 32.421875 41.125 36.953125 \nQ 45.015625 41.5 45.015625 49.421875 \nQ 45.015625 57.28125 41.125 61.84375 \nQ 37.25 66.40625 30.609375 66.40625 \nQ 23.96875 66.40625 20.09375 61.84375 \nQ 16.21875 57.28125 16.21875 49.421875 \nQ 16.21875 41.5 20.09375 36.953125 \nQ 23.96875 32.421875 30.609375 32.421875 \nz\n\" id=\"DejaVuSans-57\"/>\n       </defs>\n       <use xlink:href=\"#DejaVuSans-8722\"/>\n       <use x=\"83.789062\" xlink:href=\"#DejaVuSans-57\"/>\n       <use x=\"147.412109\" xlink:href=\"#DejaVuSans-48\"/>\n       <use x=\"211.035156\" xlink:href=\"#DejaVuSans-48\"/>\n      </g>\n     </g>\n    </g>\n    <g id=\"ytick_3\">\n     <g id=\"line2d_9\">\n      <g>\n       <use style=\"stroke:#000000;stroke-width:0.8;\" x=\"48.029688\" xlink:href=\"#m83b9199ea5\" y=\"100.947903\"/>\n      </g>\n     </g>\n     <g id=\"text_9\">\n      <!-- −800 -->\n      <g transform=\"translate(13.5625 104.747121)scale(0.1 -0.1)\">\n       <use xlink:href=\"#DejaVuSans-8722\"/>\n       <use x=\"83.789062\" xlink:href=\"#DejaVuSans-56\"/>\n       <use x=\"147.412109\" xlink:href=\"#DejaVuSans-48\"/>\n       <use x=\"211.035156\" xlink:href=\"#DejaVuSans-48\"/>\n      </g>\n     </g>\n    </g>\n    <g id=\"ytick_4\">\n     <g id=\"line2d_10\">\n      <g>\n       <use style=\"stroke:#000000;stroke-width:0.8;\" x=\"48.029688\" xlink:href=\"#m83b9199ea5\" y=\"55.973561\"/>\n      </g>\n     </g>\n     <g id=\"text_10\">\n      <!-- −700 -->\n      <g transform=\"translate(13.5625 59.772779)scale(0.1 -0.1)\">\n       <defs>\n        <path d=\"M 8.203125 72.90625 \nL 55.078125 72.90625 \nL 55.078125 68.703125 \nL 28.609375 0 \nL 18.3125 0 \nL 43.21875 64.59375 \nL 8.203125 64.59375 \nz\n\" id=\"DejaVuSans-55\"/>\n       </defs>\n       <use xlink:href=\"#DejaVuSans-8722\"/>\n       <use x=\"83.789062\" xlink:href=\"#DejaVuSans-55\"/>\n       <use x=\"147.412109\" xlink:href=\"#DejaVuSans-48\"/>\n       <use x=\"211.035156\" xlink:href=\"#DejaVuSans-48\"/>\n      </g>\n     </g>\n    </g>\n    <g id=\"ytick_5\">\n     <g id=\"line2d_11\">\n      <g>\n       <use style=\"stroke:#000000;stroke-width:0.8;\" x=\"48.029688\" xlink:href=\"#m83b9199ea5\" y=\"10.999219\"/>\n      </g>\n     </g>\n     <g id=\"text_11\">\n      <!-- −600 -->\n      <g transform=\"translate(13.5625 14.798438)scale(0.1 -0.1)\">\n       <use xlink:href=\"#DejaVuSans-8722\"/>\n       <use x=\"83.789062\" xlink:href=\"#DejaVuSans-54\"/>\n       <use x=\"147.412109\" xlink:href=\"#DejaVuSans-48\"/>\n       <use x=\"211.035156\" xlink:href=\"#DejaVuSans-48\"/>\n      </g>\n     </g>\n    </g>\n   </g>\n   <g id=\"line2d_12\">\n    <path clip-path=\"url(#p2351400dc4)\" d=\"M 63.247869 109.582976 \nL 63.976824 106.389531 \nL 64.647949 104.376699 \nL 65.26581 103.174299 \nL 65.84106 102.507887 \nL 66.399571 102.185518 \nL 67.006779 102.094233 \nL 67.889438 102.216372 \nL 68.969934 102.318068 \nL 69.555837 102.14276 \nL 70.444583 101.571059 \nL 71.159842 101.237499 \nL 71.604215 101.263622 \nL 71.990758 101.51484 \nL 72.389477 102.061094 \nL 72.852112 103.115922 \nL 73.641939 105.578044 \nL 74.685912 108.657091 \nL 75.160722 109.440089 \nL 75.472696 109.595595 \nL 75.71771 109.475238 \nL 76.028162 109.035539 \nL 76.481666 107.95421 \nL 77.353673 105.160543 \nL 78.166328 102.872129 \nL 78.595482 102.233235 \nL 78.890717 102.134969 \nL 79.195082 102.280702 \nL 79.653151 102.789954 \nL 80.56016 103.802859 \nL 80.872134 103.836929 \nL 81.133888 103.631304 \nL 81.424557 103.083827 \nL 81.768489 101.90582 \nL 82.221993 99.433974 \nL 82.914424 94.256955 \nL 84.693438 80.501789 \nL 85.204772 78.346531 \nL 85.629361 77.401539 \nL 85.968728 77.111495 \nL 86.25331 77.138514 \nL 86.574415 77.417199 \nL 87.011179 78.12895 \nL 87.705132 79.7522 \nL 88.860197 83.027461 \nL 89.535888 85.692575 \nL 90.175055 89.173567 \nL 90.821831 94.000858 \nL 91.567525 101.426838 \nL 93.509375 121.452402 \nL 94.032883 124.493989 \nL 94.405731 125.54621 \nL 94.676616 125.776369 \nL 94.885106 125.685363 \nL 95.145338 125.284854 \nL 95.518185 124.244634 \nL 96.075173 121.942987 \nL 100.097359 102.480156 \nL 101.028716 96.081243 \nL 103.562556 78.083655 \nL 104.303686 74.652462 \nL 104.881979 72.914293 \nL 105.318743 72.21019 \nL 105.638327 72.052948 \nL 105.903124 72.164603 \nL 106.19988 72.562163 \nL 106.572728 73.480424 \nL 107.088627 75.413891 \nL 107.861714 79.287178 \nL 109.864437 89.660135 \nL 110.614697 92.164404 \nL 111.278213 93.666637 \nL 111.856507 94.472402 \nL 112.355666 94.81825 \nL 112.793952 94.867687 \nL 113.188104 94.686181 \nL 113.597476 94.234557 \nL 114.052502 93.373563 \nL 114.565357 91.888767 \nL 115.139085 89.495543 \nL 115.778252 85.806725 \nL 116.712653 78.881767 \nL 118.389705 66.483676 \nL 119.031916 63.339628 \nL 119.479332 62.099315 \nL 119.779132 61.79623 \nL 119.983057 61.860865 \nL 120.209809 62.211113 \nL 120.503521 63.133049 \nL 120.873325 65.109559 \nL 121.31922 68.820356 \nL 121.839684 75.180348 \nL 122.495591 86.237052 \nL 123.390425 105.45668 \nL 125.014213 146.173459 \nL 126.627348 184.354523 \nL 127.572402 201.836764 \nL 128.273964 211.106378 \nL 128.803559 215.518461 \nL 129.184015 217.130722 \nL 129.424464 217.421434 \nL 129.570559 217.308304 \nL 129.765353 216.803997 \nL 130.039281 215.385287 \nL 130.398432 212.206573 \nL 130.841284 206.101096 \nL 131.383054 195.236406 \nL 132.093746 176.098575 \nL 133.07228 143.154503 \nL 136.132672 35.614592 \nL 136.704878 24.716199 \nL 137.102075 20.691953 \nL 137.365351 19.777205 \nL 137.48101 19.778196 \nL 137.499271 19.799245 \nL 137.649932 20.178479 \nL 137.893424 21.501965 \nL 138.26475 24.92506 \nL 138.853696 32.721996 \nL 140.332911 52.946923 \nL 140.874681 56.957799 \nL 141.405798 59.349446 \nL 142.063227 61.251762 \nL 142.763267 63.389783 \nL 143.225902 65.629532 \nL 143.778325 69.596854 \nL 145.978885 86.685654 \nL 146.327383 87.586041 \nL 146.546526 87.681475 \nL 146.73371 87.498515 \nL 146.998508 86.871314 \nL 147.386574 85.298968 \nL 147.97552 81.854416 \nL 149.896064 69.935178 \nL 150.527622 67.766288 \nL 151.110481 66.496933 \nL 151.658339 65.797759 \nL 152.20924 65.440363 \nL 152.866668 65.28741 \nL 153.755415 65.326591 \nL 155.297024 65.407308 \nL 156.024457 65.182244 \nL 157.36062 64.740452 \nL 157.881084 64.826741 \nL 158.339154 65.134296 \nL 158.806354 65.734985 \nL 159.410519 66.918472 \nL 160.340355 69.29828 \nL 162.075236 73.747236 \nL 164.254491 78.659763 \nL 164.977358 81.137127 \nL 165.878279 85.12768 \nL 169.31304 101.206764 \nL 169.833504 102.35176 \nL 170.200264 102.704224 \nL 170.466584 102.688385 \nL 170.728338 102.426892 \nL 171.047921 101.751752 \nL 171.492294 100.222011 \nL 172.148201 97.064093 \nL 174.332021 85.920148 \nL 175.009234 84.014525 \nL 175.829498 82.388 \nL 177.036306 80.02065 \nL 177.861135 77.715029 \nL 179.255128 73.866154 \nL 179.80755 72.956729 \nL 180.188007 72.699331 \nL 180.499981 72.74504 \nL 180.839348 73.040359 \nL 181.263938 73.736749 \nL 181.811795 75.105202 \nL 182.530097 77.554002 \nL 183.560373 81.950143 \nL 184.675871 86.466813 \nL 185.20851 87.792857 \nL 185.560052 88.172266 \nL 185.8005 88.152789 \nL 186.037905 87.880682 \nL 186.333139 87.153593 \nL 186.748598 85.443264 \nL 187.42581 81.56204 \nL 188.687404 74.363468 \nL 189.137864 72.969829 \nL 189.41788 72.671709 \nL 189.614196 72.747473 \nL 189.853122 73.127541 \nL 190.194011 74.150511 \nL 190.680996 76.406194 \nL 191.435821 81.106909 \nL 193.117439 91.767008 \nL 193.779433 94.495307 \nL 194.263373 95.669355 \nL 194.604262 96.009684 \nL 194.849276 95.979852 \nL 195.098856 95.696032 \nL 195.41083 94.957686 \nL 195.818679 93.34138 \nL 196.465455 89.728991 \nL 197.886841 81.651844 \nL 198.329692 80.344949 \nL 198.605142 80.076139 \nL 198.80298 80.164222 \nL 199.057125 80.570347 \nL 199.44519 81.675698 \nL 200.233496 84.773469 \nL 200.915274 87.035842 \nL 201.269859 87.577916 \nL 201.484437 87.585295 \nL 201.683796 87.330948 \nL 201.968377 86.535082 \nL 202.396011 84.584044 \nL 203.156923 79.869588 \nL 204.11263 74.332454 \nL 204.550916 72.92382 \nL 204.818757 72.644578 \nL 205.007464 72.731062 \nL 205.244868 73.138562 \nL 205.587279 74.235157 \nL 206.084916 76.671967 \nL 206.923442 82.084138 \nL 208.13025 89.598265 \nL 208.828768 92.544927 \nL 209.416193 94.151884 \nL 209.891003 94.878041 \nL 210.265372 95.09414 \nL 210.584955 95.032538 \nL 210.925844 94.719588 \nL 211.367174 93.971851 \nL 212.018515 92.372994 \nL 213.943625 87.391572 \nL 214.45648 86.768002 \nL 214.926724 86.522826 \nL 215.401534 86.524661 \nL 215.972218 86.765021 \nL 216.97358 87.48216 \nL 217.996247 88.10204 \nL 218.653675 88.254672 \nL 219.196967 88.157622 \nL 219.705257 87.834842 \nL 220.230287 87.222499 \nL 221.729285 85.267509 \nL 222.056478 85.23944 \nL 222.341059 85.448186 \nL 222.656077 85.987954 \nL 223.024359 87.107804 \nL 223.46721 89.247171 \nL 224.106377 93.572133 \nL 226.597606 111.645936 \nL 227.191118 113.748363 \nL 227.772456 115.041451 \nL 228.428362 115.961322 \nL 229.723436 117.646362 \nL 230.671534 118.947897 \nL 231.079383 119.164279 \nL 231.382226 119.08876 \nL 231.682026 118.763315 \nL 232.024437 118.026835 \nL 232.424677 116.584528 \nL 232.972534 113.636557 \nL 234.813944 103.059753 \nL 235.17766 102.272741 \nL 235.395281 102.204912 \nL 235.579422 102.413233 \nL 235.848785 103.119303 \nL 236.253591 104.896428 \nL 236.939934 109.08878 \nL 238.023474 115.511354 \nL 238.455673 116.893903 \nL 238.728079 117.17512 \nL 238.930482 117.101276 \nL 239.184627 116.723273 \nL 239.566605 115.693059 \nL 240.277298 112.994309 \nL 241.073213 110.268857 \nL 241.452148 109.639138 \nL 241.683465 109.596058 \nL 241.908695 109.812559 \nL 242.229801 110.480618 \nL 242.741134 112.138133 \nL 244.051426 116.552625 \nL 244.395359 116.989465 \nL 244.611458 116.970439 \nL 244.829079 116.685299 \nL 245.141053 115.849084 \nL 245.599123 113.89706 \nL 246.363079 109.499252 \nL 247.550104 102.849643 \nL 248.052306 101.196499 \nL 248.467765 100.50355 \nL 248.816263 100.301959 \nL 249.148021 100.363363 \nL 249.560435 100.691255 \nL 250.301565 101.62936 \nL 251.065521 102.462057 \nL 251.63164 102.745966 \nL 252.223631 102.793438 \nL 252.944976 102.614276 \nL 255.640129 101.730553 \nL 256.305167 101.855377 \nL 256.913898 102.198864 \nL 257.729596 102.968934 \nL 258.488987 103.55929 \nL 258.918142 103.63283 \nL 259.269684 103.467905 \nL 259.627313 103.033838 \nL 260.026031 102.165908 \nL 260.516059 100.496219 \nL 261.228274 97.183707 \nL 263.649499 85.267976 \nL 264.396715 83.105804 \nL 265.160672 81.551429 \nL 266.063114 80.229528 \nL 267.113174 79.049231 \nL 267.67625 78.724813 \nL 268.103883 78.718492 \nL 268.491948 78.940691 \nL 268.898276 79.449668 \nL 269.35178 80.404894 \nL 269.99399 82.372087 \nL 271.401679 86.765462 \nL 271.84453 87.453061 \nL 272.135199 87.563298 \nL 272.36956 87.413735 \nL 272.667838 86.910736 \nL 273.11982 85.64733 \nL 274.911009 80.146345 \nL 275.189504 79.995125 \nL 275.397994 80.129259 \nL 275.656704 80.616083 \nL 276.031073 81.863964 \nL 276.591105 84.609933 \nL 278.656223 95.500063 \nL 279.102118 96.442821 \nL 279.476487 96.778513 \nL 279.808245 96.796539 \nL 280.17957 96.576449 \nL 280.715253 95.964095 \nL 282.139682 94.232817 \nL 282.733194 93.916942 \nL 283.264311 93.876895 \nL 283.778688 94.064096 \nL 284.320458 94.509485 \nL 284.939841 95.329707 \nL 286.065992 96.846366 \nL 286.460145 97.020302 \nL 286.759945 96.919913 \nL 287.06431 96.55959 \nL 287.41433 95.76057 \nL 287.822179 94.21892 \nL 288.405039 90.995005 \nL 290.080569 81.271073 \nL 290.479287 80.249236 \nL 290.721258 80.098748 \nL 290.899311 80.249006 \nL 291.148891 80.809075 \nL 291.521738 82.271095 \nL 292.113728 85.628812 \nL 293.541201 93.958078 \nL 293.946006 95.078958 \nL 294.222979 95.313009 \nL 294.442122 95.228332 \nL 294.714528 94.841178 \nL 295.111725 93.832678 \nL 295.773719 91.439242 \nL 296.878565 87.532598 \nL 297.344243 86.65751 \nL 297.749049 86.320823 \nL 298.129506 86.280643 \nL 298.576922 86.474195 \nL 299.462625 87.1743 \nL 300.08353 87.509529 \nL 300.590298 87.516733 \nL 301.380125 87.266302 \nL 302.207999 87.079678 \nL 302.685852 87.199421 \nL 303.111963 87.544515 \nL 303.685692 88.357289 \nL 304.606396 89.61165 \nL 304.9762 89.773413 \nL 305.254694 89.662433 \nL 305.542319 89.282234 \nL 305.878642 88.426272 \nL 306.274317 86.747654 \nL 306.855655 83.133215 \nL 308.315086 73.753422 \nL 308.71076 72.576279 \nL 308.945121 72.402441 \nL 309.106435 72.549741 \nL 309.319491 73.113647 \nL 309.639074 74.696746 \nL 310.129102 78.407937 \nL 312.055733 94.26155 \nL 312.355533 94.94606 \nL 312.529021 94.942359 \nL 312.714684 94.647355 \nL 312.997744 93.703058 \nL 313.434508 91.356628 \nL 314.518047 83.823509 \nL 315.102429 80.783466 \nL 315.441796 79.970064 \nL 315.651808 79.904417 \nL 315.842036 80.109348 \nL 316.114443 80.789268 \nL 316.513161 82.465886 \nL 317.124935 86.133888 \nL 318.870469 97.090801 \nL 319.398543 98.855496 \nL 319.789652 99.503839 \nL 320.063581 99.602638 \nL 320.297942 99.444226 \nL 320.581001 98.942722 \nL 320.940152 97.797907 \nL 321.381482 95.574382 \nL 321.932383 91.532216 \nL 324.177076 73.641081 \nL 324.516443 72.788747 \nL 324.71428 72.732252 \nL 324.895378 72.958809 \nL 325.164741 73.720744 \nL 325.574112 75.646916 \nL 326.296979 80.327069 \nL 327.252686 86.148522 \nL 327.675753 87.540933 \nL 327.94816 87.826697 \nL 328.150563 87.756037 \nL 328.403186 87.384203 \nL 328.780599 86.371785 \nL 329.463899 83.770464 \nL 330.313077 80.788249 \nL 330.698099 80.125252 \nL 330.941591 80.0635 \nL 331.177474 80.255205 \nL 331.503145 80.853383 \nL 332.003826 82.308649 \nL 333.586525 87.222079 \nL 333.921326 87.551087 \nL 334.173949 87.51655 \nL 334.458531 87.223567 \nL 334.851162 86.45697 \nL 335.44163 84.749705 \nL 337.222166 79.307165 \nL 337.745675 78.533899 \nL 338.179395 78.248669 \nL 338.55833 78.251552 \nL 338.946395 78.488142 \nL 339.396856 79.046373 \nL 339.940147 80.104098 \nL 340.678233 82.096199 \nL 342.294412 86.542111 \nL 342.813354 87.326942 \nL 343.172505 87.523532 \nL 343.479914 87.444075 \nL 343.82689 87.101667 \nL 344.26822 86.319143 \nL 344.84347 84.800027 \nL 345.615036 82.071601 \nL 348.109308 72.692333 \nL 348.491286 72.216078 \nL 348.751519 72.191626 \nL 348.988923 72.412015 \nL 349.27807 73.027321 \nL 349.681354 74.490752 \nL 350.302259 77.699389 \nL 351.971702 86.682204 \nL 352.403901 87.802854 \nL 352.731093 88.121482 \nL 353.015675 88.113113 \nL 353.365694 87.851924 \nL 354.680552 86.66254 \nL 354.943828 86.809952 \nL 355.222322 87.25454 \nL 355.558645 88.267049 \nL 356.053239 90.565382 \nL 357.048513 96.531372 \nL 357.861168 100.752871 \nL 358.311628 102.089682 \nL 358.597732 102.384249 \nL 358.8047 102.317781 \nL 359.048192 101.962021 \nL 359.384515 101.021245 \nL 359.845629 98.994029 \nL 360.481752 95.085279 \nL 361.461808 87.484949 \nL 363.688239 69.983037 \nL 364.462848 65.695623 \nL 365.02288 63.697173 \nL 365.42312 62.965982 \nL 365.695527 62.84494 \nL 365.917714 62.991364 \nL 366.184033 63.476516 \nL 366.5234 64.61733 \nL 366.940381 66.884128 \nL 367.433452 70.905341 \nL 367.611506 72.739995 \nL 367.611506 72.739995 \n\" style=\"fill:none;stroke:#1f77b4;stroke-linecap:square;stroke-width:1.5;\"/>\n   </g>\n   <g id=\"patch_3\">\n    <path d=\"M 48.029688 227.305078 \nL 48.029688 9.865078 \n\" style=\"fill:none;stroke:#000000;stroke-linecap:square;stroke-linejoin:miter;stroke-width:0.8;\"/>\n   </g>\n   <g id=\"patch_4\">\n    <path d=\"M 382.829688 227.305078 \nL 382.829688 9.865078 \n\" style=\"fill:none;stroke:#000000;stroke-linecap:square;stroke-linejoin:miter;stroke-width:0.8;\"/>\n   </g>\n   <g id=\"patch_5\">\n    <path d=\"M 48.029688 227.305078 \nL 382.829687 227.305078 \n\" style=\"fill:none;stroke:#000000;stroke-linecap:square;stroke-linejoin:miter;stroke-width:0.8;\"/>\n   </g>\n   <g id=\"patch_6\">\n    <path d=\"M 48.029688 9.865078 \nL 382.829687 9.865078 \n\" style=\"fill:none;stroke:#000000;stroke-linecap:square;stroke-linejoin:miter;stroke-width:0.8;\"/>\n   </g>\n  </g>\n </g>\n <defs>\n  <clipPath id=\"p2351400dc4\">\n   <rect height=\"217.44\" width=\"334.8\" x=\"48.029688\" y=\"9.865078\"/>\n  </clipPath>\n </defs>\n</svg>\n",
      "image/png": "[encoded data removed]"
     },
     "metadata": {
      "needs_background": "light"
     }
    }
   ],
   "source": [
    "limiter = 100\n",
    "\n",
    "df_test = temp_df[:100]\n",
    "\n",
    "y = df_test['ECG'].values\n",
    "x = df_test.index\n",
    "#sns.lineplot(x,y)\n",
    "\n",
    "\n",
    "from scipy import interpolate\n",
    "x_new = np.linspace(x[0],x[-1],len(x)*2000)\n",
    "a_BSpline = interpolate.make_interp_spline(x,y)\n",
    "y_new = a_BSpline(x_new)\n",
    "sns.lineplot(x_new,y_new)"
   ]
  },
  {
   "cell_type": "code",
   "execution_count": 151,
   "metadata": {},
   "outputs": [
    {
     "output_type": "execute_result",
     "data": {
      "text/plain": [
       "<AxesSubplot:>"
      ]
     },
     "metadata": {},
     "execution_count": 151
    },
    {
     "output_type": "display_data",
     "data": {
      "text/plain": "<Figure size 432x288 with 1 Axes>",
      "image/svg+xml": "<?xml version=\"1.0\" encoding=\"utf-8\" standalone=\"no\"?>\n<!DOCTYPE svg PUBLIC \"-//W3C//DTD SVG 1.1//EN\"\n  \"http://www.w3.org/Graphics/SVG/1.1/DTD/svg11.dtd\">\n<!-- Created with matplotlib (https://matplotlib.org/) -->\n<svg height=\"248.518125pt\" version=\"1.1\" viewBox=\"0 0 390.029687 248.518125\" width=\"390.029687pt\" xmlns=\"http://www.w3.org/2000/svg\" xmlns:xlink=\"http://www.w3.org/1999/xlink\">\n <metadata>\n  <rdf:RDF xmlns:cc=\"http://creativecommons.org/ns#\" xmlns:dc=\"http://purl.org/dc/elements/1.1/\" xmlns:rdf=\"http://www.w3.org/1999/02/22-rdf-syntax-ns#\">\n   <cc:Work>\n    <dc:type rdf:resource=\"http://purl.org/dc/dcmitype/StillImage\"/>\n    <dc:date>2020-11-06T17:54:45.377407</dc:date>\n    <dc:format>image/svg+xml</dc:format>\n    <dc:creator>\n     <cc:Agent>\n      <dc:title>Matplotlib v3.3.2, https://matplotlib.org/</dc:title>\n     </cc:Agent>\n    </dc:creator>\n   </cc:Work>\n  </rdf:RDF>\n </metadata>\n <defs>\n  <style type=\"text/css\">*{stroke-linecap:butt;stroke-linejoin:round;}</style>\n </defs>\n <g id=\"figure_1\">\n  <g id=\"patch_1\">\n   <path d=\"M 0 248.518125 \nL 390.029687 248.518125 \nL 390.029687 0 \nL 0 0 \nz\n\" style=\"fill:none;\"/>\n  </g>\n  <g id=\"axes_1\">\n   <g id=\"patch_2\">\n    <path d=\"M 48.029688 224.64 \nL 382.829688 224.64 \nL 382.829688 7.2 \nL 48.029688 7.2 \nz\n\" style=\"fill:#ffffff;\"/>\n   </g>\n   <g id=\"matplotlib.axis_1\">\n    <g id=\"xtick_1\">\n     <g id=\"line2d_1\">\n      <defs>\n       <path d=\"M 0 0 \nL 0 3.5 \n\" id=\"m5ef92a2186\" style=\"stroke:#000000;stroke-width:0.8;\"/>\n      </defs>\n      <g>\n       <use style=\"stroke:#000000;stroke-width:0.8;\" x=\"63.247869\" xlink:href=\"#m5ef92a2186\" y=\"224.64\"/>\n      </g>\n     </g>\n     <g id=\"text_1\">\n      <!-- 0 -->\n      <g transform=\"translate(60.066619 239.238437)scale(0.1 -0.1)\">\n       <defs>\n        <path d=\"M 31.78125 66.40625 \nQ 24.171875 66.40625 20.328125 58.90625 \nQ 16.5 51.421875 16.5 36.375 \nQ 16.5 21.390625 20.328125 13.890625 \nQ 24.171875 6.390625 31.78125 6.390625 \nQ 39.453125 6.390625 43.28125 13.890625 \nQ 47.125 21.390625 47.125 36.375 \nQ 47.125 51.421875 43.28125 58.90625 \nQ 39.453125 66.40625 31.78125 66.40625 \nz\nM 31.78125 74.21875 \nQ 44.046875 74.21875 50.515625 64.515625 \nQ 56.984375 54.828125 56.984375 36.375 \nQ 56.984375 17.96875 50.515625 8.265625 \nQ 44.046875 -1.421875 31.78125 -1.421875 \nQ 19.53125 -1.421875 13.0625 8.265625 \nQ 6.59375 17.96875 6.59375 36.375 \nQ 6.59375 54.828125 13.0625 64.515625 \nQ 19.53125 74.21875 31.78125 74.21875 \nz\n\" id=\"DejaVuSans-48\"/>\n       </defs>\n       <use xlink:href=\"#DejaVuSans-48\"/>\n      </g>\n     </g>\n    </g>\n    <g id=\"xtick_2\">\n     <g id=\"line2d_2\">\n      <g>\n       <use style=\"stroke:#000000;stroke-width:0.8;\" x=\"124.735473\" xlink:href=\"#m5ef92a2186\" y=\"224.64\"/>\n      </g>\n     </g>\n     <g id=\"text_2\">\n      <!-- 20 -->\n      <g transform=\"translate(118.372973 239.238437)scale(0.1 -0.1)\">\n       <defs>\n        <path d=\"M 19.1875 8.296875 \nL 53.609375 8.296875 \nL 53.609375 0 \nL 7.328125 0 \nL 7.328125 8.296875 \nQ 12.9375 14.109375 22.625 23.890625 \nQ 32.328125 33.6875 34.8125 36.53125 \nQ 39.546875 41.84375 41.421875 45.53125 \nQ 43.3125 49.21875 43.3125 52.78125 \nQ 43.3125 58.59375 39.234375 62.25 \nQ 35.15625 65.921875 28.609375 65.921875 \nQ 23.96875 65.921875 18.8125 64.3125 \nQ 13.671875 62.703125 7.8125 59.421875 \nL 7.8125 69.390625 \nQ 13.765625 71.78125 18.9375 73 \nQ 24.125 74.21875 28.421875 74.21875 \nQ 39.75 74.21875 46.484375 68.546875 \nQ 53.21875 62.890625 53.21875 53.421875 \nQ 53.21875 48.921875 51.53125 44.890625 \nQ 49.859375 40.875 45.40625 35.40625 \nQ 44.1875 33.984375 37.640625 27.21875 \nQ 31.109375 20.453125 19.1875 8.296875 \nz\n\" id=\"DejaVuSans-50\"/>\n       </defs>\n       <use xlink:href=\"#DejaVuSans-50\"/>\n       <use x=\"63.623047\" xlink:href=\"#DejaVuSans-48\"/>\n      </g>\n     </g>\n    </g>\n    <g id=\"xtick_3\">\n     <g id=\"line2d_3\">\n      <g>\n       <use style=\"stroke:#000000;stroke-width:0.8;\" x=\"186.223076\" xlink:href=\"#m5ef92a2186\" y=\"224.64\"/>\n      </g>\n     </g>\n     <g id=\"text_3\">\n      <!-- 40 -->\n      <g transform=\"translate(179.860576 239.238437)scale(0.1 -0.1)\">\n       <defs>\n        <path d=\"M 37.796875 64.3125 \nL 12.890625 25.390625 \nL 37.796875 25.390625 \nz\nM 35.203125 72.90625 \nL 47.609375 72.90625 \nL 47.609375 25.390625 \nL 58.015625 25.390625 \nL 58.015625 17.1875 \nL 47.609375 17.1875 \nL 47.609375 0 \nL 37.796875 0 \nL 37.796875 17.1875 \nL 4.890625 17.1875 \nL 4.890625 26.703125 \nz\n\" id=\"DejaVuSans-52\"/>\n       </defs>\n       <use xlink:href=\"#DejaVuSans-52\"/>\n       <use x=\"63.623047\" xlink:href=\"#DejaVuSans-48\"/>\n      </g>\n     </g>\n    </g>\n    <g id=\"xtick_4\">\n     <g id=\"line2d_4\">\n      <g>\n       <use style=\"stroke:#000000;stroke-width:0.8;\" x=\"247.710679\" xlink:href=\"#m5ef92a2186\" y=\"224.64\"/>\n      </g>\n     </g>\n     <g id=\"text_4\">\n      <!-- 60 -->\n      <g transform=\"translate(241.348179 239.238437)scale(0.1 -0.1)\">\n       <defs>\n        <path d=\"M 33.015625 40.375 \nQ 26.375 40.375 22.484375 35.828125 \nQ 18.609375 31.296875 18.609375 23.390625 \nQ 18.609375 15.53125 22.484375 10.953125 \nQ 26.375 6.390625 33.015625 6.390625 \nQ 39.65625 6.390625 43.53125 10.953125 \nQ 47.40625 15.53125 47.40625 23.390625 \nQ 47.40625 31.296875 43.53125 35.828125 \nQ 39.65625 40.375 33.015625 40.375 \nz\nM 52.59375 71.296875 \nL 52.59375 62.3125 \nQ 48.875 64.0625 45.09375 64.984375 \nQ 41.3125 65.921875 37.59375 65.921875 \nQ 27.828125 65.921875 22.671875 59.328125 \nQ 17.53125 52.734375 16.796875 39.40625 \nQ 19.671875 43.65625 24.015625 45.921875 \nQ 28.375 48.1875 33.59375 48.1875 \nQ 44.578125 48.1875 50.953125 41.515625 \nQ 57.328125 34.859375 57.328125 23.390625 \nQ 57.328125 12.15625 50.6875 5.359375 \nQ 44.046875 -1.421875 33.015625 -1.421875 \nQ 20.359375 -1.421875 13.671875 8.265625 \nQ 6.984375 17.96875 6.984375 36.375 \nQ 6.984375 53.65625 15.1875 63.9375 \nQ 23.390625 74.21875 37.203125 74.21875 \nQ 40.921875 74.21875 44.703125 73.484375 \nQ 48.484375 72.75 52.59375 71.296875 \nz\n\" id=\"DejaVuSans-54\"/>\n       </defs>\n       <use xlink:href=\"#DejaVuSans-54\"/>\n       <use x=\"63.623047\" xlink:href=\"#DejaVuSans-48\"/>\n      </g>\n     </g>\n    </g>\n    <g id=\"xtick_5\">\n     <g id=\"line2d_5\">\n      <g>\n       <use style=\"stroke:#000000;stroke-width:0.8;\" x=\"309.198283\" xlink:href=\"#m5ef92a2186\" y=\"224.64\"/>\n      </g>\n     </g>\n     <g id=\"text_5\">\n      <!-- 80 -->\n      <g transform=\"translate(302.835783 239.238437)scale(0.1 -0.1)\">\n       <defs>\n        <path d=\"M 31.78125 34.625 \nQ 24.75 34.625 20.71875 30.859375 \nQ 16.703125 27.09375 16.703125 20.515625 \nQ 16.703125 13.921875 20.71875 10.15625 \nQ 24.75 6.390625 31.78125 6.390625 \nQ 38.8125 6.390625 42.859375 10.171875 \nQ 46.921875 13.96875 46.921875 20.515625 \nQ 46.921875 27.09375 42.890625 30.859375 \nQ 38.875 34.625 31.78125 34.625 \nz\nM 21.921875 38.8125 \nQ 15.578125 40.375 12.03125 44.71875 \nQ 8.5 49.078125 8.5 55.328125 \nQ 8.5 64.0625 14.71875 69.140625 \nQ 20.953125 74.21875 31.78125 74.21875 \nQ 42.671875 74.21875 48.875 69.140625 \nQ 55.078125 64.0625 55.078125 55.328125 \nQ 55.078125 49.078125 51.53125 44.71875 \nQ 48 40.375 41.703125 38.8125 \nQ 48.828125 37.15625 52.796875 32.3125 \nQ 56.78125 27.484375 56.78125 20.515625 \nQ 56.78125 9.90625 50.3125 4.234375 \nQ 43.84375 -1.421875 31.78125 -1.421875 \nQ 19.734375 -1.421875 13.25 4.234375 \nQ 6.78125 9.90625 6.78125 20.515625 \nQ 6.78125 27.484375 10.78125 32.3125 \nQ 14.796875 37.15625 21.921875 38.8125 \nz\nM 18.3125 54.390625 \nQ 18.3125 48.734375 21.84375 45.5625 \nQ 25.390625 42.390625 31.78125 42.390625 \nQ 38.140625 42.390625 41.71875 45.5625 \nQ 45.3125 48.734375 45.3125 54.390625 \nQ 45.3125 60.0625 41.71875 63.234375 \nQ 38.140625 66.40625 31.78125 66.40625 \nQ 25.390625 66.40625 21.84375 63.234375 \nQ 18.3125 60.0625 18.3125 54.390625 \nz\n\" id=\"DejaVuSans-56\"/>\n       </defs>\n       <use xlink:href=\"#DejaVuSans-56\"/>\n       <use x=\"63.623047\" xlink:href=\"#DejaVuSans-48\"/>\n      </g>\n     </g>\n    </g>\n    <g id=\"xtick_6\">\n     <g id=\"line2d_6\">\n      <g>\n       <use style=\"stroke:#000000;stroke-width:0.8;\" x=\"370.685886\" xlink:href=\"#m5ef92a2186\" y=\"224.64\"/>\n      </g>\n     </g>\n     <g id=\"text_6\">\n      <!-- 100 -->\n      <g transform=\"translate(361.142136 239.238437)scale(0.1 -0.1)\">\n       <defs>\n        <path d=\"M 12.40625 8.296875 \nL 28.515625 8.296875 \nL 28.515625 63.921875 \nL 10.984375 60.40625 \nL 10.984375 69.390625 \nL 28.421875 72.90625 \nL 38.28125 72.90625 \nL 38.28125 8.296875 \nL 54.390625 8.296875 \nL 54.390625 0 \nL 12.40625 0 \nz\n\" id=\"DejaVuSans-49\"/>\n       </defs>\n       <use xlink:href=\"#DejaVuSans-49\"/>\n       <use x=\"63.623047\" xlink:href=\"#DejaVuSans-48\"/>\n       <use x=\"127.246094\" xlink:href=\"#DejaVuSans-48\"/>\n      </g>\n     </g>\n    </g>\n   </g>\n   <g id=\"matplotlib.axis_2\">\n    <g id=\"ytick_1\">\n     <g id=\"line2d_7\">\n      <defs>\n       <path d=\"M 0 0 \nL -3.5 0 \n\" id=\"mc5d5e3c5b6\" style=\"stroke:#000000;stroke-width:0.8;\"/>\n      </defs>\n      <g>\n       <use style=\"stroke:#000000;stroke-width:0.8;\" x=\"48.029688\" xlink:href=\"#mc5d5e3c5b6\" y=\"199.220523\"/>\n      </g>\n     </g>\n     <g id=\"text_7\">\n      <!-- −1000 -->\n      <g transform=\"translate(7.2 203.019741)scale(0.1 -0.1)\">\n       <defs>\n        <path d=\"M 10.59375 35.5 \nL 73.1875 35.5 \nL 73.1875 27.203125 \nL 10.59375 27.203125 \nz\n\" id=\"DejaVuSans-8722\"/>\n       </defs>\n       <use xlink:href=\"#DejaVuSans-8722\"/>\n       <use x=\"83.789062\" xlink:href=\"#DejaVuSans-49\"/>\n       <use x=\"147.412109\" xlink:href=\"#DejaVuSans-48\"/>\n       <use x=\"211.035156\" xlink:href=\"#DejaVuSans-48\"/>\n       <use x=\"274.658203\" xlink:href=\"#DejaVuSans-48\"/>\n      </g>\n     </g>\n    </g>\n    <g id=\"ytick_2\">\n     <g id=\"line2d_8\">\n      <g>\n       <use style=\"stroke:#000000;stroke-width:0.8;\" x=\"48.029688\" xlink:href=\"#mc5d5e3c5b6\" y=\"150.96058\"/>\n      </g>\n     </g>\n     <g id=\"text_8\">\n      <!-- −900 -->\n      <g transform=\"translate(13.5625 154.759798)scale(0.1 -0.1)\">\n       <defs>\n        <path d=\"M 10.984375 1.515625 \nL 10.984375 10.5 \nQ 14.703125 8.734375 18.5 7.8125 \nQ 22.3125 6.890625 25.984375 6.890625 \nQ 35.75 6.890625 40.890625 13.453125 \nQ 46.046875 20.015625 46.78125 33.40625 \nQ 43.953125 29.203125 39.59375 26.953125 \nQ 35.25 24.703125 29.984375 24.703125 \nQ 19.046875 24.703125 12.671875 31.3125 \nQ 6.296875 37.9375 6.296875 49.421875 \nQ 6.296875 60.640625 12.9375 67.421875 \nQ 19.578125 74.21875 30.609375 74.21875 \nQ 43.265625 74.21875 49.921875 64.515625 \nQ 56.59375 54.828125 56.59375 36.375 \nQ 56.59375 19.140625 48.40625 8.859375 \nQ 40.234375 -1.421875 26.421875 -1.421875 \nQ 22.703125 -1.421875 18.890625 -0.6875 \nQ 15.09375 0.046875 10.984375 1.515625 \nz\nM 30.609375 32.421875 \nQ 37.25 32.421875 41.125 36.953125 \nQ 45.015625 41.5 45.015625 49.421875 \nQ 45.015625 57.28125 41.125 61.84375 \nQ 37.25 66.40625 30.609375 66.40625 \nQ 23.96875 66.40625 20.09375 61.84375 \nQ 16.21875 57.28125 16.21875 49.421875 \nQ 16.21875 41.5 20.09375 36.953125 \nQ 23.96875 32.421875 30.609375 32.421875 \nz\n\" id=\"DejaVuSans-57\"/>\n       </defs>\n       <use xlink:href=\"#DejaVuSans-8722\"/>\n       <use x=\"83.789062\" xlink:href=\"#DejaVuSans-57\"/>\n       <use x=\"147.412109\" xlink:href=\"#DejaVuSans-48\"/>\n       <use x=\"211.035156\" xlink:href=\"#DejaVuSans-48\"/>\n      </g>\n     </g>\n    </g>\n    <g id=\"ytick_3\">\n     <g id=\"line2d_9\">\n      <g>\n       <use style=\"stroke:#000000;stroke-width:0.8;\" x=\"48.029688\" xlink:href=\"#mc5d5e3c5b6\" y=\"102.700636\"/>\n      </g>\n     </g>\n     <g id=\"text_9\">\n      <!-- −800 -->\n      <g transform=\"translate(13.5625 106.499855)scale(0.1 -0.1)\">\n       <use xlink:href=\"#DejaVuSans-8722\"/>\n       <use x=\"83.789062\" xlink:href=\"#DejaVuSans-56\"/>\n       <use x=\"147.412109\" xlink:href=\"#DejaVuSans-48\"/>\n       <use x=\"211.035156\" xlink:href=\"#DejaVuSans-48\"/>\n      </g>\n     </g>\n    </g>\n    <g id=\"ytick_4\">\n     <g id=\"line2d_10\">\n      <g>\n       <use style=\"stroke:#000000;stroke-width:0.8;\" x=\"48.029688\" xlink:href=\"#mc5d5e3c5b6\" y=\"54.440693\"/>\n      </g>\n     </g>\n     <g id=\"text_10\">\n      <!-- −700 -->\n      <g transform=\"translate(13.5625 58.239912)scale(0.1 -0.1)\">\n       <defs>\n        <path d=\"M 8.203125 72.90625 \nL 55.078125 72.90625 \nL 55.078125 68.703125 \nL 28.609375 0 \nL 18.3125 0 \nL 43.21875 64.59375 \nL 8.203125 64.59375 \nz\n\" id=\"DejaVuSans-55\"/>\n       </defs>\n       <use xlink:href=\"#DejaVuSans-8722\"/>\n       <use x=\"83.789062\" xlink:href=\"#DejaVuSans-55\"/>\n       <use x=\"147.412109\" xlink:href=\"#DejaVuSans-48\"/>\n       <use x=\"211.035156\" xlink:href=\"#DejaVuSans-48\"/>\n      </g>\n     </g>\n    </g>\n   </g>\n   <g id=\"line2d_11\">\n    <path clip-path=\"url(#pae4412a23f)\" d=\"M 63.247869 111.966545 \nL 66.322249 104.059636 \nL 69.39663 104.059636 \nL 72.47101 104.059636 \nL 75.54539 111.966545 \nL 78.61977 104.059636 \nL 81.69415 104.059636 \nL 84.76853 80.338909 \nL 87.842911 80.338909 \nL 90.917291 96.152727 \nL 93.991671 127.780364 \nL 97.066051 119.873455 \nL 100.140431 104.059636 \nL 103.214811 80.338909 \nL 106.289192 72.432 \nL 109.363572 88.245818 \nL 112.437952 96.152727 \nL 115.512332 88.245818 \nL 118.586712 64.525091 \nL 121.661092 72.432 \nL 124.735473 143.594182 \nL 127.809853 214.756364 \nL 130.884233 214.756364 \nL 133.958613 111.966545 \nL 137.032993 17.083636 \nL 140.107373 48.711273 \nL 143.181754 64.525091 \nL 146.256134 88.245818 \nL 149.330514 72.432 \nL 152.404894 64.525091 \nL 155.479274 64.525091 \nL 158.553654 64.525091 \nL 161.628035 72.432 \nL 164.702415 80.338909 \nL 167.776795 96.152727 \nL 170.851175 104.059636 \nL 173.925555 88.245818 \nL 176.999935 80.338909 \nL 180.074316 72.432 \nL 183.148696 80.338909 \nL 186.223076 88.245818 \nL 189.297456 72.432 \nL 192.371836 88.245818 \nL 195.446216 96.152727 \nL 198.520597 80.338909 \nL 201.594977 88.245818 \nL 204.669357 72.432 \nL 207.743737 88.245818 \nL 210.818117 96.152727 \nL 213.892497 88.245818 \nL 216.966878 88.245818 \nL 220.041258 88.245818 \nL 223.115638 88.245818 \nL 226.190018 111.966545 \nL 229.264398 119.873455 \nL 232.338778 119.873455 \nL 235.413159 104.059636 \nL 238.487539 119.873455 \nL 241.561919 111.966545 \nL 244.636299 119.873455 \nL 247.710679 104.059636 \nL 250.785059 104.059636 \nL 253.85944 104.059636 \nL 256.93382 104.059636 \nL 260.0082 104.059636 \nL 263.08258 88.245818 \nL 266.15696 80.338909 \nL 269.23134 80.338909 \nL 272.305721 88.245818 \nL 275.380101 80.338909 \nL 278.454481 96.152727 \nL 281.528861 96.152727 \nL 284.603241 96.152727 \nL 287.677621 96.152727 \nL 290.752002 80.338909 \nL 293.826382 96.152727 \nL 296.900762 88.245818 \nL 299.975142 88.245818 \nL 303.049522 88.245818 \nL 306.123902 88.245818 \nL 309.198283 72.432 \nL 312.272663 96.152727 \nL 315.347043 80.338909 \nL 318.421423 96.152727 \nL 321.495803 96.152727 \nL 324.570183 72.432 \nL 327.644564 88.245818 \nL 330.718944 80.338909 \nL 333.793324 88.245818 \nL 336.867704 80.338909 \nL 339.942084 80.338909 \nL 343.016464 88.245818 \nL 346.090845 80.338909 \nL 349.165225 72.432 \nL 352.239605 88.245818 \nL 355.313985 88.245818 \nL 358.388365 104.059636 \nL 361.462745 88.245818 \nL 364.537126 64.525091 \nL 367.611506 72.432 \n\" style=\"fill:none;stroke:#1f77b4;stroke-linecap:square;stroke-width:1.5;\"/>\n   </g>\n   <g id=\"patch_3\">\n    <path d=\"M 48.029688 224.64 \nL 48.029688 7.2 \n\" style=\"fill:none;stroke:#000000;stroke-linecap:square;stroke-linejoin:miter;stroke-width:0.8;\"/>\n   </g>\n   <g id=\"patch_4\">\n    <path d=\"M 382.829688 224.64 \nL 382.829688 7.2 \n\" style=\"fill:none;stroke:#000000;stroke-linecap:square;stroke-linejoin:miter;stroke-width:0.8;\"/>\n   </g>\n   <g id=\"patch_5\">\n    <path d=\"M 48.029688 224.64 \nL 382.829687 224.64 \n\" style=\"fill:none;stroke:#000000;stroke-linecap:square;stroke-linejoin:miter;stroke-width:0.8;\"/>\n   </g>\n   <g id=\"patch_6\">\n    <path d=\"M 48.029688 7.2 \nL 382.829687 7.2 \n\" style=\"fill:none;stroke:#000000;stroke-linecap:square;stroke-linejoin:miter;stroke-width:0.8;\"/>\n   </g>\n  </g>\n </g>\n <defs>\n  <clipPath id=\"pae4412a23f\">\n   <rect height=\"217.44\" width=\"334.8\" x=\"48.029688\" y=\"7.2\"/>\n  </clipPath>\n </defs>\n</svg>\n",
      "image/png": "[encoded data removed]"
     },
     "metadata": {
      "needs_background": "light"
     }
    }
   ],
   "source": [
    "sns.lineplot(x,y)"
   ]
  },
  {
   "cell_type": "code",
   "execution_count": null,
   "metadata": {},
   "outputs": [],
   "source": []
  },
  {
   "cell_type": "code",
   "execution_count": 27,
   "metadata": {},
   "outputs": [
    {
     "output_type": "execute_result",
     "data": {
      "text/plain": [
       "   ECG  duration\n",
       "0    0         0\n",
       "1    2         1\n",
       "2   54         2\n",
       "3   43         3\n",
       "4    0         0\n",
       "5    2         1\n",
       "6   54         2\n",
       "7   43         3"
      ],
      "text/html": "<div>\n<style scoped>\n    .dataframe tbody tr th:only-of-type {\n        vertical-align: middle;\n    }\n\n    .dataframe tbody tr th {\n        vertical-align: top;\n    }\n\n    .dataframe thead th {\n        text-align: right;\n    }\n</style>\n<table border=\"1\" class=\"dataframe\">\n  <thead>\n    <tr style=\"text-align: right;\">\n      <th></th>\n      <th>ECG</th>\n      <th>duration</th>\n    </tr>\n  </thead>\n  <tbody>\n    <tr>\n      <th>0</th>\n      <td>0</td>\n      <td>0</td>\n    </tr>\n    <tr>\n      <th>1</th>\n      <td>2</td>\n      <td>1</td>\n    </tr>\n    <tr>\n      <th>2</th>\n      <td>54</td>\n      <td>2</td>\n    </tr>\n    <tr>\n      <th>3</th>\n      <td>43</td>\n      <td>3</td>\n    </tr>\n    <tr>\n      <th>4</th>\n      <td>0</td>\n      <td>0</td>\n    </tr>\n    <tr>\n      <th>5</th>\n      <td>2</td>\n      <td>1</td>\n    </tr>\n    <tr>\n      <th>6</th>\n      <td>54</td>\n      <td>2</td>\n    </tr>\n    <tr>\n      <th>7</th>\n      <td>43</td>\n      <td>3</td>\n    </tr>\n  </tbody>\n</table>\n</div>"
     },
     "metadata": {},
     "execution_count": 27
    }
   ],
   "source": [
    "temp_df = pd.DataFrame({'ECG': [0,2,54,43], 'duration': [0,1,2,3]})\n",
    "df_add = pd.DataFrame({'ECG': [0,2,54,43], 'duration': [0,1,2,3]})\n",
    "temp_df = pd.concat([temp_df, df_add], ignore_index=True)\n",
    "temp_df.head(10)"
   ]
  },
  {
   "cell_type": "code",
   "execution_count": null,
   "metadata": {},
   "outputs": [],
   "source": [
    "def update_graph_data_stream2(self, df_ecg: pd.DataFrame, stream_count: int) \\\n",
    "            -> [np.array, np.array]:\n",
    "\n",
    "        self.df_graph_data_stream = df_ecg\n",
    "        self.stream_count = stream_count\n",
    "        print(self.time_window)\n",
    "\n",
    "        # Update of y_axis and padding\n",
    "        # self.y_axis = self.df_graph_data['ECG'].\\\n",
    "        #    loc[self.starting_frame:self.ending_frame].values\n",
    "\n",
    "        temp_list = np.zeros(self.time_window + 1)\n",
    "        for i in range(self.time_window + 1):\n",
    "            temp_list[i] = df_ecg['ECG'].loc[int(round(stream_count / self.time_window, 0))]\n",
    "        self.df_graph_data_stream = self.df_graph_data_stream.append({'ECG': temp_list}, ignore_index=True)\n",
    "        \n",
    "        # If data displayed in graph reach the right\n",
    "        if (self.df_graph_data_stream.index[-1:][0] - (\n",
    "                                                self.starting_frame)) >= (\n",
    "                                                self.time_window):\n",
    "            self.starting_frame += self.time_window\n",
    "            self.ending_frame = self.starting_frame + self.time_window\n",
    "            self.x_axis = np.arange(self.starting_frame,\n",
    "                                    self.starting_frame + self.time_window+1)\n",
    "\n",
    "            print('x_axis_len:{}'.format(len(self.x_axis)))\n",
    "\n",
    "        # Update of y_axis and padding\n",
    "            self.y_axis = self.df_graph_data_stream['ECG'].\\\n",
    "            loc[self.starting_frame:self.ending_frame].values\n",
    "            #print(self.y_axis)\n",
    "            temp_list = np.zeros(self.time_window + 1)\n",
    "            temp_list[:len(self.y_axis)] = self.y_axis[:len(self.y_axis)]\n",
    "            print(temp_list)\n",
    "            #self.y_axis = temp_list\n",
    "\n",
    "        return self.x_axis, self.y_axis\n",
    "\n",
    "    def reinitialize(self):\n",
    "\n",
    "        self.starting_frame = 0\n",
    "        self.ending_frame = self.starting_frame + self.time_window\n",
    "        self.x_axis = np.arange(self.starting_frame, self.ending_frame+1)\n",
    "        self.y_axis = np.zeros(self.time_window + 1)\n"
   ]
  },
  {
   "cell_type": "code",
   "execution_count": 1,
   "metadata": {},
   "outputs": [],
   "source": [
    "import pandas as pd\n",
    "import seaborn as sns\n",
    "import numpy as np"
   ]
  },
  {
   "cell_type": "code",
   "execution_count": 3,
   "metadata": {},
   "outputs": [
    {
     "output_type": "stream",
     "name": "stdout",
     "text": [
      "Hello, World!\n",
      "Hello, World!\n",
      "Hello, World!\n",
      "Hello, World!\n",
      "Hello, World!\n",
      "Hello, World!\n",
      "Hello, World!\n",
      "Hello, World!\n",
      "Hello, World!\n",
      "Hello, World!\n",
      "Hello, World!\n",
      "Hello, World!\n",
      "Hello, World!\n",
      "Hello, World!\n",
      "Hello, World!\n",
      "Hello, World!\n",
      "Hello, World!\n",
      "Hello, World!\n"
     ]
    }
   ],
   "source": [
    "import threading\n",
    "\n",
    "def printit():\n",
    "  threading.Timer(5.0, printit).start()\n",
    "  print(\"Hello, World!\")\n",
    "\n",
    "printit()\n"
   ]
  },
  {
   "cell_type": "code",
   "execution_count": null,
   "metadata": {},
   "outputs": [],
   "source": [
    "import datetime\n",
    "\n",
    "today = datetime.datetime.today()"
   ]
  },
  {
   "cell_type": "code",
   "execution_count": 29,
   "metadata": {},
   "outputs": [],
   "source": [
    "today = datetime.datetime.today()\n",
    "clock_1 = today+ datetime.timedelta(microseconds =10000000)\n",
    "clock_2 = today + datetime.timedelta(microseconds =1000000)\n"
   ]
  },
  {
   "cell_type": "code",
   "execution_count": 35,
   "metadata": {},
   "outputs": [
    {
     "output_type": "execute_result",
     "data": {
      "text/plain": [
       "False"
      ]
     },
     "metadata": {},
     "execution_count": 35
    }
   ],
   "source": [
    "clock_1 - clock_2 > datetime.timedelta(seconds=0)"
   ]
  },
  {
   "cell_type": "code",
   "execution_count": 6,
   "metadata": {},
   "outputs": [
    {
     "output_type": "stream",
     "name": "stdout",
     "text": [
      "test 2020-11-04 23:12:36.205469\n",
      "test 2020-11-04 23:12:37.205473\n",
      "test 2020-11-04 23:12:38.205476\n",
      "test 2020-11-04 23:12:39.205480\n",
      "test 2020-11-04 23:12:40.205484\n"
     ]
    },
    {
     "output_type": "error",
     "ename": "KeyboardInterrupt",
     "evalue": "",
     "traceback": [
      "\u001b[0;31m---------------------------------------------------------------------------\u001b[0m",
      "\u001b[0;31mKeyboardInterrupt\u001b[0m                         Traceback (most recent call last)",
      "\u001b[0;32m<ipython-input-6-edb1213ba7ea>\u001b[0m in \u001b[0;36m<module>\u001b[0;34m\u001b[0m\n\u001b[1;32m      7\u001b[0m \u001b[0;34m\u001b[0m\u001b[0m\n\u001b[1;32m      8\u001b[0m \u001b[0;32mfor\u001b[0m \u001b[0mi\u001b[0m \u001b[0;32min\u001b[0m \u001b[0mrange\u001b[0m\u001b[0;34m(\u001b[0m\u001b[0;36m20\u001b[0m\u001b[0;34m)\u001b[0m\u001b[0;34m:\u001b[0m\u001b[0;34m\u001b[0m\u001b[0;34m\u001b[0m\u001b[0m\n\u001b[0;32m----> 9\u001b[0;31m     \u001b[0;32mwhile\u001b[0m \u001b[0;34m(\u001b[0m\u001b[0mtimer\u001b[0m \u001b[0;34m-\u001b[0m \u001b[0mdatetime\u001b[0m\u001b[0;34m.\u001b[0m\u001b[0mdatetime\u001b[0m\u001b[0;34m.\u001b[0m\u001b[0mtoday\u001b[0m\u001b[0;34m(\u001b[0m\u001b[0;34m)\u001b[0m\u001b[0;34m)\u001b[0m \u001b[0;34m>=\u001b[0m \u001b[0mdatetime\u001b[0m\u001b[0;34m.\u001b[0m\u001b[0mtimedelta\u001b[0m\u001b[0;34m(\u001b[0m\u001b[0mseconds\u001b[0m\u001b[0;34m=\u001b[0m\u001b[0;36m0\u001b[0m\u001b[0;34m)\u001b[0m\u001b[0;34m:\u001b[0m\u001b[0;34m\u001b[0m\u001b[0;34m\u001b[0m\u001b[0m\n\u001b[0m\u001b[1;32m     10\u001b[0m         \u001b[0;32mpass\u001b[0m\u001b[0;34m\u001b[0m\u001b[0;34m\u001b[0m\u001b[0m\n\u001b[1;32m     11\u001b[0m     \u001b[0mtimer\u001b[0m \u001b[0;34m=\u001b[0m \u001b[0mdatetime\u001b[0m\u001b[0;34m.\u001b[0m\u001b[0mdatetime\u001b[0m\u001b[0;34m.\u001b[0m\u001b[0mtoday\u001b[0m\u001b[0;34m(\u001b[0m\u001b[0;34m)\u001b[0m \u001b[0;34m+\u001b[0m \u001b[0mdatetime\u001b[0m\u001b[0;34m.\u001b[0m\u001b[0mtimedelta\u001b[0m\u001b[0;34m(\u001b[0m\u001b[0mmicroseconds\u001b[0m \u001b[0;34m=\u001b[0m\u001b[0;36m1000000\u001b[0m\u001b[0;34m)\u001b[0m\u001b[0;34m\u001b[0m\u001b[0;34m\u001b[0m\u001b[0m\n",
      "\u001b[0;31mKeyboardInterrupt\u001b[0m: "
     ]
    }
   ],
   "source": [
    "import datetime\n",
    "\n",
    "timer_delay_ms = 100000\n",
    "\n",
    "today = datetime.datetime.today()  + datetime.timedelta(seconds=5)\n",
    "timer = today + datetime.timedelta(microseconds = timer_delay_ms)\n",
    "\n",
    "for i in range(20):\n",
    "    while (timer - datetime.datetime.today()) >= datetime.timedelta(seconds=0):\n",
    "        pass\n",
    "    timer = datetime.datetime.today() + datetime.timedelta(microseconds =1000000)\n",
    "    print('test', timer)\n",
    "\n"
   ]
  },
  {
   "cell_type": "code",
   "execution_count": 7,
   "metadata": {},
   "outputs": [],
   "source": [
    "timer_offset = 5/53.45"
   ]
  },
  {
   "cell_type": "code",
   "execution_count": 9,
   "metadata": {},
   "outputs": [
    {
     "output_type": "stream",
     "name": "stdout",
     "text": [
      "2020-11-04 23:39:48.287158\n2020-11-04 23:39:48.380922\n"
     ]
    }
   ],
   "source": [
    "print(datetime.datetime.today())\n",
    "print(datetime.datetime.today() + datetime.timedelta(microseconds= 1000000*timer_offset))"
   ]
  },
  {
   "cell_type": "code",
   "execution_count": 15,
   "metadata": {},
   "outputs": [
    {
     "output_type": "execute_result",
     "data": {
      "text/plain": [
       "0.09433962264150943"
      ]
     },
     "metadata": {},
     "execution_count": 15
    }
   ],
   "source": [
    "1/53*5"
   ]
  },
  {
   "cell_type": "code",
   "execution_count": 13,
   "metadata": {},
   "outputs": [
    {
     "output_type": "stream",
     "name": "stdout",
     "text": [
      "0:00:00.093545\n"
     ]
    }
   ],
   "source": [
    "print(datetime.timedelta(microseconds= 1000000*timer_offset))"
   ]
  },
  {
   "cell_type": "code",
   "execution_count": 2,
   "metadata": {},
   "outputs": [],
   "source": [
    "df = pd.read_csv('df.csv')"
   ]
  },
  {
   "cell_type": "code",
   "execution_count": 3,
   "metadata": {},
   "outputs": [
    {
     "output_type": "execute_result",
     "data": {
      "text/plain": [
       "          ECG\n",
       "0    -819.200\n",
       "1    -802.816\n",
       "2    -802.816\n",
       "3    -802.816\n",
       "4    -819.200\n",
       "..        ...\n",
       "195 -1015.808\n",
       "196  -802.816\n",
       "197  -622.592\n",
       "198  -671.744\n",
       "199  -753.664\n",
       "\n",
       "[200 rows x 1 columns]"
      ],
      "text/html": "<div>\n<style scoped>\n    .dataframe tbody tr th:only-of-type {\n        vertical-align: middle;\n    }\n\n    .dataframe tbody tr th {\n        vertical-align: top;\n    }\n\n    .dataframe thead th {\n        text-align: right;\n    }\n</style>\n<table border=\"1\" class=\"dataframe\">\n  <thead>\n    <tr style=\"text-align: right;\">\n      <th></th>\n      <th>ECG</th>\n    </tr>\n  </thead>\n  <tbody>\n    <tr>\n      <th>0</th>\n      <td>-819.200</td>\n    </tr>\n    <tr>\n      <th>1</th>\n      <td>-802.816</td>\n    </tr>\n    <tr>\n      <th>2</th>\n      <td>-802.816</td>\n    </tr>\n    <tr>\n      <th>3</th>\n      <td>-802.816</td>\n    </tr>\n    <tr>\n      <th>4</th>\n      <td>-819.200</td>\n    </tr>\n    <tr>\n      <th>...</th>\n      <td>...</td>\n    </tr>\n    <tr>\n      <th>195</th>\n      <td>-1015.808</td>\n    </tr>\n    <tr>\n      <th>196</th>\n      <td>-802.816</td>\n    </tr>\n    <tr>\n      <th>197</th>\n      <td>-622.592</td>\n    </tr>\n    <tr>\n      <th>198</th>\n      <td>-671.744</td>\n    </tr>\n    <tr>\n      <th>199</th>\n      <td>-753.664</td>\n    </tr>\n  </tbody>\n</table>\n<p>200 rows × 1 columns</p>\n</div>"
     },
     "metadata": {},
     "execution_count": 3
    }
   ],
   "source": [
    "df[:200]"
   ]
  },
  {
   "cell_type": "code",
   "execution_count": 6,
   "metadata": {},
   "outputs": [],
   "source": [
    "window = 180\n",
    "\n",
    "class show_window_data():\n",
    "\n",
    "    def __init__(self, df_ecg):\n",
    "        self.df_data = df_ecg\n",
    "        self.starting_frame = 0\n",
    "        self.ending_frame = window\n",
    "        self.x_axis = np.arange(self.starting_frame, self.ending_frame+1)\n",
    "        self.y_axis = self.df_data['ECG'].\\\n",
    "            loc[self.starting_frame:self.ending_frame].values\n",
    "\n",
    "        # Padding\n",
    "        temp_list = np.zeros(window + 1)\n",
    "        temp_list[:len(self.y_axis)] = self.y_axis\n",
    "        self.y_axis = temp_list\n",
    "\n",
    "    def new_data_available(self, df):\n",
    "        self.df_data = df\n",
    "        if (self.df_data.index[-1:][0] - self.starting_frame) >= 180:\n",
    "            self.df_data = df\n",
    "            self.starting_frame += window\n",
    "            self.ending_frame += window\n",
    "\n",
    "        self.x_axis = np.arange(self.starting_frame, self.ending_frame+1)\n",
    "        self.y_axis = self.df_data['ECG'].\\\n",
    "            loc[self.starting_frame:self.ending_frame].values\n",
    "        if len(self.y_axis) == window + 1:\n",
    "            pass\n",
    "        else:\n",
    "            temp_list = np.zeros(window + 1)\n",
    "            temp_list[:len(self.y_axis)] = self.y_axis\n",
    "            self.y_axis = temp_list\n",
    "\n",
    "        return self.df_data, self.x_axis, self.y_axis"
   ]
  },
  {
   "cell_type": "code",
   "execution_count": 9,
   "metadata": {},
   "outputs": [
    {
     "output_type": "error",
     "ename": "TypeError",
     "evalue": "__init__() missing 1 required positional argument: 'df_ecg'",
     "traceback": [
      "\u001b[0;31m---------------------------------------------------------------------------\u001b[0m",
      "\u001b[0;31mTypeError\u001b[0m                                 Traceback (most recent call last)",
      "\u001b[0;32m<ipython-input-9-ccaf600046a3>\u001b[0m in \u001b[0;36m<module>\u001b[0;34m\u001b[0m\n\u001b[0;32m----> 1\u001b[0;31m \u001b[0mshow_window_data_a\u001b[0m \u001b[0;34m=\u001b[0m \u001b[0mshow_window_data\u001b[0m\u001b[0;34m(\u001b[0m\u001b[0;34m)\u001b[0m\u001b[0;34m\u001b[0m\u001b[0;34m\u001b[0m\u001b[0m\n\u001b[0m",
      "\u001b[0;31mTypeError\u001b[0m: __init__() missing 1 required positional argument: 'df_ecg'"
     ]
    }
   ],
   "source": [
    "show_window_data_a = show_window_data(df)"
   ]
  },
  {
   "cell_type": "code",
   "execution_count": 8,
   "metadata": {},
   "outputs": [
    {
     "output_type": "execute_result",
     "data": {
      "text/plain": [
       "          ECG\n",
       "0    -819.200\n",
       "1    -802.816\n",
       "2    -802.816\n",
       "3    -802.816\n",
       "4    -819.200\n",
       "...       ...\n",
       "3203 -884.736\n",
       "3204 -933.888\n",
       "3205 -901.120\n",
       "3206 -917.504\n",
       "3207 -933.888\n",
       "\n",
       "[3208 rows x 1 columns]"
      ],
      "text/html": "<div>\n<style scoped>\n    .dataframe tbody tr th:only-of-type {\n        vertical-align: middle;\n    }\n\n    .dataframe tbody tr th {\n        vertical-align: top;\n    }\n\n    .dataframe thead th {\n        text-align: right;\n    }\n</style>\n<table border=\"1\" class=\"dataframe\">\n  <thead>\n    <tr style=\"text-align: right;\">\n      <th></th>\n      <th>ECG</th>\n    </tr>\n  </thead>\n  <tbody>\n    <tr>\n      <th>0</th>\n      <td>-819.200</td>\n    </tr>\n    <tr>\n      <th>1</th>\n      <td>-802.816</td>\n    </tr>\n    <tr>\n      <th>2</th>\n      <td>-802.816</td>\n    </tr>\n    <tr>\n      <th>3</th>\n      <td>-802.816</td>\n    </tr>\n    <tr>\n      <th>4</th>\n      <td>-819.200</td>\n    </tr>\n    <tr>\n      <th>...</th>\n      <td>...</td>\n    </tr>\n    <tr>\n      <th>3203</th>\n      <td>-884.736</td>\n    </tr>\n    <tr>\n      <th>3204</th>\n      <td>-933.888</td>\n    </tr>\n    <tr>\n      <th>3205</th>\n      <td>-901.120</td>\n    </tr>\n    <tr>\n      <th>3206</th>\n      <td>-917.504</td>\n    </tr>\n    <tr>\n      <th>3207</th>\n      <td>-933.888</td>\n    </tr>\n  </tbody>\n</table>\n<p>3208 rows × 1 columns</p>\n</div>"
     },
     "metadata": {},
     "execution_count": 8
    }
   ],
   "source": [
    "show_window_data_a.df_data"
   ]
  },
  {
   "cell_type": "code",
   "execution_count": 72,
   "metadata": {},
   "outputs": [
    {
     "output_type": "execute_result",
     "data": {
      "text/plain": [
       "<AxesSubplot:>"
      ]
     },
     "metadata": {},
     "execution_count": 72
    },
    {
     "output_type": "display_data",
     "data": {
      "text/plain": "<Figure size 432x288 with 1 Axes>",
      "image/svg+xml": "<?xml version=\"1.0\" encoding=\"utf-8\" standalone=\"no\"?>\n<!DOCTYPE svg PUBLIC \"-//W3C//DTD SVG 1.1//EN\"\n  \"http://www.w3.org/Graphics/SVG/1.1/DTD/svg11.dtd\">\n<!-- Created with matplotlib (https://matplotlib.org/) -->\n<svg height=\"251.832747pt\" version=\"1.1\" viewBox=\"0 0 390.029687 251.832747\" width=\"390.029687pt\" xmlns=\"http://www.w3.org/2000/svg\" xmlns:xlink=\"http://www.w3.org/1999/xlink\">\n <metadata>\n  <rdf:RDF xmlns:cc=\"http://creativecommons.org/ns#\" xmlns:dc=\"http://purl.org/dc/elements/1.1/\" xmlns:rdf=\"http://www.w3.org/1999/02/22-rdf-syntax-ns#\">\n   <cc:Work>\n    <dc:type rdf:resource=\"http://purl.org/dc/dcmitype/StillImage\"/>\n    <dc:date>2020-11-04T15:03:52.013385</dc:date>\n    <dc:format>image/svg+xml</dc:format>\n    <dc:creator>\n     <cc:Agent>\n      <dc:title>Matplotlib v3.3.1, https://matplotlib.org/</dc:title>\n     </cc:Agent>\n    </dc:creator>\n   </cc:Work>\n  </rdf:RDF>\n </metadata>\n <defs>\n  <style type=\"text/css\">*{stroke-linecap:butt;stroke-linejoin:round;}</style>\n </defs>\n <g id=\"figure_1\">\n  <g id=\"patch_1\">\n   <path d=\"M 0 251.832747 \nL 390.029687 251.832747 \nL 390.029687 0 \nL 0 0 \nz\n\" style=\"fill:none;\"/>\n  </g>\n  <g id=\"axes_1\">\n   <g id=\"patch_2\">\n    <path d=\"M 48.029688 227.954622 \nL 382.829688 227.954622 \nL 382.829688 10.514622 \nL 48.029688 10.514622 \nz\n\" style=\"fill:#ffffff;\"/>\n   </g>\n   <g id=\"matplotlib.axis_1\">\n    <g id=\"xtick_1\">\n     <g id=\"line2d_1\">\n      <defs>\n       <path d=\"M 0 0 \nL 0 3.5 \n\" id=\"m92cc6926de\" style=\"stroke:#000000;stroke-width:0.8;\"/>\n      </defs>\n      <g>\n       <use style=\"stroke:#000000;stroke-width:0.8;\" x=\"54.793324\" xlink:href=\"#m92cc6926de\" y=\"227.954622\"/>\n      </g>\n     </g>\n     <g id=\"text_1\">\n      <!-- 175 -->\n      <g transform=\"translate(45.249574 242.55306)scale(0.1 -0.1)\">\n       <defs>\n        <path d=\"M 12.40625 8.296875 \nL 28.515625 8.296875 \nL 28.515625 63.921875 \nL 10.984375 60.40625 \nL 10.984375 69.390625 \nL 28.421875 72.90625 \nL 38.28125 72.90625 \nL 38.28125 8.296875 \nL 54.390625 8.296875 \nL 54.390625 0 \nL 12.40625 0 \nz\n\" id=\"DejaVuSans-49\"/>\n        <path d=\"M 8.203125 72.90625 \nL 55.078125 72.90625 \nL 55.078125 68.703125 \nL 28.609375 0 \nL 18.3125 0 \nL 43.21875 64.59375 \nL 8.203125 64.59375 \nz\n\" id=\"DejaVuSans-55\"/>\n        <path d=\"M 10.796875 72.90625 \nL 49.515625 72.90625 \nL 49.515625 64.59375 \nL 19.828125 64.59375 \nL 19.828125 46.734375 \nQ 21.96875 47.46875 24.109375 47.828125 \nQ 26.265625 48.1875 28.421875 48.1875 \nQ 40.625 48.1875 47.75 41.5 \nQ 54.890625 34.8125 54.890625 23.390625 \nQ 54.890625 11.625 47.5625 5.09375 \nQ 40.234375 -1.421875 26.90625 -1.421875 \nQ 22.3125 -1.421875 17.546875 -0.640625 \nQ 12.796875 0.140625 7.71875 1.703125 \nL 7.71875 11.625 \nQ 12.109375 9.234375 16.796875 8.0625 \nQ 21.484375 6.890625 26.703125 6.890625 \nQ 35.15625 6.890625 40.078125 11.328125 \nQ 45.015625 15.765625 45.015625 23.390625 \nQ 45.015625 31 40.078125 35.4375 \nQ 35.15625 39.890625 26.703125 39.890625 \nQ 22.75 39.890625 18.8125 39.015625 \nQ 14.890625 38.140625 10.796875 36.28125 \nz\n\" id=\"DejaVuSans-53\"/>\n       </defs>\n       <use xlink:href=\"#DejaVuSans-49\"/>\n       <use x=\"63.623047\" xlink:href=\"#DejaVuSans-55\"/>\n       <use x=\"127.246094\" xlink:href=\"#DejaVuSans-53\"/>\n      </g>\n     </g>\n    </g>\n    <g id=\"xtick_2\">\n     <g id=\"line2d_2\">\n      <g>\n       <use style=\"stroke:#000000;stroke-width:0.8;\" x=\"97.066051\" xlink:href=\"#m92cc6926de\" y=\"227.954622\"/>\n      </g>\n     </g>\n     <g id=\"text_2\">\n      <!-- 200 -->\n      <g transform=\"translate(87.522301 242.55306)scale(0.1 -0.1)\">\n       <defs>\n        <path d=\"M 19.1875 8.296875 \nL 53.609375 8.296875 \nL 53.609375 0 \nL 7.328125 0 \nL 7.328125 8.296875 \nQ 12.9375 14.109375 22.625 23.890625 \nQ 32.328125 33.6875 34.8125 36.53125 \nQ 39.546875 41.84375 41.421875 45.53125 \nQ 43.3125 49.21875 43.3125 52.78125 \nQ 43.3125 58.59375 39.234375 62.25 \nQ 35.15625 65.921875 28.609375 65.921875 \nQ 23.96875 65.921875 18.8125 64.3125 \nQ 13.671875 62.703125 7.8125 59.421875 \nL 7.8125 69.390625 \nQ 13.765625 71.78125 18.9375 73 \nQ 24.125 74.21875 28.421875 74.21875 \nQ 39.75 74.21875 46.484375 68.546875 \nQ 53.21875 62.890625 53.21875 53.421875 \nQ 53.21875 48.921875 51.53125 44.890625 \nQ 49.859375 40.875 45.40625 35.40625 \nQ 44.1875 33.984375 37.640625 27.21875 \nQ 31.109375 20.453125 19.1875 8.296875 \nz\n\" id=\"DejaVuSans-50\"/>\n        <path d=\"M 31.78125 66.40625 \nQ 24.171875 66.40625 20.328125 58.90625 \nQ 16.5 51.421875 16.5 36.375 \nQ 16.5 21.390625 20.328125 13.890625 \nQ 24.171875 6.390625 31.78125 6.390625 \nQ 39.453125 6.390625 43.28125 13.890625 \nQ 47.125 21.390625 47.125 36.375 \nQ 47.125 51.421875 43.28125 58.90625 \nQ 39.453125 66.40625 31.78125 66.40625 \nz\nM 31.78125 74.21875 \nQ 44.046875 74.21875 50.515625 64.515625 \nQ 56.984375 54.828125 56.984375 36.375 \nQ 56.984375 17.96875 50.515625 8.265625 \nQ 44.046875 -1.421875 31.78125 -1.421875 \nQ 19.53125 -1.421875 13.0625 8.265625 \nQ 6.59375 17.96875 6.59375 36.375 \nQ 6.59375 54.828125 13.0625 64.515625 \nQ 19.53125 74.21875 31.78125 74.21875 \nz\n\" id=\"DejaVuSans-48\"/>\n       </defs>\n       <use xlink:href=\"#DejaVuSans-50\"/>\n       <use x=\"63.623047\" xlink:href=\"#DejaVuSans-48\"/>\n       <use x=\"127.246094\" xlink:href=\"#DejaVuSans-48\"/>\n      </g>\n     </g>\n    </g>\n    <g id=\"xtick_3\">\n     <g id=\"line2d_3\">\n      <g>\n       <use style=\"stroke:#000000;stroke-width:0.8;\" x=\"139.338778\" xlink:href=\"#m92cc6926de\" y=\"227.954622\"/>\n      </g>\n     </g>\n     <g id=\"text_3\">\n      <!-- 225 -->\n      <g transform=\"translate(129.795028 242.55306)scale(0.1 -0.1)\">\n       <use xlink:href=\"#DejaVuSans-50\"/>\n       <use x=\"63.623047\" xlink:href=\"#DejaVuSans-50\"/>\n       <use x=\"127.246094\" xlink:href=\"#DejaVuSans-53\"/>\n      </g>\n     </g>\n    </g>\n    <g id=\"xtick_4\">\n     <g id=\"line2d_4\">\n      <g>\n       <use style=\"stroke:#000000;stroke-width:0.8;\" x=\"181.611506\" xlink:href=\"#m92cc6926de\" y=\"227.954622\"/>\n      </g>\n     </g>\n     <g id=\"text_4\">\n      <!-- 250 -->\n      <g transform=\"translate(172.067756 242.55306)scale(0.1 -0.1)\">\n       <use xlink:href=\"#DejaVuSans-50\"/>\n       <use x=\"63.623047\" xlink:href=\"#DejaVuSans-53\"/>\n       <use x=\"127.246094\" xlink:href=\"#DejaVuSans-48\"/>\n      </g>\n     </g>\n    </g>\n    <g id=\"xtick_5\">\n     <g id=\"line2d_5\">\n      <g>\n       <use style=\"stroke:#000000;stroke-width:0.8;\" x=\"223.884233\" xlink:href=\"#m92cc6926de\" y=\"227.954622\"/>\n      </g>\n     </g>\n     <g id=\"text_5\">\n      <!-- 275 -->\n      <g transform=\"translate(214.340483 242.55306)scale(0.1 -0.1)\">\n       <use xlink:href=\"#DejaVuSans-50\"/>\n       <use x=\"63.623047\" xlink:href=\"#DejaVuSans-55\"/>\n       <use x=\"127.246094\" xlink:href=\"#DejaVuSans-53\"/>\n      </g>\n     </g>\n    </g>\n    <g id=\"xtick_6\">\n     <g id=\"line2d_6\">\n      <g>\n       <use style=\"stroke:#000000;stroke-width:0.8;\" x=\"266.15696\" xlink:href=\"#m92cc6926de\" y=\"227.954622\"/>\n      </g>\n     </g>\n     <g id=\"text_6\">\n      <!-- 300 -->\n      <g transform=\"translate(256.61321 242.55306)scale(0.1 -0.1)\">\n       <defs>\n        <path d=\"M 40.578125 39.3125 \nQ 47.65625 37.796875 51.625 33 \nQ 55.609375 28.21875 55.609375 21.1875 \nQ 55.609375 10.40625 48.1875 4.484375 \nQ 40.765625 -1.421875 27.09375 -1.421875 \nQ 22.515625 -1.421875 17.65625 -0.515625 \nQ 12.796875 0.390625 7.625 2.203125 \nL 7.625 11.71875 \nQ 11.71875 9.328125 16.59375 8.109375 \nQ 21.484375 6.890625 26.8125 6.890625 \nQ 36.078125 6.890625 40.9375 10.546875 \nQ 45.796875 14.203125 45.796875 21.1875 \nQ 45.796875 27.640625 41.28125 31.265625 \nQ 36.765625 34.90625 28.71875 34.90625 \nL 20.21875 34.90625 \nL 20.21875 43.015625 \nL 29.109375 43.015625 \nQ 36.375 43.015625 40.234375 45.921875 \nQ 44.09375 48.828125 44.09375 54.296875 \nQ 44.09375 59.90625 40.109375 62.90625 \nQ 36.140625 65.921875 28.71875 65.921875 \nQ 24.65625 65.921875 20.015625 65.03125 \nQ 15.375 64.15625 9.8125 62.3125 \nL 9.8125 71.09375 \nQ 15.4375 72.65625 20.34375 73.4375 \nQ 25.25 74.21875 29.59375 74.21875 \nQ 40.828125 74.21875 47.359375 69.109375 \nQ 53.90625 64.015625 53.90625 55.328125 \nQ 53.90625 49.265625 50.4375 45.09375 \nQ 46.96875 40.921875 40.578125 39.3125 \nz\n\" id=\"DejaVuSans-51\"/>\n       </defs>\n       <use xlink:href=\"#DejaVuSans-51\"/>\n       <use x=\"63.623047\" xlink:href=\"#DejaVuSans-48\"/>\n       <use x=\"127.246094\" xlink:href=\"#DejaVuSans-48\"/>\n      </g>\n     </g>\n    </g>\n    <g id=\"xtick_7\">\n     <g id=\"line2d_7\">\n      <g>\n       <use style=\"stroke:#000000;stroke-width:0.8;\" x=\"308.429688\" xlink:href=\"#m92cc6926de\" y=\"227.954622\"/>\n      </g>\n     </g>\n     <g id=\"text_7\">\n      <!-- 325 -->\n      <g transform=\"translate(298.885938 242.55306)scale(0.1 -0.1)\">\n       <use xlink:href=\"#DejaVuSans-51\"/>\n       <use x=\"63.623047\" xlink:href=\"#DejaVuSans-50\"/>\n       <use x=\"127.246094\" xlink:href=\"#DejaVuSans-53\"/>\n      </g>\n     </g>\n    </g>\n    <g id=\"xtick_8\">\n     <g id=\"line2d_8\">\n      <g>\n       <use style=\"stroke:#000000;stroke-width:0.8;\" x=\"350.702415\" xlink:href=\"#m92cc6926de\" y=\"227.954622\"/>\n      </g>\n     </g>\n     <g id=\"text_8\">\n      <!-- 350 -->\n      <g transform=\"translate(341.158665 242.55306)scale(0.1 -0.1)\">\n       <use xlink:href=\"#DejaVuSans-51\"/>\n       <use x=\"63.623047\" xlink:href=\"#DejaVuSans-53\"/>\n       <use x=\"127.246094\" xlink:href=\"#DejaVuSans-48\"/>\n      </g>\n     </g>\n    </g>\n   </g>\n   <g id=\"matplotlib.axis_2\">\n    <g id=\"ytick_1\">\n     <g id=\"line2d_9\">\n      <defs>\n       <path d=\"M 0 0 \nL -3.5 0 \n\" id=\"ma76fe0a6de\" style=\"stroke:#000000;stroke-width:0.8;\"/>\n      </defs>\n      <g>\n       <use style=\"stroke:#000000;stroke-width:0.8;\" x=\"48.029688\" xlink:href=\"#ma76fe0a6de\" y=\"219.016215\"/>\n      </g>\n     </g>\n     <g id=\"text_9\">\n      <!-- −1100 -->\n      <g transform=\"translate(7.2 222.815434)scale(0.1 -0.1)\">\n       <defs>\n        <path d=\"M 10.59375 35.5 \nL 73.1875 35.5 \nL 73.1875 27.203125 \nL 10.59375 27.203125 \nz\n\" id=\"DejaVuSans-8722\"/>\n       </defs>\n       <use xlink:href=\"#DejaVuSans-8722\"/>\n       <use x=\"83.789062\" xlink:href=\"#DejaVuSans-49\"/>\n       <use x=\"147.412109\" xlink:href=\"#DejaVuSans-49\"/>\n       <use x=\"211.035156\" xlink:href=\"#DejaVuSans-48\"/>\n       <use x=\"274.658203\" xlink:href=\"#DejaVuSans-48\"/>\n      </g>\n     </g>\n    </g>\n    <g id=\"ytick_2\">\n     <g id=\"line2d_10\">\n      <g>\n       <use style=\"stroke:#000000;stroke-width:0.8;\" x=\"48.029688\" xlink:href=\"#ma76fe0a6de\" y=\"177.412816\"/>\n      </g>\n     </g>\n     <g id=\"text_10\">\n      <!-- −1000 -->\n      <g transform=\"translate(7.2 181.212035)scale(0.1 -0.1)\">\n       <use xlink:href=\"#DejaVuSans-8722\"/>\n       <use x=\"83.789062\" xlink:href=\"#DejaVuSans-49\"/>\n       <use x=\"147.412109\" xlink:href=\"#DejaVuSans-48\"/>\n       <use x=\"211.035156\" xlink:href=\"#DejaVuSans-48\"/>\n       <use x=\"274.658203\" xlink:href=\"#DejaVuSans-48\"/>\n      </g>\n     </g>\n    </g>\n    <g id=\"ytick_3\">\n     <g id=\"line2d_11\">\n      <g>\n       <use style=\"stroke:#000000;stroke-width:0.8;\" x=\"48.029688\" xlink:href=\"#ma76fe0a6de\" y=\"135.809417\"/>\n      </g>\n     </g>\n     <g id=\"text_11\">\n      <!-- −900 -->\n      <g transform=\"translate(13.5625 139.608635)scale(0.1 -0.1)\">\n       <defs>\n        <path d=\"M 10.984375 1.515625 \nL 10.984375 10.5 \nQ 14.703125 8.734375 18.5 7.8125 \nQ 22.3125 6.890625 25.984375 6.890625 \nQ 35.75 6.890625 40.890625 13.453125 \nQ 46.046875 20.015625 46.78125 33.40625 \nQ 43.953125 29.203125 39.59375 26.953125 \nQ 35.25 24.703125 29.984375 24.703125 \nQ 19.046875 24.703125 12.671875 31.3125 \nQ 6.296875 37.9375 6.296875 49.421875 \nQ 6.296875 60.640625 12.9375 67.421875 \nQ 19.578125 74.21875 30.609375 74.21875 \nQ 43.265625 74.21875 49.921875 64.515625 \nQ 56.59375 54.828125 56.59375 36.375 \nQ 56.59375 19.140625 48.40625 8.859375 \nQ 40.234375 -1.421875 26.421875 -1.421875 \nQ 22.703125 -1.421875 18.890625 -0.6875 \nQ 15.09375 0.046875 10.984375 1.515625 \nz\nM 30.609375 32.421875 \nQ 37.25 32.421875 41.125 36.953125 \nQ 45.015625 41.5 45.015625 49.421875 \nQ 45.015625 57.28125 41.125 61.84375 \nQ 37.25 66.40625 30.609375 66.40625 \nQ 23.96875 66.40625 20.09375 61.84375 \nQ 16.21875 57.28125 16.21875 49.421875 \nQ 16.21875 41.5 20.09375 36.953125 \nQ 23.96875 32.421875 30.609375 32.421875 \nz\n\" id=\"DejaVuSans-57\"/>\n       </defs>\n       <use xlink:href=\"#DejaVuSans-8722\"/>\n       <use x=\"83.789062\" xlink:href=\"#DejaVuSans-57\"/>\n       <use x=\"147.412109\" xlink:href=\"#DejaVuSans-48\"/>\n       <use x=\"211.035156\" xlink:href=\"#DejaVuSans-48\"/>\n      </g>\n     </g>\n    </g>\n    <g id=\"ytick_4\">\n     <g id=\"line2d_12\">\n      <g>\n       <use style=\"stroke:#000000;stroke-width:0.8;\" x=\"48.029688\" xlink:href=\"#ma76fe0a6de\" y=\"94.206017\"/>\n      </g>\n     </g>\n     <g id=\"text_12\">\n      <!-- −800 -->\n      <g transform=\"translate(13.5625 98.005236)scale(0.1 -0.1)\">\n       <defs>\n        <path d=\"M 31.78125 34.625 \nQ 24.75 34.625 20.71875 30.859375 \nQ 16.703125 27.09375 16.703125 20.515625 \nQ 16.703125 13.921875 20.71875 10.15625 \nQ 24.75 6.390625 31.78125 6.390625 \nQ 38.8125 6.390625 42.859375 10.171875 \nQ 46.921875 13.96875 46.921875 20.515625 \nQ 46.921875 27.09375 42.890625 30.859375 \nQ 38.875 34.625 31.78125 34.625 \nz\nM 21.921875 38.8125 \nQ 15.578125 40.375 12.03125 44.71875 \nQ 8.5 49.078125 8.5 55.328125 \nQ 8.5 64.0625 14.71875 69.140625 \nQ 20.953125 74.21875 31.78125 74.21875 \nQ 42.671875 74.21875 48.875 69.140625 \nQ 55.078125 64.0625 55.078125 55.328125 \nQ 55.078125 49.078125 51.53125 44.71875 \nQ 48 40.375 41.703125 38.8125 \nQ 48.828125 37.15625 52.796875 32.3125 \nQ 56.78125 27.484375 56.78125 20.515625 \nQ 56.78125 9.90625 50.3125 4.234375 \nQ 43.84375 -1.421875 31.78125 -1.421875 \nQ 19.734375 -1.421875 13.25 4.234375 \nQ 6.78125 9.90625 6.78125 20.515625 \nQ 6.78125 27.484375 10.78125 32.3125 \nQ 14.796875 37.15625 21.921875 38.8125 \nz\nM 18.3125 54.390625 \nQ 18.3125 48.734375 21.84375 45.5625 \nQ 25.390625 42.390625 31.78125 42.390625 \nQ 38.140625 42.390625 41.71875 45.5625 \nQ 45.3125 48.734375 45.3125 54.390625 \nQ 45.3125 60.0625 41.71875 63.234375 \nQ 38.140625 66.40625 31.78125 66.40625 \nQ 25.390625 66.40625 21.84375 63.234375 \nQ 18.3125 60.0625 18.3125 54.390625 \nz\n\" id=\"DejaVuSans-56\"/>\n       </defs>\n       <use xlink:href=\"#DejaVuSans-8722\"/>\n       <use x=\"83.789062\" xlink:href=\"#DejaVuSans-56\"/>\n       <use x=\"147.412109\" xlink:href=\"#DejaVuSans-48\"/>\n       <use x=\"211.035156\" xlink:href=\"#DejaVuSans-48\"/>\n      </g>\n     </g>\n    </g>\n    <g id=\"ytick_5\">\n     <g id=\"line2d_13\">\n      <g>\n       <use style=\"stroke:#000000;stroke-width:0.8;\" x=\"48.029688\" xlink:href=\"#ma76fe0a6de\" y=\"52.602618\"/>\n      </g>\n     </g>\n     <g id=\"text_13\">\n      <!-- −700 -->\n      <g transform=\"translate(13.5625 56.401837)scale(0.1 -0.1)\">\n       <use xlink:href=\"#DejaVuSans-8722\"/>\n       <use x=\"83.789062\" xlink:href=\"#DejaVuSans-55\"/>\n       <use x=\"147.412109\" xlink:href=\"#DejaVuSans-48\"/>\n       <use x=\"211.035156\" xlink:href=\"#DejaVuSans-48\"/>\n      </g>\n     </g>\n    </g>\n    <g id=\"ytick_6\">\n     <g id=\"line2d_14\">\n      <g>\n       <use style=\"stroke:#000000;stroke-width:0.8;\" x=\"48.029688\" xlink:href=\"#ma76fe0a6de\" y=\"10.999219\"/>\n      </g>\n     </g>\n     <g id=\"text_14\">\n      <!-- −600 -->\n      <g transform=\"translate(13.5625 14.798437)scale(0.1 -0.1)\">\n       <defs>\n        <path d=\"M 33.015625 40.375 \nQ 26.375 40.375 22.484375 35.828125 \nQ 18.609375 31.296875 18.609375 23.390625 \nQ 18.609375 15.53125 22.484375 10.953125 \nQ 26.375 6.390625 33.015625 6.390625 \nQ 39.65625 6.390625 43.53125 10.953125 \nQ 47.40625 15.53125 47.40625 23.390625 \nQ 47.40625 31.296875 43.53125 35.828125 \nQ 39.65625 40.375 33.015625 40.375 \nz\nM 52.59375 71.296875 \nL 52.59375 62.3125 \nQ 48.875 64.0625 45.09375 64.984375 \nQ 41.3125 65.921875 37.59375 65.921875 \nQ 27.828125 65.921875 22.671875 59.328125 \nQ 17.53125 52.734375 16.796875 39.40625 \nQ 19.671875 43.65625 24.015625 45.921875 \nQ 28.375 48.1875 33.59375 48.1875 \nQ 44.578125 48.1875 50.953125 41.515625 \nQ 57.328125 34.859375 57.328125 23.390625 \nQ 57.328125 12.15625 50.6875 5.359375 \nQ 44.046875 -1.421875 33.015625 -1.421875 \nQ 20.359375 -1.421875 13.671875 8.265625 \nQ 6.984375 17.96875 6.984375 36.375 \nQ 6.984375 53.65625 15.1875 63.9375 \nQ 23.390625 74.21875 37.203125 74.21875 \nQ 40.921875 74.21875 44.703125 73.484375 \nQ 48.484375 72.75 52.59375 71.296875 \nz\n\" id=\"DejaVuSans-54\"/>\n       </defs>\n       <use xlink:href=\"#DejaVuSans-8722\"/>\n       <use x=\"83.789062\" xlink:href=\"#DejaVuSans-54\"/>\n       <use x=\"147.412109\" xlink:href=\"#DejaVuSans-48\"/>\n       <use x=\"211.035156\" xlink:href=\"#DejaVuSans-48\"/>\n      </g>\n     </g>\n    </g>\n   </g>\n   <g id=\"line2d_15\">\n    <path clip-path=\"url(#pca749aef33)\" d=\"M 63.247869 102.19387 \nL 64.938778 102.19387 \nL 66.629688 74.928666 \nL 68.320597 88.561268 \nL 70.011506 88.561268 \nL 71.702415 122.642773 \nL 73.393324 122.642773 \nL 75.084233 88.561268 \nL 78.466051 74.928666 \nL 81.847869 74.928666 \nL 83.538778 88.561268 \nL 85.229687 183.989481 \nL 86.920597 218.070986 \nL 88.611506 183.989481 \nL 90.302415 95.377569 \nL 91.993324 20.398259 \nL 93.684233 40.847162 \nL 95.375142 74.928666 \nL 97.066051 74.928666 \nL 98.75696 81.744967 \nL 100.447869 81.744967 \nL 102.138778 95.377569 \nL 103.829688 102.19387 \nL 105.520597 88.561268 \nL 107.211506 95.377569 \nL 108.902415 81.744967 \nL 110.593324 81.744967 \nL 112.284233 88.561268 \nL 113.975142 81.744967 \nL 115.666051 95.377569 \nL 117.35696 88.561268 \nL 119.047869 74.928666 \nL 120.738778 88.561268 \nL 122.429688 61.296064 \nL 127.502415 61.296064 \nL 129.193324 81.744967 \nL 130.884233 74.928666 \nL 132.575142 74.928666 \nL 134.266051 81.744967 \nL 135.95696 74.928666 \nL 137.647869 81.744967 \nL 139.338778 95.377569 \nL 141.029687 102.19387 \nL 142.720597 115.826472 \nL 146.102415 115.826472 \nL 147.793324 95.377569 \nL 149.484233 95.377569 \nL 151.175142 109.010171 \nL 152.866051 102.19387 \nL 154.55696 109.010171 \nL 156.247869 109.010171 \nL 157.938778 88.561268 \nL 159.629688 109.010171 \nL 161.320597 88.561268 \nL 163.011506 102.19387 \nL 164.702415 109.010171 \nL 166.393324 95.377569 \nL 168.084233 109.010171 \nL 169.775142 88.561268 \nL 171.466051 102.19387 \nL 173.15696 102.19387 \nL 174.847869 88.561268 \nL 176.538778 88.561268 \nL 178.229688 74.928666 \nL 179.920597 88.561268 \nL 181.611506 109.010171 \nL 183.302415 95.377569 \nL 184.993324 115.826472 \nL 186.684233 102.19387 \nL 188.375142 95.377569 \nL 190.066051 102.19387 \nL 191.75696 95.377569 \nL 193.447869 102.19387 \nL 195.138778 102.19387 \nL 196.829688 88.561268 \nL 198.520597 95.377569 \nL 200.211506 81.744967 \nL 203.593324 109.010171 \nL 205.284233 102.19387 \nL 206.975142 109.010171 \nL 210.35696 95.377569 \nL 212.047869 109.010171 \nL 213.738778 88.561268 \nL 215.429688 95.377569 \nL 217.120597 88.561268 \nL 218.811506 102.19387 \nL 222.193324 88.561268 \nL 223.884233 74.928666 \nL 225.575142 81.744967 \nL 227.266051 163.540578 \nL 228.95696 218.070986 \nL 230.647869 190.805782 \nL 232.338778 95.377569 \nL 234.029687 47.663462 \nL 235.720597 47.663462 \nL 237.411506 74.928666 \nL 239.102415 61.296064 \nL 240.793324 74.928666 \nL 242.484233 81.744967 \nL 245.866051 68.112365 \nL 247.55696 74.928666 \nL 249.247869 74.928666 \nL 250.938778 81.744967 \nL 252.629688 68.112365 \nL 254.320597 74.928666 \nL 256.011506 61.296064 \nL 257.702415 68.112365 \nL 259.393324 81.744967 \nL 262.775142 68.112365 \nL 264.466051 74.928666 \nL 266.15696 74.928666 \nL 267.847869 102.19387 \nL 269.538778 74.928666 \nL 271.229687 61.296064 \nL 272.920597 54.479763 \nL 274.611506 68.112365 \nL 276.302415 88.561268 \nL 277.993324 74.928666 \nL 279.684233 68.112365 \nL 281.375142 88.561268 \nL 283.066051 81.744967 \nL 284.75696 95.377569 \nL 286.447869 88.561268 \nL 288.138778 88.561268 \nL 289.829687 95.377569 \nL 293.211506 95.377569 \nL 294.902415 81.744967 \nL 298.284233 95.377569 \nL 299.975142 81.744967 \nL 301.666051 81.744967 \nL 305.047869 95.377569 \nL 306.738778 109.010171 \nL 310.120597 81.744967 \nL 313.502415 81.744967 \nL 315.193324 95.377569 \nL 316.884233 74.928666 \nL 318.575142 81.744967 \nL 320.266051 95.377569 \nL 321.95696 88.561268 \nL 323.647869 95.377569 \nL 327.029688 81.744967 \nL 328.720597 102.19387 \nL 330.411506 88.561268 \nL 333.793324 74.928666 \nL 335.484233 95.377569 \nL 337.175142 102.19387 \nL 338.866051 81.744967 \nL 340.55696 74.928666 \nL 342.247869 81.744967 \nL 343.938778 95.377569 \nL 345.629688 102.19387 \nL 347.320597 88.561268 \nL 349.011506 88.561268 \nL 350.702415 95.377569 \nL 354.084233 95.377569 \nL 355.775142 81.744967 \nL 357.466051 102.19387 \nL 359.15696 109.010171 \nL 360.847869 88.561268 \nL 362.538778 74.928666 \nL 364.229687 54.479763 \nL 365.920597 115.826472 \nL 367.611506 211.254685 \nL 367.611506 211.254685 \n\" style=\"fill:none;stroke:#1f77b4;stroke-linecap:square;stroke-width:1.5;\"/>\n   </g>\n   <g id=\"patch_3\">\n    <path d=\"M 48.029688 227.954622 \nL 48.029688 10.514622 \n\" style=\"fill:none;stroke:#000000;stroke-linecap:square;stroke-linejoin:miter;stroke-width:0.8;\"/>\n   </g>\n   <g id=\"patch_4\">\n    <path d=\"M 382.829688 227.954622 \nL 382.829688 10.514622 \n\" style=\"fill:none;stroke:#000000;stroke-linecap:square;stroke-linejoin:miter;stroke-width:0.8;\"/>\n   </g>\n   <g id=\"patch_5\">\n    <path d=\"M 48.029687 227.954622 \nL 382.829687 227.954622 \n\" style=\"fill:none;stroke:#000000;stroke-linecap:square;stroke-linejoin:miter;stroke-width:0.8;\"/>\n   </g>\n   <g id=\"patch_6\">\n    <path d=\"M 48.029687 10.514622 \nL 382.829687 10.514622 \n\" style=\"fill:none;stroke:#000000;stroke-linecap:square;stroke-linejoin:miter;stroke-width:0.8;\"/>\n   </g>\n  </g>\n </g>\n <defs>\n  <clipPath id=\"pca749aef33\">\n   <rect height=\"217.44\" width=\"334.8\" x=\"48.029688\" y=\"10.514622\"/>\n  </clipPath>\n </defs>\n</svg>\n",
      "image/png": "[encoded data removed]"
     },
     "metadata": {
      "needs_background": "light"
     }
    }
   ],
   "source": [
    "x, y = show_window_data_a.new_data_available(df)\n",
    "sns.lineplot(x=x, y=y)"
   ]
  },
  {
   "cell_type": "code",
   "execution_count": 25,
   "metadata": {},
   "outputs": [
    {
     "output_type": "display_data",
     "data": {
      "application/vnd.plotly.v1+json": {
       "config": {
        "plotlyServerURL": "https://plot.ly"
       },
       "data": [
        {
         "hovertemplate": "x=%{x}<br>y=%{y}<extra></extra>",
         "legendgroup": "",
         "line": {
          "color": "#636efa",
          "dash": "solid"
         },
         "mode": "lines",
         "name": "",
         "orientation": "v",
         "showlegend": false,
         "type": "scatter",
         "x": [
          180,
          181,
          182,
          183,
          184,
          185,
          186,
          187,
          188,
          189,
          190,
          191,
          192,
          193,
          194,
          195,
          196,
          197,
          198,
          199,
          200,
          201,
          202,
          203,
          204,
          205,
          206,
          207,
          208,
          209,
          210,
          211,
          212,
          213,
          214,
          215,
          216,
          217,
          218,
          219,
          220,
          221,
          222,
          223,
          224,
          225,
          226,
          227,
          228,
          229,
          230,
          231,
          232,
          233,
          234,
          235,
          236,
          237,
          238,
          239,
          240,
          241,
          242,
          243,
          244,
          245,
          246,
          247,
          248,
          249,
          250,
          251,
          252,
          253,
          254,
          255,
          256,
          257,
          258,
          259,
          260,
          261,
          262,
          263,
          264,
          265,
          266,
          267,
          268,
          269,
          270,
          271,
          272,
          273,
          274,
          275,
          276,
          277,
          278,
          279,
          280,
          281,
          282,
          283,
          284,
          285,
          286,
          287,
          288,
          289,
          290,
          291,
          292,
          293,
          294,
          295,
          296,
          297,
          298,
          299,
          300,
          301,
          302,
          303,
          304,
          305,
          306,
          307,
          308,
          309,
          310,
          311,
          312,
          313,
          314,
          315,
          316,
          317,
          318,
          319,
          320,
          321,
          322,
          323,
          324,
          325,
          326,
          327,
          328,
          329,
          330,
          331,
          332,
          333,
          334,
          335,
          336,
          337,
          338,
          339,
          340,
          341,
          342,
          343,
          344,
          345,
          346,
          347,
          348,
          349,
          350,
          351,
          352,
          353,
          354,
          355,
          356,
          357,
          358,
          359,
          360
         ],
         "xaxis": "x",
         "y": [
          -819.2,
          -819.2,
          -753.664,
          -786.432,
          -786.432,
          -868.352,
          -868.352,
          -786.432,
          -770.048,
          -753.664,
          -753.664,
          -753.664,
          -786.432,
          -1015.808,
          -1097.728,
          -1015.808,
          -802.816,
          -622.592,
          -671.7439999999999,
          -753.664,
          -753.664,
          -770.048,
          -770.048,
          -802.816,
          -819.2,
          -786.432,
          -802.816,
          -770.048,
          -770.048,
          -786.432,
          -770.048,
          -802.816,
          -786.432,
          -753.664,
          -786.432,
          -720.8960000000001,
          -720.8960000000001,
          -720.8960000000001,
          -720.8960000000001,
          -770.048,
          -753.664,
          -753.664,
          -770.048,
          -753.664,
          -770.048,
          -802.816,
          -819.2,
          -851.9680000000001,
          -851.9680000000001,
          -851.9680000000001,
          -802.816,
          -802.816,
          -835.584,
          -819.2,
          -835.584,
          -835.584,
          -786.432,
          -835.584,
          -786.432,
          -819.2,
          -835.584,
          -802.816,
          -835.584,
          -786.432,
          -819.2,
          -819.2,
          -786.432,
          -786.432,
          -753.664,
          -786.432,
          -835.584,
          -802.816,
          -851.9680000000001,
          -819.2,
          -802.816,
          -819.2,
          -802.816,
          -819.2,
          -819.2,
          -786.432,
          -802.816,
          -770.048,
          -802.816,
          -835.584,
          -819.2,
          -835.584,
          -819.2,
          -802.816,
          -835.584,
          -786.432,
          -802.816,
          -786.432,
          -819.2,
          -802.816,
          -786.432,
          -753.664,
          -770.048,
          -966.6560000000001,
          -1097.728,
          -1032.192,
          -802.816,
          -688.128,
          -688.128,
          -753.664,
          -720.8960000000001,
          -753.664,
          -770.048,
          -753.664,
          -737.28,
          -753.664,
          -753.664,
          -770.048,
          -737.28,
          -753.664,
          -720.8960000000001,
          -737.28,
          -770.048,
          -753.664,
          -737.28,
          -753.664,
          -753.664,
          -819.2,
          -753.664,
          -720.8960000000001,
          -704.512,
          -737.28,
          -786.432,
          -753.664,
          -737.28,
          -786.432,
          -770.048,
          -802.816,
          -786.432,
          -786.432,
          -802.816,
          -802.816,
          -802.816,
          -770.048,
          -786.432,
          -802.816,
          -770.048,
          -770.048,
          -786.432,
          -802.816,
          -835.584,
          -802.816,
          -770.048,
          -770.048,
          -770.048,
          -802.816,
          -753.664,
          -770.048,
          -802.816,
          -786.432,
          -802.816,
          -786.432,
          -770.048,
          -819.2,
          -786.432,
          -770.048,
          -753.664,
          -802.816,
          -819.2,
          -770.048,
          -753.664,
          -770.048,
          -802.816,
          -819.2,
          -786.432,
          -786.432,
          -802.816,
          -802.816,
          -802.816,
          -770.048,
          -819.2,
          -835.584,
          -786.432,
          -753.664,
          -704.512,
          -851.9680000000001,
          -1081.344
         ],
         "yaxis": "y"
        }
       ],
       "layout": {
        "legend": {
         "tracegroupgap": 0
        },
        "template": {
         "data": {
          "bar": [
           {
            "error_x": {
             "color": "#2a3f5f"
            },
            "error_y": {
             "color": "#2a3f5f"
            },
            "marker": {
             "line": {
              "color": "#E5ECF6",
              "width": 0.5
             }
            },
            "type": "bar"
           }
          ],
          "barpolar": [
           {
            "marker": {
             "line": {
              "color": "#E5ECF6",
              "width": 0.5
             }
            },
            "type": "barpolar"
           }
          ],
          "carpet": [
           {
            "aaxis": {
             "endlinecolor": "#2a3f5f",
             "gridcolor": "white",
             "linecolor": "white",
             "minorgridcolor": "white",
             "startlinecolor": "#2a3f5f"
            },
            "baxis": {
             "endlinecolor": "#2a3f5f",
             "gridcolor": "white",
             "linecolor": "white",
             "minorgridcolor": "white",
             "startlinecolor": "#2a3f5f"
            },
            "type": "carpet"
           }
          ],
          "choropleth": [
           {
            "colorbar": {
             "outlinewidth": 0,
             "ticks": ""
            },
            "type": "choropleth"
           }
          ],
          "contour": [
           {
            "colorbar": {
             "outlinewidth": 0,
             "ticks": ""
            },
            "colorscale": [
             [
              0,
              "#0d0887"
             ],
             [
              0.1111111111111111,
              "#46039f"
             ],
             [
              0.2222222222222222,
              "#7201a8"
             ],
             [
              0.3333333333333333,
              "#9c179e"
             ],
             [
              0.4444444444444444,
              "#bd3786"
             ],
             [
              0.5555555555555556,
              "#d8576b"
             ],
             [
              0.6666666666666666,
              "#ed7953"
             ],
             [
              0.7777777777777778,
              "#fb9f3a"
             ],
             [
              0.8888888888888888,
              "#fdca26"
             ],
             [
              1,
              "#f0f921"
             ]
            ],
            "type": "contour"
           }
          ],
          "contourcarpet": [
           {
            "colorbar": {
             "outlinewidth": 0,
             "ticks": ""
            },
            "type": "contourcarpet"
           }
          ],
          "heatmap": [
           {
            "colorbar": {
             "outlinewidth": 0,
             "ticks": ""
            },
            "colorscale": [
             [
              0,
              "#0d0887"
             ],
             [
              0.1111111111111111,
              "#46039f"
             ],
             [
              0.2222222222222222,
              "#7201a8"
             ],
             [
              0.3333333333333333,
              "#9c179e"
             ],
             [
              0.4444444444444444,
              "#bd3786"
             ],
             [
              0.5555555555555556,
              "#d8576b"
             ],
             [
              0.6666666666666666,
              "#ed7953"
             ],
             [
              0.7777777777777778,
              "#fb9f3a"
             ],
             [
              0.8888888888888888,
              "#fdca26"
             ],
             [
              1,
              "#f0f921"
             ]
            ],
            "type": "heatmap"
           }
          ],
          "heatmapgl": [
           {
            "colorbar": {
             "outlinewidth": 0,
             "ticks": ""
            },
            "colorscale": [
             [
              0,
              "#0d0887"
             ],
             [
              0.1111111111111111,
              "#46039f"
             ],
             [
              0.2222222222222222,
              "#7201a8"
             ],
             [
              0.3333333333333333,
              "#9c179e"
             ],
             [
              0.4444444444444444,
              "#bd3786"
             ],
             [
              0.5555555555555556,
              "#d8576b"
             ],
             [
              0.6666666666666666,
              "#ed7953"
             ],
             [
              0.7777777777777778,
              "#fb9f3a"
             ],
             [
              0.8888888888888888,
              "#fdca26"
             ],
             [
              1,
              "#f0f921"
             ]
            ],
            "type": "heatmapgl"
           }
          ],
          "histogram": [
           {
            "marker": {
             "colorbar": {
              "outlinewidth": 0,
              "ticks": ""
             }
            },
            "type": "histogram"
           }
          ],
          "histogram2d": [
           {
            "colorbar": {
             "outlinewidth": 0,
             "ticks": ""
            },
            "colorscale": [
             [
              0,
              "#0d0887"
             ],
             [
              0.1111111111111111,
              "#46039f"
             ],
             [
              0.2222222222222222,
              "#7201a8"
             ],
             [
              0.3333333333333333,
              "#9c179e"
             ],
             [
              0.4444444444444444,
              "#bd3786"
             ],
             [
              0.5555555555555556,
              "#d8576b"
             ],
             [
              0.6666666666666666,
              "#ed7953"
             ],
             [
              0.7777777777777778,
              "#fb9f3a"
             ],
             [
              0.8888888888888888,
              "#fdca26"
             ],
             [
              1,
              "#f0f921"
             ]
            ],
            "type": "histogram2d"
           }
          ],
          "histogram2dcontour": [
           {
            "colorbar": {
             "outlinewidth": 0,
             "ticks": ""
            },
            "colorscale": [
             [
              0,
              "#0d0887"
             ],
             [
              0.1111111111111111,
              "#46039f"
             ],
             [
              0.2222222222222222,
              "#7201a8"
             ],
             [
              0.3333333333333333,
              "#9c179e"
             ],
             [
              0.4444444444444444,
              "#bd3786"
             ],
             [
              0.5555555555555556,
              "#d8576b"
             ],
             [
              0.6666666666666666,
              "#ed7953"
             ],
             [
              0.7777777777777778,
              "#fb9f3a"
             ],
             [
              0.8888888888888888,
              "#fdca26"
             ],
             [
              1,
              "#f0f921"
             ]
            ],
            "type": "histogram2dcontour"
           }
          ],
          "mesh3d": [
           {
            "colorbar": {
             "outlinewidth": 0,
             "ticks": ""
            },
            "type": "mesh3d"
           }
          ],
          "parcoords": [
           {
            "line": {
             "colorbar": {
              "outlinewidth": 0,
              "ticks": ""
             }
            },
            "type": "parcoords"
           }
          ],
          "pie": [
           {
            "automargin": true,
            "type": "pie"
           }
          ],
          "scatter": [
           {
            "marker": {
             "colorbar": {
              "outlinewidth": 0,
              "ticks": ""
             }
            },
            "type": "scatter"
           }
          ],
          "scatter3d": [
           {
            "line": {
             "colorbar": {
              "outlinewidth": 0,
              "ticks": ""
             }
            },
            "marker": {
             "colorbar": {
              "outlinewidth": 0,
              "ticks": ""
             }
            },
            "type": "scatter3d"
           }
          ],
          "scattercarpet": [
           {
            "marker": {
             "colorbar": {
              "outlinewidth": 0,
              "ticks": ""
             }
            },
            "type": "scattercarpet"
           }
          ],
          "scattergeo": [
           {
            "marker": {
             "colorbar": {
              "outlinewidth": 0,
              "ticks": ""
             }
            },
            "type": "scattergeo"
           }
          ],
          "scattergl": [
           {
            "marker": {
             "colorbar": {
              "outlinewidth": 0,
              "ticks": ""
             }
            },
            "type": "scattergl"
           }
          ],
          "scattermapbox": [
           {
            "marker": {
             "colorbar": {
              "outlinewidth": 0,
              "ticks": ""
             }
            },
            "type": "scattermapbox"
           }
          ],
          "scatterpolar": [
           {
            "marker": {
             "colorbar": {
              "outlinewidth": 0,
              "ticks": ""
             }
            },
            "type": "scatterpolar"
           }
          ],
          "scatterpolargl": [
           {
            "marker": {
             "colorbar": {
              "outlinewidth": 0,
              "ticks": ""
             }
            },
            "type": "scatterpolargl"
           }
          ],
          "scatterternary": [
           {
            "marker": {
             "colorbar": {
              "outlinewidth": 0,
              "ticks": ""
             }
            },
            "type": "scatterternary"
           }
          ],
          "surface": [
           {
            "colorbar": {
             "outlinewidth": 0,
             "ticks": ""
            },
            "colorscale": [
             [
              0,
              "#0d0887"
             ],
             [
              0.1111111111111111,
              "#46039f"
             ],
             [
              0.2222222222222222,
              "#7201a8"
             ],
             [
              0.3333333333333333,
              "#9c179e"
             ],
             [
              0.4444444444444444,
              "#bd3786"
             ],
             [
              0.5555555555555556,
              "#d8576b"
             ],
             [
              0.6666666666666666,
              "#ed7953"
             ],
             [
              0.7777777777777778,
              "#fb9f3a"
             ],
             [
              0.8888888888888888,
              "#fdca26"
             ],
             [
              1,
              "#f0f921"
             ]
            ],
            "type": "surface"
           }
          ],
          "table": [
           {
            "cells": {
             "fill": {
              "color": "#EBF0F8"
             },
             "line": {
              "color": "white"
             }
            },
            "header": {
             "fill": {
              "color": "#C8D4E3"
             },
             "line": {
              "color": "white"
             }
            },
            "type": "table"
           }
          ]
         },
         "layout": {
          "annotationdefaults": {
           "arrowcolor": "#2a3f5f",
           "arrowhead": 0,
           "arrowwidth": 1
          },
          "coloraxis": {
           "colorbar": {
            "outlinewidth": 0,
            "ticks": ""
           }
          },
          "colorscale": {
           "diverging": [
            [
             0,
             "#8e0152"
            ],
            [
             0.1,
             "#c51b7d"
            ],
            [
             0.2,
             "#de77ae"
            ],
            [
             0.3,
             "#f1b6da"
            ],
            [
             0.4,
             "#fde0ef"
            ],
            [
             0.5,
             "#f7f7f7"
            ],
            [
             0.6,
             "#e6f5d0"
            ],
            [
             0.7,
             "#b8e186"
            ],
            [
             0.8,
             "#7fbc41"
            ],
            [
             0.9,
             "#4d9221"
            ],
            [
             1,
             "#276419"
            ]
           ],
           "sequential": [
            [
             0,
             "#0d0887"
            ],
            [
             0.1111111111111111,
             "#46039f"
            ],
            [
             0.2222222222222222,
             "#7201a8"
            ],
            [
             0.3333333333333333,
             "#9c179e"
            ],
            [
             0.4444444444444444,
             "#bd3786"
            ],
            [
             0.5555555555555556,
             "#d8576b"
            ],
            [
             0.6666666666666666,
             "#ed7953"
            ],
            [
             0.7777777777777778,
             "#fb9f3a"
            ],
            [
             0.8888888888888888,
             "#fdca26"
            ],
            [
             1,
             "#f0f921"
            ]
           ],
           "sequentialminus": [
            [
             0,
             "#0d0887"
            ],
            [
             0.1111111111111111,
             "#46039f"
            ],
            [
             0.2222222222222222,
             "#7201a8"
            ],
            [
             0.3333333333333333,
             "#9c179e"
            ],
            [
             0.4444444444444444,
             "#bd3786"
            ],
            [
             0.5555555555555556,
             "#d8576b"
            ],
            [
             0.6666666666666666,
             "#ed7953"
            ],
            [
             0.7777777777777778,
             "#fb9f3a"
            ],
            [
             0.8888888888888888,
             "#fdca26"
            ],
            [
             1,
             "#f0f921"
            ]
           ]
          },
          "colorway": [
           "#636efa",
           "#EF553B",
           "#00cc96",
           "#ab63fa",
           "#FFA15A",
           "#19d3f3",
           "#FF6692",
           "#B6E880",
           "#FF97FF",
           "#FECB52"
          ],
          "font": {
           "color": "#2a3f5f"
          },
          "geo": {
           "bgcolor": "white",
           "lakecolor": "white",
           "landcolor": "#E5ECF6",
           "showlakes": true,
           "showland": true,
           "subunitcolor": "white"
          },
          "hoverlabel": {
           "align": "left"
          },
          "hovermode": "closest",
          "mapbox": {
           "style": "light"
          },
          "paper_bgcolor": "white",
          "plot_bgcolor": "#E5ECF6",
          "polar": {
           "angularaxis": {
            "gridcolor": "white",
            "linecolor": "white",
            "ticks": ""
           },
           "bgcolor": "#E5ECF6",
           "radialaxis": {
            "gridcolor": "white",
            "linecolor": "white",
            "ticks": ""
           }
          },
          "scene": {
           "xaxis": {
            "backgroundcolor": "#E5ECF6",
            "gridcolor": "white",
            "gridwidth": 2,
            "linecolor": "white",
            "showbackground": true,
            "ticks": "",
            "zerolinecolor": "white"
           },
           "yaxis": {
            "backgroundcolor": "#E5ECF6",
            "gridcolor": "white",
            "gridwidth": 2,
            "linecolor": "white",
            "showbackground": true,
            "ticks": "",
            "zerolinecolor": "white"
           },
           "zaxis": {
            "backgroundcolor": "#E5ECF6",
            "gridcolor": "white",
            "gridwidth": 2,
            "linecolor": "white",
            "showbackground": true,
            "ticks": "",
            "zerolinecolor": "white"
           }
          },
          "shapedefaults": {
           "line": {
            "color": "#2a3f5f"
           }
          },
          "ternary": {
           "aaxis": {
            "gridcolor": "white",
            "linecolor": "white",
            "ticks": ""
           },
           "baxis": {
            "gridcolor": "white",
            "linecolor": "white",
            "ticks": ""
           },
           "bgcolor": "#E5ECF6",
           "caxis": {
            "gridcolor": "white",
            "linecolor": "white",
            "ticks": ""
           }
          },
          "title": {
           "x": 0.05
          },
          "xaxis": {
           "automargin": true,
           "gridcolor": "white",
           "linecolor": "white",
           "ticks": "",
           "title": {
            "standoff": 15
           },
           "zerolinecolor": "white",
           "zerolinewidth": 2
          },
          "yaxis": {
           "automargin": true,
           "gridcolor": "white",
           "linecolor": "white",
           "ticks": "",
           "title": {
            "standoff": 15
           },
           "zerolinecolor": "white",
           "zerolinewidth": 2
          }
         }
        },
        "title": {
         "text": "Test"
        },
        "xaxis": {
         "anchor": "y",
         "domain": [
          0,
          1
         ],
         "title": {
          "text": "x"
         }
        },
        "yaxis": {
         "anchor": "x",
         "domain": [
          0,
          1
         ],
         "title": {
          "text": "y"
         }
        }
       }
      },
      "text/html": "<div>\n        \n        \n            <div id=\"bb1a2688-997e-4de6-8cdc-a05684864930\" class=\"plotly-graph-div\" style=\"height:525px; width:100%;\"></div>\n            <script type=\"text/javascript\">\n                require([\"plotly\"], function(Plotly) {\n                    window.PLOTLYENV=window.PLOTLYENV || {};\n                    \n                if (document.getElementById(\"bb1a2688-997e-4de6-8cdc-a05684864930\")) {\n                    Plotly.newPlot(\n                        'bb1a2688-997e-4de6-8cdc-a05684864930',\n                        [{\"hovertemplate\": \"x=%{x}<br>y=%{y}<extra></extra>\", \"legendgroup\": \"\", \"line\": {\"color\": \"#636efa\", \"dash\": \"solid\"}, \"mode\": \"lines\", \"name\": \"\", \"orientation\": \"v\", \"showlegend\": false, \"type\": \"scatter\", \"x\": [180, 181, 182, 183, 184, 185, 186, 187, 188, 189, 190, 191, 192, 193, 194, 195, 196, 197, 198, 199, 200, 201, 202, 203, 204, 205, 206, 207, 208, 209, 210, 211, 212, 213, 214, 215, 216, 217, 218, 219, 220, 221, 222, 223, 224, 225, 226, 227, 228, 229, 230, 231, 232, 233, 234, 235, 236, 237, 238, 239, 240, 241, 242, 243, 244, 245, 246, 247, 248, 249, 250, 251, 252, 253, 254, 255, 256, 257, 258, 259, 260, 261, 262, 263, 264, 265, 266, 267, 268, 269, 270, 271, 272, 273, 274, 275, 276, 277, 278, 279, 280, 281, 282, 283, 284, 285, 286, 287, 288, 289, 290, 291, 292, 293, 294, 295, 296, 297, 298, 299, 300, 301, 302, 303, 304, 305, 306, 307, 308, 309, 310, 311, 312, 313, 314, 315, 316, 317, 318, 319, 320, 321, 322, 323, 324, 325, 326, 327, 328, 329, 330, 331, 332, 333, 334, 335, 336, 337, 338, 339, 340, 341, 342, 343, 344, 345, 346, 347, 348, 349, 350, 351, 352, 353, 354, 355, 356, 357, 358, 359, 360], \"xaxis\": \"x\", \"y\": [-819.2, -819.2, -753.664, -786.432, -786.432, -868.352, -868.352, -786.432, -770.048, -753.664, -753.664, -753.664, -786.432, -1015.808, -1097.728, -1015.808, -802.816, -622.592, -671.7439999999999, -753.664, -753.664, -770.048, -770.048, -802.816, -819.2, -786.432, -802.816, -770.048, -770.048, -786.432, -770.048, -802.816, -786.432, -753.664, -786.432, -720.8960000000001, -720.8960000000001, -720.8960000000001, -720.8960000000001, -770.048, -753.664, -753.664, -770.048, -753.664, -770.048, -802.816, -819.2, -851.9680000000001, -851.9680000000001, -851.9680000000001, -802.816, -802.816, -835.584, -819.2, -835.584, -835.584, -786.432, -835.584, -786.432, -819.2, -835.584, -802.816, -835.584, -786.432, -819.2, -819.2, -786.432, -786.432, -753.664, -786.432, -835.584, -802.816, -851.9680000000001, -819.2, -802.816, -819.2, -802.816, -819.2, -819.2, -786.432, -802.816, -770.048, -802.816, -835.584, -819.2, -835.584, -819.2, -802.816, -835.584, -786.432, -802.816, -786.432, -819.2, -802.816, -786.432, -753.664, -770.048, -966.6560000000001, -1097.728, -1032.192, -802.816, -688.128, -688.128, -753.664, -720.8960000000001, -753.664, -770.048, -753.664, -737.28, -753.664, -753.664, -770.048, -737.28, -753.664, -720.8960000000001, -737.28, -770.048, -753.664, -737.28, -753.664, -753.664, -819.2, -753.664, -720.8960000000001, -704.512, -737.28, -786.432, -753.664, -737.28, -786.432, -770.048, -802.816, -786.432, -786.432, -802.816, -802.816, -802.816, -770.048, -786.432, -802.816, -770.048, -770.048, -786.432, -802.816, -835.584, -802.816, -770.048, -770.048, -770.048, -802.816, -753.664, -770.048, -802.816, -786.432, -802.816, -786.432, -770.048, -819.2, -786.432, -770.048, -753.664, -802.816, -819.2, -770.048, -753.664, -770.048, -802.816, -819.2, -786.432, -786.432, -802.816, -802.816, -802.816, -770.048, -819.2, -835.584, -786.432, -753.664, -704.512, -851.9680000000001, -1081.344], \"yaxis\": \"y\"}],\n                        {\"legend\": {\"tracegroupgap\": 0}, \"template\": {\"data\": {\"bar\": [{\"error_x\": {\"color\": \"#2a3f5f\"}, \"error_y\": {\"color\": \"#2a3f5f\"}, \"marker\": {\"line\": {\"color\": \"#E5ECF6\", \"width\": 0.5}}, \"type\": \"bar\"}], \"barpolar\": [{\"marker\": {\"line\": {\"color\": \"#E5ECF6\", \"width\": 0.5}}, \"type\": \"barpolar\"}], \"carpet\": [{\"aaxis\": {\"endlinecolor\": \"#2a3f5f\", \"gridcolor\": \"white\", \"linecolor\": \"white\", \"minorgridcolor\": \"white\", \"startlinecolor\": \"#2a3f5f\"}, \"baxis\": {\"endlinecolor\": \"#2a3f5f\", \"gridcolor\": \"white\", \"linecolor\": \"white\", \"minorgridcolor\": \"white\", \"startlinecolor\": \"#2a3f5f\"}, \"type\": \"carpet\"}], \"choropleth\": [{\"colorbar\": {\"outlinewidth\": 0, \"ticks\": \"\"}, \"type\": \"choropleth\"}], \"contour\": [{\"colorbar\": {\"outlinewidth\": 0, \"ticks\": \"\"}, \"colorscale\": [[0.0, \"#0d0887\"], [0.1111111111111111, \"#46039f\"], [0.2222222222222222, \"#7201a8\"], [0.3333333333333333, \"#9c179e\"], [0.4444444444444444, \"#bd3786\"], [0.5555555555555556, \"#d8576b\"], [0.6666666666666666, \"#ed7953\"], [0.7777777777777778, \"#fb9f3a\"], [0.8888888888888888, \"#fdca26\"], [1.0, \"#f0f921\"]], \"type\": \"contour\"}], \"contourcarpet\": [{\"colorbar\": {\"outlinewidth\": 0, \"ticks\": \"\"}, \"type\": \"contourcarpet\"}], \"heatmap\": [{\"colorbar\": {\"outlinewidth\": 0, \"ticks\": \"\"}, \"colorscale\": [[0.0, \"#0d0887\"], [0.1111111111111111, \"#46039f\"], [0.2222222222222222, \"#7201a8\"], [0.3333333333333333, \"#9c179e\"], [0.4444444444444444, \"#bd3786\"], [0.5555555555555556, \"#d8576b\"], [0.6666666666666666, \"#ed7953\"], [0.7777777777777778, \"#fb9f3a\"], [0.8888888888888888, \"#fdca26\"], [1.0, \"#f0f921\"]], \"type\": \"heatmap\"}], \"heatmapgl\": [{\"colorbar\": {\"outlinewidth\": 0, \"ticks\": \"\"}, \"colorscale\": [[0.0, \"#0d0887\"], [0.1111111111111111, \"#46039f\"], [0.2222222222222222, \"#7201a8\"], [0.3333333333333333, \"#9c179e\"], [0.4444444444444444, \"#bd3786\"], [0.5555555555555556, \"#d8576b\"], [0.6666666666666666, \"#ed7953\"], [0.7777777777777778, \"#fb9f3a\"], [0.8888888888888888, \"#fdca26\"], [1.0, \"#f0f921\"]], \"type\": \"heatmapgl\"}], \"histogram\": [{\"marker\": {\"colorbar\": {\"outlinewidth\": 0, \"ticks\": \"\"}}, \"type\": \"histogram\"}], \"histogram2d\": [{\"colorbar\": {\"outlinewidth\": 0, \"ticks\": \"\"}, \"colorscale\": [[0.0, \"#0d0887\"], [0.1111111111111111, \"#46039f\"], [0.2222222222222222, \"#7201a8\"], [0.3333333333333333, \"#9c179e\"], [0.4444444444444444, \"#bd3786\"], [0.5555555555555556, \"#d8576b\"], [0.6666666666666666, \"#ed7953\"], [0.7777777777777778, \"#fb9f3a\"], [0.8888888888888888, \"#fdca26\"], [1.0, \"#f0f921\"]], \"type\": \"histogram2d\"}], \"histogram2dcontour\": [{\"colorbar\": {\"outlinewidth\": 0, \"ticks\": \"\"}, \"colorscale\": [[0.0, \"#0d0887\"], [0.1111111111111111, \"#46039f\"], [0.2222222222222222, \"#7201a8\"], [0.3333333333333333, \"#9c179e\"], [0.4444444444444444, \"#bd3786\"], [0.5555555555555556, \"#d8576b\"], [0.6666666666666666, \"#ed7953\"], [0.7777777777777778, \"#fb9f3a\"], [0.8888888888888888, \"#fdca26\"], [1.0, \"#f0f921\"]], \"type\": \"histogram2dcontour\"}], \"mesh3d\": [{\"colorbar\": {\"outlinewidth\": 0, \"ticks\": \"\"}, \"type\": \"mesh3d\"}], \"parcoords\": [{\"line\": {\"colorbar\": {\"outlinewidth\": 0, \"ticks\": \"\"}}, \"type\": \"parcoords\"}], \"pie\": [{\"automargin\": true, \"type\": \"pie\"}], \"scatter\": [{\"marker\": {\"colorbar\": {\"outlinewidth\": 0, \"ticks\": \"\"}}, \"type\": \"scatter\"}], \"scatter3d\": [{\"line\": {\"colorbar\": {\"outlinewidth\": 0, \"ticks\": \"\"}}, \"marker\": {\"colorbar\": {\"outlinewidth\": 0, \"ticks\": \"\"}}, \"type\": \"scatter3d\"}], \"scattercarpet\": [{\"marker\": {\"colorbar\": {\"outlinewidth\": 0, \"ticks\": \"\"}}, \"type\": \"scattercarpet\"}], \"scattergeo\": [{\"marker\": {\"colorbar\": {\"outlinewidth\": 0, \"ticks\": \"\"}}, \"type\": \"scattergeo\"}], \"scattergl\": [{\"marker\": {\"colorbar\": {\"outlinewidth\": 0, \"ticks\": \"\"}}, \"type\": \"scattergl\"}], \"scattermapbox\": [{\"marker\": {\"colorbar\": {\"outlinewidth\": 0, \"ticks\": \"\"}}, \"type\": \"scattermapbox\"}], \"scatterpolar\": [{\"marker\": {\"colorbar\": {\"outlinewidth\": 0, \"ticks\": \"\"}}, \"type\": \"scatterpolar\"}], \"scatterpolargl\": [{\"marker\": {\"colorbar\": {\"outlinewidth\": 0, \"ticks\": \"\"}}, \"type\": \"scatterpolargl\"}], \"scatterternary\": [{\"marker\": {\"colorbar\": {\"outlinewidth\": 0, \"ticks\": \"\"}}, \"type\": \"scatterternary\"}], \"surface\": [{\"colorbar\": {\"outlinewidth\": 0, \"ticks\": \"\"}, \"colorscale\": [[0.0, \"#0d0887\"], [0.1111111111111111, \"#46039f\"], [0.2222222222222222, \"#7201a8\"], [0.3333333333333333, \"#9c179e\"], [0.4444444444444444, \"#bd3786\"], [0.5555555555555556, \"#d8576b\"], [0.6666666666666666, \"#ed7953\"], [0.7777777777777778, \"#fb9f3a\"], [0.8888888888888888, \"#fdca26\"], [1.0, \"#f0f921\"]], \"type\": \"surface\"}], \"table\": [{\"cells\": {\"fill\": {\"color\": \"#EBF0F8\"}, \"line\": {\"color\": \"white\"}}, \"header\": {\"fill\": {\"color\": \"#C8D4E3\"}, \"line\": {\"color\": \"white\"}}, \"type\": \"table\"}]}, \"layout\": {\"annotationdefaults\": {\"arrowcolor\": \"#2a3f5f\", \"arrowhead\": 0, \"arrowwidth\": 1}, \"coloraxis\": {\"colorbar\": {\"outlinewidth\": 0, \"ticks\": \"\"}}, \"colorscale\": {\"diverging\": [[0, \"#8e0152\"], [0.1, \"#c51b7d\"], [0.2, \"#de77ae\"], [0.3, \"#f1b6da\"], [0.4, \"#fde0ef\"], [0.5, \"#f7f7f7\"], [0.6, \"#e6f5d0\"], [0.7, \"#b8e186\"], [0.8, \"#7fbc41\"], [0.9, \"#4d9221\"], [1, \"#276419\"]], \"sequential\": [[0.0, \"#0d0887\"], [0.1111111111111111, \"#46039f\"], [0.2222222222222222, \"#7201a8\"], [0.3333333333333333, \"#9c179e\"], [0.4444444444444444, \"#bd3786\"], [0.5555555555555556, \"#d8576b\"], [0.6666666666666666, \"#ed7953\"], [0.7777777777777778, \"#fb9f3a\"], [0.8888888888888888, \"#fdca26\"], [1.0, \"#f0f921\"]], \"sequentialminus\": [[0.0, \"#0d0887\"], [0.1111111111111111, \"#46039f\"], [0.2222222222222222, \"#7201a8\"], [0.3333333333333333, \"#9c179e\"], [0.4444444444444444, \"#bd3786\"], [0.5555555555555556, \"#d8576b\"], [0.6666666666666666, \"#ed7953\"], [0.7777777777777778, \"#fb9f3a\"], [0.8888888888888888, \"#fdca26\"], [1.0, \"#f0f921\"]]}, \"colorway\": [\"#636efa\", \"#EF553B\", \"#00cc96\", \"#ab63fa\", \"#FFA15A\", \"#19d3f3\", \"#FF6692\", \"#B6E880\", \"#FF97FF\", \"#FECB52\"], \"font\": {\"color\": \"#2a3f5f\"}, \"geo\": {\"bgcolor\": \"white\", \"lakecolor\": \"white\", \"landcolor\": \"#E5ECF6\", \"showlakes\": true, \"showland\": true, \"subunitcolor\": \"white\"}, \"hoverlabel\": {\"align\": \"left\"}, \"hovermode\": \"closest\", \"mapbox\": {\"style\": \"light\"}, \"paper_bgcolor\": \"white\", \"plot_bgcolor\": \"#E5ECF6\", \"polar\": {\"angularaxis\": {\"gridcolor\": \"white\", \"linecolor\": \"white\", \"ticks\": \"\"}, \"bgcolor\": \"#E5ECF6\", \"radialaxis\": {\"gridcolor\": \"white\", \"linecolor\": \"white\", \"ticks\": \"\"}}, \"scene\": {\"xaxis\": {\"backgroundcolor\": \"#E5ECF6\", \"gridcolor\": \"white\", \"gridwidth\": 2, \"linecolor\": \"white\", \"showbackground\": true, \"ticks\": \"\", \"zerolinecolor\": \"white\"}, \"yaxis\": {\"backgroundcolor\": \"#E5ECF6\", \"gridcolor\": \"white\", \"gridwidth\": 2, \"linecolor\": \"white\", \"showbackground\": true, \"ticks\": \"\", \"zerolinecolor\": \"white\"}, \"zaxis\": {\"backgroundcolor\": \"#E5ECF6\", \"gridcolor\": \"white\", \"gridwidth\": 2, \"linecolor\": \"white\", \"showbackground\": true, \"ticks\": \"\", \"zerolinecolor\": \"white\"}}, \"shapedefaults\": {\"line\": {\"color\": \"#2a3f5f\"}}, \"ternary\": {\"aaxis\": {\"gridcolor\": \"white\", \"linecolor\": \"white\", \"ticks\": \"\"}, \"baxis\": {\"gridcolor\": \"white\", \"linecolor\": \"white\", \"ticks\": \"\"}, \"bgcolor\": \"#E5ECF6\", \"caxis\": {\"gridcolor\": \"white\", \"linecolor\": \"white\", \"ticks\": \"\"}}, \"title\": {\"x\": 0.05}, \"xaxis\": {\"automargin\": true, \"gridcolor\": \"white\", \"linecolor\": \"white\", \"ticks\": \"\", \"title\": {\"standoff\": 15}, \"zerolinecolor\": \"white\", \"zerolinewidth\": 2}, \"yaxis\": {\"automargin\": true, \"gridcolor\": \"white\", \"linecolor\": \"white\", \"ticks\": \"\", \"title\": {\"standoff\": 15}, \"zerolinecolor\": \"white\", \"zerolinewidth\": 2}}}, \"title\": {\"text\": \"Test\"}, \"xaxis\": {\"anchor\": \"y\", \"domain\": [0.0, 1.0], \"title\": {\"text\": \"x\"}}, \"yaxis\": {\"anchor\": \"x\", \"domain\": [0.0, 1.0], \"title\": {\"text\": \"y\"}}},\n                        {\"responsive\": true}\n                    ).then(function(){\n                            \nvar gd = document.getElementById('bb1a2688-997e-4de6-8cdc-a05684864930');\nvar x = new MutationObserver(function (mutations, observer) {{\n        var display = window.getComputedStyle(gd).display;\n        if (!display || display === 'none') {{\n            console.log([gd, 'removed!']);\n            Plotly.purge(gd);\n            observer.disconnect();\n        }}\n}});\n\n// Listen for the removal of the full notebook cells\nvar notebookContainer = gd.closest('#notebook-container');\nif (notebookContainer) {{\n    x.observe(notebookContainer, {childList: true});\n}}\n\n// Listen for the clearing of the current output cell\nvar outputEl = gd.closest('.output');\nif (outputEl) {{\n    x.observe(outputEl, {childList: true});\n}}\n\n                        })\n                };\n                });\n            </script>\n        </div>"
     },
     "metadata": {}
    }
   ],
   "source": [
    "import plotly.express as px\n",
    "\n",
    "fig = px.line(x=x, y=y, title='Test')\n",
    "fig.show()"
   ]
  },
  {
   "cell_type": "code",
   "execution_count": 74,
   "metadata": {},
   "outputs": [
    {
     "output_type": "execute_result",
     "data": {
      "text/plain": [
       "          ECG\n",
       "0    -819.200\n",
       "1    -802.816\n",
       "2    -802.816\n",
       "3    -802.816\n",
       "4    -819.200\n",
       "...       ...\n",
       "3203 -884.736\n",
       "3204 -933.888\n",
       "3205 -901.120\n",
       "3206 -917.504\n",
       "3207 -933.888\n",
       "\n",
       "[3208 rows x 1 columns]"
      ],
      "text/html": "<div>\n<style scoped>\n    .dataframe tbody tr th:only-of-type {\n        vertical-align: middle;\n    }\n\n    .dataframe tbody tr th {\n        vertical-align: top;\n    }\n\n    .dataframe thead th {\n        text-align: right;\n    }\n</style>\n<table border=\"1\" class=\"dataframe\">\n  <thead>\n    <tr style=\"text-align: right;\">\n      <th></th>\n      <th>ECG</th>\n    </tr>\n  </thead>\n  <tbody>\n    <tr>\n      <th>0</th>\n      <td>-819.200</td>\n    </tr>\n    <tr>\n      <th>1</th>\n      <td>-802.816</td>\n    </tr>\n    <tr>\n      <th>2</th>\n      <td>-802.816</td>\n    </tr>\n    <tr>\n      <th>3</th>\n      <td>-802.816</td>\n    </tr>\n    <tr>\n      <th>4</th>\n      <td>-819.200</td>\n    </tr>\n    <tr>\n      <th>...</th>\n      <td>...</td>\n    </tr>\n    <tr>\n      <th>3203</th>\n      <td>-884.736</td>\n    </tr>\n    <tr>\n      <th>3204</th>\n      <td>-933.888</td>\n    </tr>\n    <tr>\n      <th>3205</th>\n      <td>-901.120</td>\n    </tr>\n    <tr>\n      <th>3206</th>\n      <td>-917.504</td>\n    </tr>\n    <tr>\n      <th>3207</th>\n      <td>-933.888</td>\n    </tr>\n  </tbody>\n</table>\n<p>3208 rows × 1 columns</p>\n</div>"
     },
     "metadata": {},
     "execution_count": 74
    }
   ],
   "source": [
    "df"
   ]
  },
  {
   "cell_type": "code",
   "execution_count": 83,
   "metadata": {},
   "outputs": [],
   "source": [
    "class data_simulation:\n",
    "\n",
    "    def __init__(self):\n",
    "        self.df = df\n",
    "        self.df_ini = "
   ]
  },
  {
   "cell_type": "code",
   "execution_count": 84,
   "metadata": {},
   "outputs": [],
   "source": [
    "data_sim = data_simulation()"
   ]
  },
  {
   "cell_type": "code",
   "execution_count": 85,
   "metadata": {},
   "outputs": [
    {
     "output_type": "execute_result",
     "data": {
      "text/plain": [
       "          ECG\n",
       "0    -819.200\n",
       "1    -802.816\n",
       "2    -802.816\n",
       "3    -802.816\n",
       "4    -819.200\n",
       "...       ...\n",
       "3203 -884.736\n",
       "3204 -933.888\n",
       "3205 -901.120\n",
       "3206 -917.504\n",
       "3207 -933.888\n",
       "\n",
       "[3208 rows x 1 columns]"
      ],
      "text/html": "<div>\n<style scoped>\n    .dataframe tbody tr th:only-of-type {\n        vertical-align: middle;\n    }\n\n    .dataframe tbody tr th {\n        vertical-align: top;\n    }\n\n    .dataframe thead th {\n        text-align: right;\n    }\n</style>\n<table border=\"1\" class=\"dataframe\">\n  <thead>\n    <tr style=\"text-align: right;\">\n      <th></th>\n      <th>ECG</th>\n    </tr>\n  </thead>\n  <tbody>\n    <tr>\n      <th>0</th>\n      <td>-819.200</td>\n    </tr>\n    <tr>\n      <th>1</th>\n      <td>-802.816</td>\n    </tr>\n    <tr>\n      <th>2</th>\n      <td>-802.816</td>\n    </tr>\n    <tr>\n      <th>3</th>\n      <td>-802.816</td>\n    </tr>\n    <tr>\n      <th>4</th>\n      <td>-819.200</td>\n    </tr>\n    <tr>\n      <th>...</th>\n      <td>...</td>\n    </tr>\n    <tr>\n      <th>3203</th>\n      <td>-884.736</td>\n    </tr>\n    <tr>\n      <th>3204</th>\n      <td>-933.888</td>\n    </tr>\n    <tr>\n      <th>3205</th>\n      <td>-901.120</td>\n    </tr>\n    <tr>\n      <th>3206</th>\n      <td>-917.504</td>\n    </tr>\n    <tr>\n      <th>3207</th>\n      <td>-933.888</td>\n    </tr>\n  </tbody>\n</table>\n<p>3208 rows × 1 columns</p>\n</div>"
     },
     "metadata": {},
     "execution_count": 85
    }
   ],
   "source": [
    "data_sim.df"
   ]
  },
  {
   "cell_type": "code",
   "execution_count": 22,
   "metadata": {},
   "outputs": [],
   "source": [
    "window = 180\n",
    "\n",
    "class data_simulation:\n",
    "\n",
    "    def __init__(self):\n",
    "        self.df_data = df_ecg\n",
    "        self.starting_frame = 0\n",
    "        self.ending_frame = window\n",
    "        self.iteration = 0\n",
    "        self.df_data_simu = self.df_data.loc[self.starting_frame:self.ending_frame + self.iteration ]\n",
    "\n",
    "    def __call__(self):\n",
    "        self.iteration += 1\n",
    "        self.df_data_simu = self.df_data.loc[self.starting_frame:self.ending_frame + self.iteration ]"
   ]
  },
  {
   "cell_type": "code",
   "execution_count": 23,
   "metadata": {},
   "outputs": [],
   "source": [
    "df_ecg = df"
   ]
  },
  {
   "cell_type": "code",
   "execution_count": 28,
   "metadata": {},
   "outputs": [
    {
     "output_type": "execute_result",
     "data": {
      "text/plain": [
       "0"
      ]
     },
     "metadata": {},
     "execution_count": 28
    }
   ],
   "source": [
    "data_simu = data_simulation()\n",
    "data_simu.iteration"
   ]
  },
  {
   "cell_type": "code",
   "execution_count": 33,
   "metadata": {},
   "outputs": [
    {
     "output_type": "execute_result",
     "data": {
      "text/plain": [
       "3"
      ]
     },
     "metadata": {},
     "execution_count": 33
    }
   ],
   "source": [
    "data_simu()\n",
    "data_simu.iteration"
   ]
  },
  {
   "cell_type": "code",
   "execution_count": null,
   "metadata": {},
   "outputs": [],
   "source": []
  },
  {
   "cell_type": "code",
   "execution_count": 95,
   "metadata": {},
   "outputs": [
    {
     "output_type": "execute_result",
     "data": {
      "text/plain": [
       "         ECG\n",
       "0   -819.200\n",
       "1   -802.816\n",
       "2   -802.816\n",
       "3   -802.816\n",
       "4   -819.200\n",
       "..       ...\n",
       "178 -819.200\n",
       "179 -802.816\n",
       "180 -819.200\n",
       "181 -819.200\n",
       "182 -753.664\n",
       "\n",
       "[183 rows x 1 columns]"
      ],
      "text/html": "<div>\n<style scoped>\n    .dataframe tbody tr th:only-of-type {\n        vertical-align: middle;\n    }\n\n    .dataframe tbody tr th {\n        vertical-align: top;\n    }\n\n    .dataframe thead th {\n        text-align: right;\n    }\n</style>\n<table border=\"1\" class=\"dataframe\">\n  <thead>\n    <tr style=\"text-align: right;\">\n      <th></th>\n      <th>ECG</th>\n    </tr>\n  </thead>\n  <tbody>\n    <tr>\n      <th>0</th>\n      <td>-819.200</td>\n    </tr>\n    <tr>\n      <th>1</th>\n      <td>-802.816</td>\n    </tr>\n    <tr>\n      <th>2</th>\n      <td>-802.816</td>\n    </tr>\n    <tr>\n      <th>3</th>\n      <td>-802.816</td>\n    </tr>\n    <tr>\n      <th>4</th>\n      <td>-819.200</td>\n    </tr>\n    <tr>\n      <th>...</th>\n      <td>...</td>\n    </tr>\n    <tr>\n      <th>178</th>\n      <td>-819.200</td>\n    </tr>\n    <tr>\n      <th>179</th>\n      <td>-802.816</td>\n    </tr>\n    <tr>\n      <th>180</th>\n      <td>-819.200</td>\n    </tr>\n    <tr>\n      <th>181</th>\n      <td>-819.200</td>\n    </tr>\n    <tr>\n      <th>182</th>\n      <td>-753.664</td>\n    </tr>\n  </tbody>\n</table>\n<p>183 rows × 1 columns</p>\n</div>"
     },
     "metadata": {},
     "execution_count": 95
    }
   ],
   "source": [
    "data_simu.update()\n",
    "data_simu.df_data_simu"
   ]
  },
  {
   "cell_type": "code",
   "execution_count": null,
   "metadata": {},
   "outputs": [],
   "source": []
  }
 ]
}